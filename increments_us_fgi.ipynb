{
 "cells": [
  {
   "cell_type": "code",
   "execution_count": null,
   "id": "00313ac4-52ae-40f9-9569-1b8e66b232f9",
   "metadata": {},
   "outputs": [],
   "source": [
    "import datetime\n",
    "import time\n",
    "import unittest\n",
    "import pandas as pd\n",
    "import pytz\n",
    "import matplotlib.pyplot as plt\n",
    "import cufflinks as cf"
   ]
  },
  {
   "cell_type": "code",
   "execution_count": null,
   "id": "1ff0dc76-83f7-481b-b92f-ce6096278b0c",
   "metadata": {},
   "outputs": [],
   "source": [
    "from tigeropen.common.consts import BarPeriod\n",
    "from tigeropen.quote.quote_client import QuoteClient\n",
    "from tigeropen.tiger_open_config import TigerOpenClientConfig"
   ]
  },
  {
   "cell_type": "code",
   "execution_count": null,
   "id": "1e4d5cb7-594f-4cd5-b4a5-f8fa9e383eef",
   "metadata": {},
   "outputs": [],
   "source": [
    "pd.set_option('display.max_columns', 500)\n",
    "pd.set_option('display.max_rows', 100)\n",
    "pd.set_option('display.width', 1000)"
   ]
  },
  {
   "cell_type": "code",
   "execution_count": null,
   "id": "12ff9370-1a7b-4da6-bcaf-5cca09d27d56",
   "metadata": {},
   "outputs": [],
   "source": [
    "def get_client_config():\n",
    "    \"\"\"\n",
    "    https://quant.itigerup.com/#developer 开发者信息获取\n",
    "    \"\"\"\n",
    "    # 港股牌照需用 props_path 参数指定token路径，如 '/Users/xxx/xxx/', 如不指定则取当前路径\n",
    "    client_config = TigerOpenClientConfig(props_path='tiger_openapi_config.properties')\n",
    "    return client_config"
   ]
  },
  {
   "cell_type": "code",
   "execution_count": null,
   "id": "3ef9cb47-0344-4694-9572-9d2b19a17f68",
   "metadata": {},
   "outputs": [],
   "source": [
    "# 调用上方定义的函数生成用户配置ClientConfig对象\n",
    "client_config = get_client_config()\n",
    "\n",
    "# 随后传入配置参数对象来初始化QuoteClient\n",
    "quote_client = QuoteClient(client_config)\n",
    "\n",
    "SYMBOL = \"symbol\"\n",
    "TIME = \"time\"\n",
    "CLOSE = \"close\"\n",
    "DATE = \"date\"\n",
    "\n",
    "# 需要请求的k线bar的总个数.  total number of requested bars.\n",
    "BARS_TOTAL_NUMBER = 2000\n",
    "\n",
    "# 每次请求bar的个数，系统限制每个symbol每次最多请求1200个bar.\n",
    "# number of bars per request, the system limits each symbol to a maximum of 1200 bars per request.\n",
    "BARS_BATCH_SIZE = 300\n",
    "\n",
    "# 每次请求symbol的个数，系统限制每次最多请求50个symbol\n",
    "# number of symbols per request, the system limits each request to a maximum of 50 symbols.\n",
    "SYMBOLS_BATCH_SIZE = 50\n",
    "\n",
    "# 每次请求的间隔时间，防止过快的请求频率触发系统限流. 单位：秒\n",
    "# The interval between each request, to prevent requests too fast to trigger the system rate limit. Time unit: second\n",
    "REQUEST_INTERVAL = 0.5"
   ]
  },
  {
   "cell_type": "code",
   "execution_count": null,
   "id": "375ab19d-0fe3-4a32-9947-5ab11b455d27",
   "metadata": {},
   "outputs": [],
   "source": [
    "def request_bars(symbols, period, end_time, bars_batch_size):\n",
    "        \"\"\"\n",
    "        请求k线. Request history bars.\n",
    "        :param symbols: like ['AAPL', 'TSLA']\n",
    "        :param period: k线周期. tigeropen.common.consts.BarPeriod. like BarPeriod.DAY\n",
    "        :param end_time: end time in timestamp format. like 1645499400000\n",
    "        :param bars_batch_size: 每个symbol限制请求的bar数量. bars limit size of each symbol\n",
    "        :return:\n",
    "        \"\"\"\n",
    "        symbols = list(symbols)\n",
    "        result = pd.DataFrame()\n",
    "        for i in range(0, len(symbols), SYMBOLS_BATCH_SIZE):\n",
    "            part = symbols[i:i + SYMBOLS_BATCH_SIZE]\n",
    "            quote = quote_client.get_bars(part, period=period, end_time=end_time, limit=bars_batch_size)\n",
    "            #result = result.append(quote)\n",
    "            result = pd.concat([result, quote])\n",
    "            # to avoid rate limit\n",
    "            time.sleep(REQUEST_INTERVAL)\n",
    "        return result"
   ]
  },
  {
   "cell_type": "code",
   "execution_count": null,
   "id": "1b4a09e4-ba30-4d18-8f85-9965f7a27b80",
   "metadata": {},
   "outputs": [],
   "source": [
    "# US market\n",
    "symbols = ['BABA', 'PDD', 'JD', 'NTES', 'NIO', 'XPEV', 'LI']\n",
    "timezone = 'US/Eastern'\n",
    "\n",
    "end = int(datetime.datetime.today().timestamp() * 1000)\n",
    "history = pd.DataFrame()\n",
    "for i in range(0, BARS_TOTAL_NUMBER, BARS_BATCH_SIZE):\n",
    "    if i + BARS_BATCH_SIZE <= BARS_TOTAL_NUMBER:\n",
    "        limit = BARS_BATCH_SIZE\n",
    "    else:\n",
    "        limit = i + BARS_BATCH_SIZE - BARS_TOTAL_NUMBER\n",
    "    end_time = datetime.datetime.fromtimestamp(end/1000, pytz.timezone(timezone))\n",
    "    print(f'query {len(symbols)} symobls history, end_time:{end} -- {end_time}, limit:{limit}')\n",
    "    # 其他周期可修改period参数. \n",
    "    part = request_bars(symbols=symbols, period=BarPeriod.DAY, end_time=end, bars_batch_size=BARS_BATCH_SIZE)\n",
    "    part[DATE] = pd.to_datetime(part[TIME], unit='ms').dt.tz_localize('UTC').dt.tz_convert(timezone)\n",
    "    if (len(part[TIME]) == 0): \n",
    "        break\n",
    "    end = min(part[TIME])\n",
    "    history = pd.concat([history, part])\n",
    "history.set_index([DATE], inplace=True)\n",
    "history.sort_index(inplace=True)\n",
    "\n",
    "now = datetime.datetime.now()\n",
    "years_ago = now - datetime.timedelta(days=1600)\n",
    "timestamp_millis = int(years_ago.timestamp() * 1000)\n",
    "history.drop(history[history[TIME] < timestamp_millis].index, inplace=True)\n",
    "\n",
    "history.drop('time', axis=1, inplace=True)\n",
    "history.drop('amount', axis=1, inplace=True)\n",
    "history.drop('next_page_token', axis=1, inplace=True)\n",
    "\n",
    "print(history)"
   ]
  },
  {
   "cell_type": "code",
   "execution_count": null,
   "id": "77a3a19a-4ca3-4dbf-b8f3-620c157e08cc",
   "metadata": {},
   "outputs": [],
   "source": [
    "ind = history.groupby('date').agg({'open':'sum', 'high':'sum', 'low':'sum', 'close':'sum', 'volume':'sum'}).reset_index()\n",
    "indexation = pd.DataFrame(ind)\n",
    "indexation.set_index([DATE], inplace=True)\n",
    "indexation.sort_index(inplace=True)\n",
    "\n",
    "print(indexation)"
   ]
  },
  {
   "cell_type": "code",
   "execution_count": null,
   "id": "8c818709-5580-4423-92cf-ce49a2b2f0bb",
   "metadata": {},
   "outputs": [],
   "source": [
    "cnn = indexation\n",
    "# 价格动量\n",
    "cnn['125d_MA'] = cnn[CLOSE].rolling(window=125).mean()\n",
    "cnn.dropna(how='any', inplace=True)\n",
    "cnn['Momentum'] = cnn[CLOSE] / cnn['125d_MA']\n",
    "print(cnn)"
   ]
  },
  {
   "cell_type": "code",
   "execution_count": null,
   "id": "95be2752-75e0-4ed7-8d72-735c5f5263c0",
   "metadata": {},
   "outputs": [],
   "source": [
    "# 价格强度\n",
    "cnn['52w_High'] = cnn[CLOSE].rolling(window=252).max()\n",
    "cnn['52w_Low'] = cnn[CLOSE].rolling(window=252).min()\n",
    "cnn.dropna(how='any', inplace=True)\n",
    "new_highs = (cnn[CLOSE] == cnn['52w_High']).sum()\n",
    "new_lows = (cnn[CLOSE] == cnn['52w_Low']).sum()\n",
    "cnn['Strength'] = new_highs / (new_highs + new_lows)\n",
    "\n",
    "print(cnn)"
   ]
  },
  {
   "cell_type": "code",
   "execution_count": null,
   "id": "461bcd13-4bff-4136-b4c0-01bc8b55551b",
   "metadata": {},
   "outputs": [],
   "source": [
    "# 价格宽度\n",
    "advances = (cnn[CLOSE].diff() > 0).sum()\n",
    "declines = (cnn[CLOSE].diff() < 0).sum()\n",
    "cnn['Breadth'] = advances / (advances + declines)\n",
    "# 市场波动\n",
    "cnn['Volatility'] = cnn[CLOSE].pct_change().rolling(window=30).std()\n",
    "# 市场成交量\n",
    "cnn['Volume_Change'] = cnn['volume'].rolling(window=30).mean()\n",
    "cnn.dropna(how='any', inplace=True)\n",
    "print(cnn)"
   ]
  },
  {
   "cell_type": "code",
   "execution_count": null,
   "id": "40c939e9-5f11-4a02-97c2-05a25a6b091c",
   "metadata": {},
   "outputs": [],
   "source": [
    "# 标准化指标\n",
    "factors = ['Momentum', 'Strength', 'Breadth', 'Volatility', 'Volume_Change']\n",
    "indexation_normalized = (cnn[factors] - cnn[factors].min()) / (cnn[factors].max() - cnn[factors].min())\n",
    "\n",
    "# 计算恐慌贪婪指数\n",
    "cnn['Fear_Greed_Index'] = indexation_normalized.mean(axis=1) * 100\n",
    "\n",
    "# 查看恐慌贪婪指数\n",
    "cnn.dropna(how='any', inplace=True)\n",
    "print(cnn)"
   ]
  },
  {
   "cell_type": "code",
   "execution_count": null,
   "id": "c1876d40-d534-44a6-a90d-6a8884209a91",
   "metadata": {},
   "outputs": [],
   "source": [
    "layout = {\n",
    "    'shapes': [\n",
    "        {\n",
    "            'type': 'line',\n",
    "            'x0': cnn.index.min(),\n",
    "            'y0': 75,  # 指定线的y值\n",
    "            'x1': cnn.index.max(),\n",
    "            'y1': 75,  # 线的y值保持不变，因为这是一条水平线\n",
    "            'line': {\n",
    "                'color': 'green',\n",
    "                'width': 1,\n",
    "                'dash': 'dot',  # 线的样式（实线、虚线等）\n",
    "            },\n",
    "        },\n",
    "        {\n",
    "            'type': 'line',\n",
    "            'x0': cnn.index.min(),\n",
    "            'y0': 50,  # 指定线的y值\n",
    "            'x1': cnn.index.max(),\n",
    "            'y1': 50,  # 线的y值保持不变，因为这是一条水平线\n",
    "            'line': {\n",
    "                'color': 'gray',\n",
    "                'width': 2,\n",
    "                'dash': 'dot',  # 线的样式（实线、虚线等）\n",
    "            },\n",
    "        },\n",
    "        {\n",
    "            'type': 'line',\n",
    "            'x0': cnn.index.min(),\n",
    "            'y0': 25,  # 指定线的y值\n",
    "            'x1': cnn.index.max(),\n",
    "            'y1': 25,  # 线的y值保持不变，因为这是一条水平线\n",
    "            'line': {\n",
    "                'color': 'red',\n",
    "                'width': 1,\n",
    "                'dash': 'dot',  # 线的样式（实线、虚线等）\n",
    "            },\n",
    "        }\n",
    "    ],\n",
    "    'yaxis': {\n",
    "        'range': [0, 100]  # 设置y轴的最小值和最大值\n",
    "    },\n",
    "    'title': 'Fear & Greed Index (China Main Increasements)'\n",
    "}\n",
    "\n",
    "cnn['Fear_Greed_Index'].iplot(kind='line', layout=layout)"
   ]
  },
  {
   "cell_type": "code",
   "execution_count": null,
   "id": "c15d4818-8106-486c-9dbd-245b825367bb",
   "metadata": {},
   "outputs": [],
   "source": []
  }
 ],
 "metadata": {
  "kernelspec": {
   "display_name": "Python 3 (ipykernel)",
   "language": "python",
   "name": "python3"
  },
  "language_info": {
   "codemirror_mode": {
    "name": "ipython",
    "version": 3
   },
   "file_extension": ".py",
   "mimetype": "text/x-python",
   "name": "python",
   "nbconvert_exporter": "python",
   "pygments_lexer": "ipython3",
   "version": "3.11.6"
  }
 },
 "nbformat": 4,
 "nbformat_minor": 5
}
