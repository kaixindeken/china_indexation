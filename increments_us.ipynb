{
 "cells": [
  {
   "cell_type": "code",
   "execution_count": 2,
   "id": "1d769bc0-3d24-445f-a79c-e260521a24ab",
   "metadata": {},
   "outputs": [],
   "source": [
    "import datetime\n",
    "import time\n",
    "import unittest\n",
    "import pandas as pd\n",
    "import pytz\n",
    "import matplotlib.pyplot as plt"
   ]
  },
  {
   "cell_type": "code",
   "execution_count": 3,
   "id": "ea8dba54-0744-4b38-a179-41ee4f8f4aec",
   "metadata": {},
   "outputs": [],
   "source": [
    "from tigeropen.common.consts import BarPeriod\n",
    "from tigeropen.quote.quote_client import QuoteClient\n",
    "from tigeropen.tiger_open_config import TigerOpenClientConfig"
   ]
  },
  {
   "cell_type": "code",
   "execution_count": 4,
   "id": "93ee5a63-56a2-4e23-8583-d98c84ec4625",
   "metadata": {},
   "outputs": [],
   "source": [
    "pd.set_option('display.max_columns', 500)\n",
    "pd.set_option('display.max_rows', 100)\n",
    "pd.set_option('display.width', 1000)"
   ]
  },
  {
   "cell_type": "code",
   "execution_count": 5,
   "id": "4accacdf-8f87-4897-afa8-abc04a242995",
   "metadata": {},
   "outputs": [],
   "source": [
    "def get_client_config():\n",
    "    \"\"\"\n",
    "    https://quant.itigerup.com/#developer 开发者信息获取\n",
    "    \"\"\"\n",
    "    # 港股牌照需用 props_path 参数指定token路径，如 '/Users/xxx/xxx/', 如不指定则取当前路径\n",
    "    client_config = TigerOpenClientConfig(props_path='tiger_openapi_config.properties')\n",
    "    return client_config"
   ]
  },
  {
   "cell_type": "code",
   "execution_count": 6,
   "id": "4070fd22-c70a-4767-824f-cdec2527357d",
   "metadata": {},
   "outputs": [],
   "source": [
    "# 调用上方定义的函数生成用户配置ClientConfig对象\n",
    "client_config = get_client_config()\n",
    "\n",
    "# 随后传入配置参数对象来初始化QuoteClient\n",
    "quote_client = QuoteClient(client_config)\n",
    "\n",
    "SYMBOL = \"symbol\"\n",
    "TIME = \"time\"\n",
    "CLOSE = \"close\"\n",
    "DATE = \"date\"\n",
    "\n",
    "# 需要请求的k线bar的总个数.  total number of requested bars.\n",
    "BARS_TOTAL_NUMBER = 2000\n",
    "\n",
    "# 每次请求bar的个数，系统限制每个symbol每次最多请求1200个bar.\n",
    "# number of bars per request, the system limits each symbol to a maximum of 1200 bars per request.\n",
    "BARS_BATCH_SIZE = 300\n",
    "\n",
    "# 每次请求symbol的个数，系统限制每次最多请求50个symbol\n",
    "# number of symbols per request, the system limits each request to a maximum of 50 symbols.\n",
    "SYMBOLS_BATCH_SIZE = 50\n",
    "\n",
    "# 每次请求的间隔时间，防止过快的请求频率触发系统限流. 单位：秒\n",
    "# The interval between each request, to prevent requests too fast to trigger the system rate limit. Time unit: second\n",
    "REQUEST_INTERVAL = 0.5"
   ]
  },
  {
   "cell_type": "code",
   "execution_count": 7,
   "id": "b4c44c46-7a00-4639-a323-c9d92a5d399b",
   "metadata": {},
   "outputs": [],
   "source": [
    "def request_bars(symbols, period, end_time, bars_batch_size):\n",
    "        \"\"\"\n",
    "        请求k线. Request history bars.\n",
    "        :param symbols: like ['AAPL', 'TSLA']\n",
    "        :param period: k线周期. tigeropen.common.consts.BarPeriod. like BarPeriod.DAY\n",
    "        :param end_time: end time in timestamp format. like 1645499400000\n",
    "        :param bars_batch_size: 每个symbol限制请求的bar数量. bars limit size of each symbol\n",
    "        :return:\n",
    "        \"\"\"\n",
    "        symbols = list(symbols)\n",
    "        result = pd.DataFrame()\n",
    "        for i in range(0, len(symbols), SYMBOLS_BATCH_SIZE):\n",
    "            part = symbols[i:i + SYMBOLS_BATCH_SIZE]\n",
    "            quote = quote_client.get_bars(part, period=period, end_time=end_time, limit=bars_batch_size)\n",
    "            #result = result.append(quote)\n",
    "            result = pd.concat([result, quote])\n",
    "            # to avoid rate limit\n",
    "            time.sleep(REQUEST_INTERVAL)\n",
    "        return result"
   ]
  },
  {
   "cell_type": "code",
   "execution_count": 8,
   "id": "b693eed1-98c2-4125-a34c-728274ddfbd1",
   "metadata": {},
   "outputs": [
    {
     "name": "stdout",
     "output_type": "stream",
     "text": [
      "query 7 symobls history, end_time:1707010684833 -- 2024-02-03 20:38:04.833000-05:00, limit:300\n",
      "query 7 symobls history, end_time:959832000000 -- 2000-06-01 00:00:00-04:00, limit:300\n",
      "                          symbol     open     high      low    close     volume\n",
      "date                                                                           \n",
      "2014-09-01 00:00:00-04:00   NTES   17.544   18.140   16.774   17.132   24260500\n",
      "2014-09-01 00:00:00-04:00     JD   32.000   32.350   25.300   25.820  108197700\n",
      "2014-09-01 00:00:00-04:00   BABA   92.700   99.700   86.620   88.850  454681100\n",
      "2014-10-01 00:00:00-04:00   NTES   17.212   19.158   16.284   18.944   51385500\n",
      "2014-10-01 00:00:00-04:00   BABA   88.700  100.670   82.810   98.600  399677000\n",
      "...                          ...      ...      ...      ...      ...        ...\n",
      "2024-02-01 00:00:00-05:00    NIO    5.730    5.915    5.430    5.540  108346952\n",
      "2024-02-01 00:00:00-05:00   NTES  100.290  101.760   98.185   98.830    2459591\n",
      "2024-02-01 00:00:00-05:00   XPEV    8.500    8.730    8.020    8.190   24764168\n",
      "2024-02-01 00:00:00-05:00    PDD  127.220  129.155  122.250  124.590   13205523\n",
      "2024-02-01 00:00:00-05:00     LI   28.480   29.630   28.265   28.340   18324387\n",
      "\n",
      "[563 rows x 6 columns]\n"
     ]
    }
   ],
   "source": [
    "# US market\n",
    "symbols = ['BABA', 'PDD', 'JD', 'NTES', 'NIO', 'XPEV', 'LI']\n",
    "timezone = 'US/Eastern'\n",
    "\n",
    "end = int(datetime.datetime.today().timestamp() * 1000)\n",
    "history = pd.DataFrame()\n",
    "for i in range(0, BARS_TOTAL_NUMBER, BARS_BATCH_SIZE):\n",
    "    if i + BARS_BATCH_SIZE <= BARS_TOTAL_NUMBER:\n",
    "        limit = BARS_BATCH_SIZE\n",
    "    else:\n",
    "        limit = i + BARS_BATCH_SIZE - BARS_TOTAL_NUMBER\n",
    "    end_time = datetime.datetime.fromtimestamp(end/1000, pytz.timezone(timezone))\n",
    "    print(f'query {len(symbols)} symobls history, end_time:{end} -- {end_time}, limit:{limit}')\n",
    "    # 其他周期可修改period参数. \n",
    "    part = request_bars(symbols=symbols, period=BarPeriod.MONTH, end_time=end, bars_batch_size=BARS_BATCH_SIZE)\n",
    "    part[DATE] = pd.to_datetime(part[TIME], unit='ms').dt.tz_localize('UTC').dt.tz_convert(timezone)\n",
    "    if (len(part[TIME]) == 0): \n",
    "        break\n",
    "    end = min(part[TIME])\n",
    "    history = pd.concat([history, part])\n",
    "history.set_index([DATE], inplace=True)\n",
    "history.sort_index(inplace=True)\n",
    "\n",
    "# 2014年9月1日\n",
    "history.drop(history[history[TIME] < 1409500800000].index, inplace=True)\n",
    "\n",
    "history.drop('time', axis=1, inplace=True)\n",
    "history.drop('amount', axis=1, inplace=True)\n",
    "history.drop('next_page_token', axis=1, inplace=True)\n",
    "\n",
    "print(history)"
   ]
  },
  {
   "cell_type": "code",
   "execution_count": 9,
   "id": "89264bf6-d670-4a27-92af-e90637101ad5",
   "metadata": {},
   "outputs": [
    {
     "name": "stdout",
     "output_type": "stream",
     "text": [
      "                              open      high      low    close      volume\n",
      "date                                                                      \n",
      "2014-09-01 00:00:00-04:00  142.244  150.1900  128.694  131.802   587139300\n",
      "2014-10-01 00:00:00-04:00  131.432  146.6180  121.694  141.434   546810500\n",
      "2014-11-01 00:00:00-04:00  142.368  169.8940  140.676  156.294   803599100\n",
      "2014-12-01 00:00:00-05:00  154.490  158.8200  142.026  146.908   512507200\n",
      "2015-01-01 00:00:00-05:00  147.574  154.5880  129.690  135.770   502175600\n",
      "...                            ...       ...      ...      ...         ...\n",
      "2023-10-01 00:00:00-04:00  377.268  406.2363  348.760  371.890  1784067732\n",
      "2023-11-01 00:00:00-04:00  372.155  453.2400  359.580  424.060  2078303678\n",
      "2023-12-01 00:00:00-05:00  416.430  435.3050  365.560  406.960  2835371119\n",
      "2024-01-01 00:00:00-05:00  398.980  420.9700  336.870  360.860  2890076288\n",
      "2024-02-01 00:00:00-05:00  365.955  371.3373  354.725  359.120   231815612\n",
      "\n",
      "[114 rows x 5 columns]\n"
     ]
    }
   ],
   "source": [
    "ind = history.groupby('date').agg({'open':'sum', 'high':'sum', 'low':'sum', 'close':'sum', 'volume':'sum'}).reset_index()\n",
    "indexation = pd.DataFrame(ind)\n",
    "indexation.set_index([DATE], inplace=True)\n",
    "indexation.sort_index(inplace=True)\n",
    "\n",
    "print(indexation)"
   ]
  },
  {
   "cell_type": "code",
   "execution_count": 10,
   "id": "aad3964f",
   "metadata": {},
   "outputs": [
    {
     "data": {
      "text/html": [
       "        <script type=\"text/javascript\">\n",
       "        window.PlotlyConfig = {MathJaxConfig: 'local'};\n",
       "        if (window.MathJax && window.MathJax.Hub && window.MathJax.Hub.Config) {window.MathJax.Hub.Config({SVG: {font: \"STIX-Web\"}});}\n",
       "        if (typeof require !== 'undefined') {\n",
       "        require.undef(\"plotly\");\n",
       "        requirejs.config({\n",
       "            paths: {\n",
       "                'plotly': ['https://cdn.plot.ly/plotly-2.27.0.min']\n",
       "            }\n",
       "        });\n",
       "        require(['plotly'], function(Plotly) {\n",
       "            window._Plotly = Plotly;\n",
       "        });\n",
       "        }\n",
       "        </script>\n",
       "        "
      ]
     },
     "metadata": {},
     "output_type": "display_data"
    }
   ],
   "source": [
    "import cufflinks as cf"
   ]
  },
  {
   "cell_type": "code",
   "execution_count": 12,
   "id": "3889192e",
   "metadata": {},
   "outputs": [
    {
     "data": {
      "text/html": [
       "        <script type=\"text/javascript\">\n",
       "        window.PlotlyConfig = {MathJaxConfig: 'local'};\n",
       "        if (window.MathJax && window.MathJax.Hub && window.MathJax.Hub.Config) {window.MathJax.Hub.Config({SVG: {font: \"STIX-Web\"}});}\n",
       "        if (typeof require !== 'undefined') {\n",
       "        require.undef(\"plotly\");\n",
       "        requirejs.config({\n",
       "            paths: {\n",
       "                'plotly': ['https://cdn.plot.ly/plotly-2.27.0.min']\n",
       "            }\n",
       "        });\n",
       "        require(['plotly'], function(Plotly) {\n",
       "            window._Plotly = Plotly;\n",
       "        });\n",
       "        }\n",
       "        </script>\n",
       "        "
      ]
     },
     "metadata": {},
     "output_type": "display_data"
    },
    {
     "data": {
      "application/vnd.plotly.v1+json": {
       "config": {
        "linkText": "Export to plot.ly",
        "plotlyServerURL": "https://plot.ly",
        "showLink": true
       },
       "data": [
        {
         "close": [
          131.802,
          141.434,
          156.29399999999998,
          146.908,
          135.76999999999998,
          132.798,
          133.67999999999998,
          140.488,
          151.28199999999998,
          145.344,
          139.096,
          114.236,
          109.054,
          140.356,
          148.092,
          149.783,
          124.28800000000001,
          121.44200000000001,
          134.246,
          130.64,
          142.178,
          139.404,
          144.984,
          164.994,
          180.036,
          179.038,
          165.71,
          156.31799999999998,
          180.49,
          194.482,
          195.74,
          203.648,
          219.446,
          240.246,
          262.376,
          268.818,
          263.672,
          278.794,
          280.27200000000005,
          282.86400000000003,
          317.552,
          291.96,
          280.108,
          266.464,
          278.854,
          275.014,
          297.28,
          265.202,
          269.77,
          230.92000000000002,
          258.17400000000004,
          233.88400000000001,
          280.81600000000003,
          294.894,
          290.78999999999996,
          299.826,
          247.212,
          274.07399999999996,
          274.92400000000004,
          292.15999999999997,
          282.45599999999996,
          307.322,
          333.93399999999997,
          350.498,
          347.432,
          350.162,
          337.98199999999997,
          365.61199999999997,
          409.15,
          455.316,
          526.234,
          607.882,
          595.354,
          633.11,
          723.1700000000001,
          714.47,
          760.65,
          717.9,
          648.6899999999999,
          643.79,
          624.76,
          681.42,
          578.49,
          555.6600000000001,
          493.82000000000005,
          548.4,
          515.44,
          463.05,
          449.56,
          413.68,
          370.92,
          360.90999999999997,
          372.21,
          424.83,
          367.86,
          385.91,
          319.2,
          241.23,
          343.49,
          338.49,
          403.93,
          339.52,
          356.98,
          318.56,
          307.01,
          341.52,
          421.05,
          398.27000000000004,
          377.15,
          371.89,
          424.06,
          406.96,
          360.86,
          359.12
         ],
         "decreasing": {
          "line": {
           "color": "#db4052"
          }
         },
         "high": [
          150.19,
          146.618,
          169.894,
          158.82,
          154.588,
          144.064,
          139.108,
          150.088,
          160.49,
          160.576,
          151.846,
          145.974,
          121.134,
          143.234,
          151.674,
          156.58999999999997,
          144.4832,
          129.558,
          139.18,
          145.21,
          143.5,
          143.16400000000002,
          149.9538,
          168.914,
          188.056,
          192.751,
          183.778,
          167.195,
          185.016,
          198.06,
          204.652,
          208.86599999999999,
          228.734,
          259.98,
          271.424,
          289.269,
          285.91,
          282.764,
          309.53999999999996,
          299.688,
          327.964,
          313.92,
          314.95,
          282.818,
          295.404,
          309.79999999999995,
          320.058,
          301.2099,
          294.2435,
          276.236,
          267.82,
          276.71000000000004,
          285.214,
          306.77,
          310.42400000000004,
          310.149,
          313.807,
          281.656,
          292.48,
          301.41700000000003,
          312.79519999999997,
          315.24,
          348.15999999999997,
          364.4,
          391.04,
          384.9,
          373.172,
          395.234,
          431.9604,
          480.204,
          570.7339999999999,
          646.34,
          644.6220000000001,
          672.324,
          837.61,
          795.38,
          858.85,
          878.7515000000001,
          758.865,
          710.03,
          672.6199,
          708.7399,
          693.89,
          618.5335,
          587.58,
          609.1424999999999,
          614.285,
          535.8999,
          518.545,
          480.095,
          445.5112,
          420.52000000000004,
          397.2649,
          468.4189,
          458.515,
          424.9799,
          390.19,
          345.26370000000003,
          354.92,
          375.9944,
          440.5,
          424.505,
          390.4699,
          365.015,
          343.48,
          377.85490000000004,
          427.1625,
          438.3836,
          417.32,
          406.2363,
          453.24,
          435.305,
          420.96999999999997,
          371.3373
         ],
         "increasing": {
          "line": {
           "color": "#008000"
          }
         },
         "low": [
          128.69400000000002,
          121.69399999999999,
          140.676,
          142.026,
          129.69,
          127.99799999999999,
          125.914,
          130.38600000000002,
          134.272,
          140.59199999999998,
          127.556,
          100.11,
          101.12,
          106.50200000000001,
          130.3308,
          141.2742,
          120.41,
          107.305,
          121.59,
          126.374,
          123.43,
          125.01,
          134.287,
          143.21,
          163.9348,
          173.042,
          154.533,
          153.482,
          156.791,
          177.9282,
          188.04199999999997,
          189.118,
          200.322,
          215.788,
          236.025,
          238.71800000000002,
          255.25,
          256.67,
          265.148,
          262.46,
          280.94,
          266.578,
          268.68609999999995,
          250.7,
          254.9943,
          263.2,
          285.064,
          250.886,
          238.1,
          211.865,
          222.0464,
          218.79200000000003,
          221.27800000000002,
          263.172,
          268.313,
          279.505,
          244.75,
          243.721,
          261.237,
          243.41199999999998,
          272.245,
          271.63800000000003,
          295.692,
          317.002,
          335.848,
          333.913,
          288.131,
          322.41700000000003,
          342.879,
          400.366,
          457.272,
          525.836,
          545.0351,
          570.12,
          575.6410000000001,
          606.74,
          677.64,
          695.115,
          594.02,
          599.63,
          554.14,
          597.2755999999999,
          500.2201,
          465.605,
          476.437,
          463.6017,
          477.4101,
          408.58,
          383.48,
          375.64,
          254.55,
          308.15,
          288.895,
          346.65000000000003,
          351.77,
          332.72499999999997,
          308.01,
          210.214,
          239.97,
          320.725,
          345.3951,
          330.09999999999997,
          304.992,
          300.777,
          286.90000000000003,
          303.045,
          336.595,
          353.275,
          356.105,
          348.76,
          359.58,
          365.56,
          336.87,
          354.725
         ],
         "name": "QF",
         "open": [
          142.244,
          131.43200000000002,
          142.368,
          154.49,
          147.574,
          138.028,
          133.08,
          133.76600000000002,
          140.58,
          152.708,
          145.36599999999999,
          138.55,
          111.02199999999999,
          110.412,
          139.97,
          147.04999999999998,
          143.27,
          123.29,
          124.128,
          132.964,
          130.288,
          138.702,
          139,
          145.33,
          165.09,
          180.228,
          178.13,
          165.812,
          158.826,
          181.938,
          196.014,
          196.94799999999998,
          203.84199999999998,
          220.058,
          242.096,
          264.87,
          269.19,
          265.998,
          282.696,
          277.216,
          288.139,
          303.254,
          292.08000000000004,
          279.298,
          265.40200000000004,
          280.93,
          296.056,
          292.256,
          267.468,
          271.346,
          234.95999999999998,
          270.258,
          228.732,
          279.382,
          298.21,
          295.81600000000003,
          301.386,
          247.68599999999998,
          283.947,
          276.59799999999996,
          289.37600000000003,
          283.298,
          311.24,
          332.668,
          357.916,
          350.001,
          354.986,
          330.124,
          355.317,
          407.98199999999997,
          469.8675,
          555.666,
          613.64,
          600.29,
          649.13,
          735.245,
          714.01,
          781.71,
          740.25,
          671.94,
          643.8624,
          648.175,
          686.99,
          583.8535,
          556.235,
          494.9588,
          551.4401,
          528.7950000000001,
          465.71000000000004,
          449.278,
          413.75,
          399.46,
          357.46000000000004,
          372.33,
          425.64,
          363.455,
          377.35,
          317.714,
          259.73,
          331.44,
          353.4,
          415.2,
          358.805,
          353.53,
          317.16,
          304.31,
          352.38,
          414.995,
          404.49,
          377.26800000000003,
          372.155,
          416.43,
          398.97999999999996,
          365.955
         ],
         "showlegend": true,
         "type": "candlestick",
         "x": [
          "2014-09-01 00:00:00-04:00",
          "2014-10-01 00:00:00-04:00",
          "2014-11-01 00:00:00-04:00",
          "2014-12-01 00:00:00-05:00",
          "2015-01-01 00:00:00-05:00",
          "2015-02-01 00:00:00-05:00",
          "2015-03-01 00:00:00-05:00",
          "2015-04-01 00:00:00-04:00",
          "2015-05-01 00:00:00-04:00",
          "2015-06-01 00:00:00-04:00",
          "2015-07-01 00:00:00-04:00",
          "2015-08-01 00:00:00-04:00",
          "2015-09-01 00:00:00-04:00",
          "2015-10-01 00:00:00-04:00",
          "2015-11-01 00:00:00-04:00",
          "2015-12-01 00:00:00-05:00",
          "2016-01-01 00:00:00-05:00",
          "2016-02-01 00:00:00-05:00",
          "2016-03-01 00:00:00-05:00",
          "2016-04-01 00:00:00-04:00",
          "2016-05-01 00:00:00-04:00",
          "2016-06-01 00:00:00-04:00",
          "2016-07-01 00:00:00-04:00",
          "2016-08-01 00:00:00-04:00",
          "2016-09-01 00:00:00-04:00",
          "2016-10-01 00:00:00-04:00",
          "2016-11-01 00:00:00-04:00",
          "2016-12-01 00:00:00-05:00",
          "2017-01-01 00:00:00-05:00",
          "2017-02-01 00:00:00-05:00",
          "2017-03-01 00:00:00-05:00",
          "2017-04-01 00:00:00-04:00",
          "2017-05-01 00:00:00-04:00",
          "2017-06-01 00:00:00-04:00",
          "2017-07-01 00:00:00-04:00",
          "2017-08-01 00:00:00-04:00",
          "2017-09-01 00:00:00-04:00",
          "2017-10-01 00:00:00-04:00",
          "2017-11-01 00:00:00-04:00",
          "2017-12-01 00:00:00-05:00",
          "2018-01-01 00:00:00-05:00",
          "2018-02-01 00:00:00-05:00",
          "2018-03-01 00:00:00-05:00",
          "2018-04-01 00:00:00-04:00",
          "2018-05-01 00:00:00-04:00",
          "2018-06-01 00:00:00-04:00",
          "2018-07-01 00:00:00-04:00",
          "2018-08-01 00:00:00-04:00",
          "2018-09-01 00:00:00-04:00",
          "2018-10-01 00:00:00-04:00",
          "2018-11-01 00:00:00-04:00",
          "2018-12-01 00:00:00-05:00",
          "2019-01-01 00:00:00-05:00",
          "2019-02-01 00:00:00-05:00",
          "2019-03-01 00:00:00-05:00",
          "2019-04-01 00:00:00-04:00",
          "2019-05-01 00:00:00-04:00",
          "2019-06-01 00:00:00-04:00",
          "2019-07-01 00:00:00-04:00",
          "2019-08-01 00:00:00-04:00",
          "2019-09-01 00:00:00-04:00",
          "2019-10-01 00:00:00-04:00",
          "2019-11-01 00:00:00-04:00",
          "2019-12-01 00:00:00-05:00",
          "2020-01-01 00:00:00-05:00",
          "2020-02-01 00:00:00-05:00",
          "2020-03-01 00:00:00-05:00",
          "2020-04-01 00:00:00-04:00",
          "2020-05-01 00:00:00-04:00",
          "2020-06-01 00:00:00-04:00",
          "2020-07-01 00:00:00-04:00",
          "2020-08-01 00:00:00-04:00",
          "2020-09-01 00:00:00-04:00",
          "2020-10-01 00:00:00-04:00",
          "2020-11-01 00:00:00-04:00",
          "2020-12-01 00:00:00-05:00",
          "2021-01-01 00:00:00-05:00",
          "2021-02-01 00:00:00-05:00",
          "2021-03-01 00:00:00-05:00",
          "2021-04-01 00:00:00-04:00",
          "2021-05-01 00:00:00-04:00",
          "2021-06-01 00:00:00-04:00",
          "2021-07-01 00:00:00-04:00",
          "2021-08-01 00:00:00-04:00",
          "2021-09-01 00:00:00-04:00",
          "2021-10-01 00:00:00-04:00",
          "2021-11-01 00:00:00-04:00",
          "2021-12-01 00:00:00-05:00",
          "2022-01-01 00:00:00-05:00",
          "2022-02-01 00:00:00-05:00",
          "2022-03-01 00:00:00-05:00",
          "2022-04-01 00:00:00-04:00",
          "2022-05-01 00:00:00-04:00",
          "2022-06-01 00:00:00-04:00",
          "2022-07-01 00:00:00-04:00",
          "2022-08-01 00:00:00-04:00",
          "2022-09-01 00:00:00-04:00",
          "2022-10-01 00:00:00-04:00",
          "2022-11-01 00:00:00-04:00",
          "2022-12-01 00:00:00-05:00",
          "2023-01-01 00:00:00-05:00",
          "2023-02-01 00:00:00-05:00",
          "2023-03-01 00:00:00-05:00",
          "2023-04-01 00:00:00-04:00",
          "2023-05-01 00:00:00-04:00",
          "2023-06-01 00:00:00-04:00",
          "2023-07-01 00:00:00-04:00",
          "2023-08-01 00:00:00-04:00",
          "2023-09-01 00:00:00-04:00",
          "2023-10-01 00:00:00-04:00",
          "2023-11-01 00:00:00-04:00",
          "2023-12-01 00:00:00-05:00",
          "2024-01-01 00:00:00-05:00",
          "2024-02-01 00:00:00-05:00"
         ],
         "yaxis": "y2"
        }
       ],
       "layout": {
        "autosize": true,
        "legend": {
         "bgcolor": "#F5F6F9",
         "font": {
          "color": "#4D5663"
         }
        },
        "margin": {
         "b": 30,
         "l": 30,
         "r": 30,
         "t": 30
        },
        "paper_bgcolor": "#F5F6F9",
        "plot_bgcolor": "#F5F6F9",
        "showlegend": true,
        "template": {
         "data": {
          "bar": [
           {
            "error_x": {
             "color": "#2a3f5f"
            },
            "error_y": {
             "color": "#2a3f5f"
            },
            "marker": {
             "line": {
              "color": "#E5ECF6",
              "width": 0.5
             },
             "pattern": {
              "fillmode": "overlay",
              "size": 10,
              "solidity": 0.2
             }
            },
            "type": "bar"
           }
          ],
          "barpolar": [
           {
            "marker": {
             "line": {
              "color": "#E5ECF6",
              "width": 0.5
             },
             "pattern": {
              "fillmode": "overlay",
              "size": 10,
              "solidity": 0.2
             }
            },
            "type": "barpolar"
           }
          ],
          "carpet": [
           {
            "aaxis": {
             "endlinecolor": "#2a3f5f",
             "gridcolor": "white",
             "linecolor": "white",
             "minorgridcolor": "white",
             "startlinecolor": "#2a3f5f"
            },
            "baxis": {
             "endlinecolor": "#2a3f5f",
             "gridcolor": "white",
             "linecolor": "white",
             "minorgridcolor": "white",
             "startlinecolor": "#2a3f5f"
            },
            "type": "carpet"
           }
          ],
          "choropleth": [
           {
            "colorbar": {
             "outlinewidth": 0,
             "ticks": ""
            },
            "type": "choropleth"
           }
          ],
          "contour": [
           {
            "colorbar": {
             "outlinewidth": 0,
             "ticks": ""
            },
            "colorscale": [
             [
              0,
              "#0d0887"
             ],
             [
              0.1111111111111111,
              "#46039f"
             ],
             [
              0.2222222222222222,
              "#7201a8"
             ],
             [
              0.3333333333333333,
              "#9c179e"
             ],
             [
              0.4444444444444444,
              "#bd3786"
             ],
             [
              0.5555555555555556,
              "#d8576b"
             ],
             [
              0.6666666666666666,
              "#ed7953"
             ],
             [
              0.7777777777777778,
              "#fb9f3a"
             ],
             [
              0.8888888888888888,
              "#fdca26"
             ],
             [
              1,
              "#f0f921"
             ]
            ],
            "type": "contour"
           }
          ],
          "contourcarpet": [
           {
            "colorbar": {
             "outlinewidth": 0,
             "ticks": ""
            },
            "type": "contourcarpet"
           }
          ],
          "heatmap": [
           {
            "colorbar": {
             "outlinewidth": 0,
             "ticks": ""
            },
            "colorscale": [
             [
              0,
              "#0d0887"
             ],
             [
              0.1111111111111111,
              "#46039f"
             ],
             [
              0.2222222222222222,
              "#7201a8"
             ],
             [
              0.3333333333333333,
              "#9c179e"
             ],
             [
              0.4444444444444444,
              "#bd3786"
             ],
             [
              0.5555555555555556,
              "#d8576b"
             ],
             [
              0.6666666666666666,
              "#ed7953"
             ],
             [
              0.7777777777777778,
              "#fb9f3a"
             ],
             [
              0.8888888888888888,
              "#fdca26"
             ],
             [
              1,
              "#f0f921"
             ]
            ],
            "type": "heatmap"
           }
          ],
          "heatmapgl": [
           {
            "colorbar": {
             "outlinewidth": 0,
             "ticks": ""
            },
            "colorscale": [
             [
              0,
              "#0d0887"
             ],
             [
              0.1111111111111111,
              "#46039f"
             ],
             [
              0.2222222222222222,
              "#7201a8"
             ],
             [
              0.3333333333333333,
              "#9c179e"
             ],
             [
              0.4444444444444444,
              "#bd3786"
             ],
             [
              0.5555555555555556,
              "#d8576b"
             ],
             [
              0.6666666666666666,
              "#ed7953"
             ],
             [
              0.7777777777777778,
              "#fb9f3a"
             ],
             [
              0.8888888888888888,
              "#fdca26"
             ],
             [
              1,
              "#f0f921"
             ]
            ],
            "type": "heatmapgl"
           }
          ],
          "histogram": [
           {
            "marker": {
             "pattern": {
              "fillmode": "overlay",
              "size": 10,
              "solidity": 0.2
             }
            },
            "type": "histogram"
           }
          ],
          "histogram2d": [
           {
            "colorbar": {
             "outlinewidth": 0,
             "ticks": ""
            },
            "colorscale": [
             [
              0,
              "#0d0887"
             ],
             [
              0.1111111111111111,
              "#46039f"
             ],
             [
              0.2222222222222222,
              "#7201a8"
             ],
             [
              0.3333333333333333,
              "#9c179e"
             ],
             [
              0.4444444444444444,
              "#bd3786"
             ],
             [
              0.5555555555555556,
              "#d8576b"
             ],
             [
              0.6666666666666666,
              "#ed7953"
             ],
             [
              0.7777777777777778,
              "#fb9f3a"
             ],
             [
              0.8888888888888888,
              "#fdca26"
             ],
             [
              1,
              "#f0f921"
             ]
            ],
            "type": "histogram2d"
           }
          ],
          "histogram2dcontour": [
           {
            "colorbar": {
             "outlinewidth": 0,
             "ticks": ""
            },
            "colorscale": [
             [
              0,
              "#0d0887"
             ],
             [
              0.1111111111111111,
              "#46039f"
             ],
             [
              0.2222222222222222,
              "#7201a8"
             ],
             [
              0.3333333333333333,
              "#9c179e"
             ],
             [
              0.4444444444444444,
              "#bd3786"
             ],
             [
              0.5555555555555556,
              "#d8576b"
             ],
             [
              0.6666666666666666,
              "#ed7953"
             ],
             [
              0.7777777777777778,
              "#fb9f3a"
             ],
             [
              0.8888888888888888,
              "#fdca26"
             ],
             [
              1,
              "#f0f921"
             ]
            ],
            "type": "histogram2dcontour"
           }
          ],
          "mesh3d": [
           {
            "colorbar": {
             "outlinewidth": 0,
             "ticks": ""
            },
            "type": "mesh3d"
           }
          ],
          "parcoords": [
           {
            "line": {
             "colorbar": {
              "outlinewidth": 0,
              "ticks": ""
             }
            },
            "type": "parcoords"
           }
          ],
          "pie": [
           {
            "automargin": true,
            "type": "pie"
           }
          ],
          "scatter": [
           {
            "fillpattern": {
             "fillmode": "overlay",
             "size": 10,
             "solidity": 0.2
            },
            "type": "scatter"
           }
          ],
          "scatter3d": [
           {
            "line": {
             "colorbar": {
              "outlinewidth": 0,
              "ticks": ""
             }
            },
            "marker": {
             "colorbar": {
              "outlinewidth": 0,
              "ticks": ""
             }
            },
            "type": "scatter3d"
           }
          ],
          "scattercarpet": [
           {
            "marker": {
             "colorbar": {
              "outlinewidth": 0,
              "ticks": ""
             }
            },
            "type": "scattercarpet"
           }
          ],
          "scattergeo": [
           {
            "marker": {
             "colorbar": {
              "outlinewidth": 0,
              "ticks": ""
             }
            },
            "type": "scattergeo"
           }
          ],
          "scattergl": [
           {
            "marker": {
             "colorbar": {
              "outlinewidth": 0,
              "ticks": ""
             }
            },
            "type": "scattergl"
           }
          ],
          "scattermapbox": [
           {
            "marker": {
             "colorbar": {
              "outlinewidth": 0,
              "ticks": ""
             }
            },
            "type": "scattermapbox"
           }
          ],
          "scatterpolar": [
           {
            "marker": {
             "colorbar": {
              "outlinewidth": 0,
              "ticks": ""
             }
            },
            "type": "scatterpolar"
           }
          ],
          "scatterpolargl": [
           {
            "marker": {
             "colorbar": {
              "outlinewidth": 0,
              "ticks": ""
             }
            },
            "type": "scatterpolargl"
           }
          ],
          "scatterternary": [
           {
            "marker": {
             "colorbar": {
              "outlinewidth": 0,
              "ticks": ""
             }
            },
            "type": "scatterternary"
           }
          ],
          "surface": [
           {
            "colorbar": {
             "outlinewidth": 0,
             "ticks": ""
            },
            "colorscale": [
             [
              0,
              "#0d0887"
             ],
             [
              0.1111111111111111,
              "#46039f"
             ],
             [
              0.2222222222222222,
              "#7201a8"
             ],
             [
              0.3333333333333333,
              "#9c179e"
             ],
             [
              0.4444444444444444,
              "#bd3786"
             ],
             [
              0.5555555555555556,
              "#d8576b"
             ],
             [
              0.6666666666666666,
              "#ed7953"
             ],
             [
              0.7777777777777778,
              "#fb9f3a"
             ],
             [
              0.8888888888888888,
              "#fdca26"
             ],
             [
              1,
              "#f0f921"
             ]
            ],
            "type": "surface"
           }
          ],
          "table": [
           {
            "cells": {
             "fill": {
              "color": "#EBF0F8"
             },
             "line": {
              "color": "white"
             }
            },
            "header": {
             "fill": {
              "color": "#C8D4E3"
             },
             "line": {
              "color": "white"
             }
            },
            "type": "table"
           }
          ]
         },
         "layout": {
          "annotationdefaults": {
           "arrowcolor": "#2a3f5f",
           "arrowhead": 0,
           "arrowwidth": 1
          },
          "autotypenumbers": "strict",
          "coloraxis": {
           "colorbar": {
            "outlinewidth": 0,
            "ticks": ""
           }
          },
          "colorscale": {
           "diverging": [
            [
             0,
             "#8e0152"
            ],
            [
             0.1,
             "#c51b7d"
            ],
            [
             0.2,
             "#de77ae"
            ],
            [
             0.3,
             "#f1b6da"
            ],
            [
             0.4,
             "#fde0ef"
            ],
            [
             0.5,
             "#f7f7f7"
            ],
            [
             0.6,
             "#e6f5d0"
            ],
            [
             0.7,
             "#b8e186"
            ],
            [
             0.8,
             "#7fbc41"
            ],
            [
             0.9,
             "#4d9221"
            ],
            [
             1,
             "#276419"
            ]
           ],
           "sequential": [
            [
             0,
             "#0d0887"
            ],
            [
             0.1111111111111111,
             "#46039f"
            ],
            [
             0.2222222222222222,
             "#7201a8"
            ],
            [
             0.3333333333333333,
             "#9c179e"
            ],
            [
             0.4444444444444444,
             "#bd3786"
            ],
            [
             0.5555555555555556,
             "#d8576b"
            ],
            [
             0.6666666666666666,
             "#ed7953"
            ],
            [
             0.7777777777777778,
             "#fb9f3a"
            ],
            [
             0.8888888888888888,
             "#fdca26"
            ],
            [
             1,
             "#f0f921"
            ]
           ],
           "sequentialminus": [
            [
             0,
             "#0d0887"
            ],
            [
             0.1111111111111111,
             "#46039f"
            ],
            [
             0.2222222222222222,
             "#7201a8"
            ],
            [
             0.3333333333333333,
             "#9c179e"
            ],
            [
             0.4444444444444444,
             "#bd3786"
            ],
            [
             0.5555555555555556,
             "#d8576b"
            ],
            [
             0.6666666666666666,
             "#ed7953"
            ],
            [
             0.7777777777777778,
             "#fb9f3a"
            ],
            [
             0.8888888888888888,
             "#fdca26"
            ],
            [
             1,
             "#f0f921"
            ]
           ]
          },
          "colorway": [
           "#636efa",
           "#EF553B",
           "#00cc96",
           "#ab63fa",
           "#FFA15A",
           "#19d3f3",
           "#FF6692",
           "#B6E880",
           "#FF97FF",
           "#FECB52"
          ],
          "font": {
           "color": "#2a3f5f"
          },
          "geo": {
           "bgcolor": "white",
           "lakecolor": "white",
           "landcolor": "#E5ECF6",
           "showlakes": true,
           "showland": true,
           "subunitcolor": "white"
          },
          "hoverlabel": {
           "align": "left"
          },
          "hovermode": "closest",
          "mapbox": {
           "style": "light"
          },
          "paper_bgcolor": "white",
          "plot_bgcolor": "#E5ECF6",
          "polar": {
           "angularaxis": {
            "gridcolor": "white",
            "linecolor": "white",
            "ticks": ""
           },
           "bgcolor": "#E5ECF6",
           "radialaxis": {
            "gridcolor": "white",
            "linecolor": "white",
            "ticks": ""
           }
          },
          "scene": {
           "xaxis": {
            "backgroundcolor": "#E5ECF6",
            "gridcolor": "white",
            "gridwidth": 2,
            "linecolor": "white",
            "showbackground": true,
            "ticks": "",
            "zerolinecolor": "white"
           },
           "yaxis": {
            "backgroundcolor": "#E5ECF6",
            "gridcolor": "white",
            "gridwidth": 2,
            "linecolor": "white",
            "showbackground": true,
            "ticks": "",
            "zerolinecolor": "white"
           },
           "zaxis": {
            "backgroundcolor": "#E5ECF6",
            "gridcolor": "white",
            "gridwidth": 2,
            "linecolor": "white",
            "showbackground": true,
            "ticks": "",
            "zerolinecolor": "white"
           }
          },
          "shapedefaults": {
           "line": {
            "color": "#2a3f5f"
           }
          },
          "ternary": {
           "aaxis": {
            "gridcolor": "white",
            "linecolor": "white",
            "ticks": ""
           },
           "baxis": {
            "gridcolor": "white",
            "linecolor": "white",
            "ticks": ""
           },
           "bgcolor": "#E5ECF6",
           "caxis": {
            "gridcolor": "white",
            "linecolor": "white",
            "ticks": ""
           }
          },
          "title": {
           "x": 0.05
          },
          "xaxis": {
           "automargin": true,
           "gridcolor": "white",
           "linecolor": "white",
           "ticks": "",
           "title": {
            "standoff": 15
           },
           "zerolinecolor": "white",
           "zerolinewidth": 2
          },
          "yaxis": {
           "automargin": true,
           "gridcolor": "white",
           "linecolor": "white",
           "ticks": "",
           "title": {
            "standoff": 15
           },
           "zerolinecolor": "white",
           "zerolinewidth": 2
          }
         }
        },
        "title": {
         "font": {
          "color": "#4D5663"
         },
         "text": "China Main Increasements"
        },
        "xaxis": {
         "anchor": "y2",
         "autorange": true,
         "gridcolor": "#E1E5ED",
         "range": [
          "2014-08-18",
          "2024-02-15"
         ],
         "rangeselector": {
          "bgcolor": "rgba(150, 200, 250, 1)",
          "buttons": [
           {
            "count": 1,
            "label": "1m",
            "step": "month",
            "stepmode": "backward"
           },
           {
            "count": 1,
            "label": "1y",
            "step": "year",
            "stepmode": "backward"
           }
          ],
          "font": {
           "size": 13
          },
          "visible": false,
          "x": 0,
          "y": 0.9
         },
         "rangeslider": {
          "visible": false,
          "yaxis2": {}
         },
         "showgrid": true,
         "tickfont": {
          "color": "#4D5663"
         },
         "title": {
          "font": {
           "color": "#4D5663"
          },
          "text": ""
         },
         "type": "date",
         "zerolinecolor": "#E1E5ED"
        },
        "yaxis": {
         "gridcolor": "#E1E5ED",
         "showgrid": true,
         "showticklabels": false,
         "tickfont": {
          "color": "#4D5663"
         },
         "title": {
          "font": {
           "color": "#4D5663"
          },
          "text": ""
         },
         "zerolinecolor": "#E1E5ED"
        },
        "yaxis2": {
         "autorange": true,
         "domain": [
          0,
          0.9
         ],
         "gridcolor": "#E1E5ED",
         "range": [
          56.85213888888888,
          922.0093611111112
         ],
         "showgrid": true,
         "tickfont": {
          "color": "#4D5663"
         },
         "title": {
          "font": {
           "color": "#4D5663"
          },
          "text": ""
         },
         "zerolinecolor": "#E1E5ED"
        }
       }
      },
      "image/png": "[encoded data removed]",
      "text/html": [
       "<div>                            <div id=\"fd4d37b1-8335-4005-a8e7-fd73c3a564d7\" class=\"plotly-graph-div\" style=\"height:525px; width:100%;\"></div>            <script type=\"text/javascript\">                require([\"plotly\"], function(Plotly) {                    window.PLOTLYENV=window.PLOTLYENV || {};\n",
       "                    window.PLOTLYENV.BASE_URL='https://plot.ly';                                    if (document.getElementById(\"fd4d37b1-8335-4005-a8e7-fd73c3a564d7\")) {                    Plotly.newPlot(                        \"fd4d37b1-8335-4005-a8e7-fd73c3a564d7\",                        [{\"close\":[131.802,141.434,156.29399999999998,146.908,135.76999999999998,132.798,133.67999999999998,140.488,151.28199999999998,145.344,139.096,114.236,109.054,140.356,148.092,149.783,124.28800000000001,121.44200000000001,134.246,130.64,142.178,139.404,144.984,164.994,180.036,179.038,165.71,156.31799999999998,180.49,194.482,195.74,203.648,219.446,240.246,262.376,268.818,263.672,278.794,280.27200000000005,282.86400000000003,317.552,291.96,280.108,266.464,278.854,275.014,297.28,265.202,269.77,230.92000000000002,258.17400000000004,233.88400000000001,280.81600000000003,294.894,290.78999999999996,299.826,247.212,274.07399999999996,274.92400000000004,292.15999999999997,282.45599999999996,307.322,333.93399999999997,350.498,347.432,350.162,337.98199999999997,365.61199999999997,409.15,455.316,526.234,607.882,595.354,633.11,723.1700000000001,714.47,760.65,717.9,648.6899999999999,643.79,624.76,681.42,578.49,555.6600000000001,493.82000000000005,548.4,515.44,463.05,449.56,413.68,370.92,360.90999999999997,372.21,424.83,367.86,385.91,319.2,241.23,343.49,338.49,403.93,339.52,356.98,318.56,307.01,341.52,421.05,398.27000000000004,377.15,371.89,424.06,406.96,360.86,359.12],\"decreasing\":{\"line\":{\"color\":\"#db4052\"}},\"high\":[150.19,146.618,169.894,158.82,154.588,144.064,139.108,150.088,160.49,160.576,151.846,145.974,121.134,143.234,151.674,156.58999999999997,144.4832,129.558,139.18,145.21,143.5,143.16400000000002,149.9538,168.914,188.056,192.751,183.778,167.195,185.016,198.06,204.652,208.86599999999999,228.734,259.98,271.424,289.269,285.91,282.764,309.53999999999996,299.688,327.964,313.92,314.95,282.818,295.404,309.79999999999995,320.058,301.2099,294.2435,276.236,267.82,276.71000000000004,285.214,306.77,310.42400000000004,310.149,313.807,281.656,292.48,301.41700000000003,312.79519999999997,315.24,348.15999999999997,364.4,391.04,384.9,373.172,395.234,431.9604,480.204,570.7339999999999,646.34,644.6220000000001,672.324,837.61,795.38,858.85,878.7515000000001,758.865,710.03,672.6199,708.7399,693.89,618.5335,587.58,609.1424999999999,614.285,535.8999,518.545,480.095,445.5112,420.52000000000004,397.2649,468.4189,458.515,424.9799,390.19,345.26370000000003,354.92,375.9944,440.5,424.505,390.4699,365.015,343.48,377.85490000000004,427.1625,438.3836,417.32,406.2363,453.24,435.305,420.96999999999997,371.3373],\"increasing\":{\"line\":{\"color\":\"#008000\"}},\"low\":[128.69400000000002,121.69399999999999,140.676,142.026,129.69,127.99799999999999,125.914,130.38600000000002,134.272,140.59199999999998,127.556,100.11,101.12,106.50200000000001,130.3308,141.2742,120.41,107.305,121.59,126.374,123.43,125.01,134.287,143.21,163.9348,173.042,154.533,153.482,156.791,177.9282,188.04199999999997,189.118,200.322,215.788,236.025,238.71800000000002,255.25,256.67,265.148,262.46,280.94,266.578,268.68609999999995,250.7,254.9943,263.2,285.064,250.886,238.1,211.865,222.0464,218.79200000000003,221.27800000000002,263.172,268.313,279.505,244.75,243.721,261.237,243.41199999999998,272.245,271.63800000000003,295.692,317.002,335.848,333.913,288.131,322.41700000000003,342.879,400.366,457.272,525.836,545.0351,570.12,575.6410000000001,606.74,677.64,695.115,594.02,599.63,554.14,597.2755999999999,500.2201,465.605,476.437,463.6017,477.4101,408.58,383.48,375.64,254.55,308.15,288.895,346.65000000000003,351.77,332.72499999999997,308.01,210.214,239.97,320.725,345.3951,330.09999999999997,304.992,300.777,286.90000000000003,303.045,336.595,353.275,356.105,348.76,359.58,365.56,336.87,354.725],\"name\":\"QF\",\"open\":[142.244,131.43200000000002,142.368,154.49,147.574,138.028,133.08,133.76600000000002,140.58,152.708,145.36599999999999,138.55,111.02199999999999,110.412,139.97,147.04999999999998,143.27,123.29,124.128,132.964,130.288,138.702,139.0,145.33,165.09,180.228,178.13,165.812,158.826,181.938,196.014,196.94799999999998,203.84199999999998,220.058,242.096,264.87,269.19,265.998,282.696,277.216,288.139,303.254,292.08000000000004,279.298,265.40200000000004,280.93,296.056,292.256,267.468,271.346,234.95999999999998,270.258,228.732,279.382,298.21,295.81600000000003,301.386,247.68599999999998,283.947,276.59799999999996,289.37600000000003,283.298,311.24,332.668,357.916,350.001,354.986,330.124,355.317,407.98199999999997,469.8675,555.666,613.64,600.29,649.13,735.245,714.01,781.71,740.25,671.94,643.8624,648.175,686.99,583.8535,556.235,494.9588,551.4401,528.7950000000001,465.71000000000004,449.278,413.75,399.46,357.46000000000004,372.33,425.64,363.455,377.35,317.714,259.73,331.44,353.4,415.2,358.805,353.53,317.16,304.31,352.38,414.995,404.49,377.26800000000003,372.155,416.43,398.97999999999996,365.955],\"showlegend\":true,\"x\":[\"2014-09-01 00:00:00-04:00\",\"2014-10-01 00:00:00-04:00\",\"2014-11-01 00:00:00-04:00\",\"2014-12-01 00:00:00-05:00\",\"2015-01-01 00:00:00-05:00\",\"2015-02-01 00:00:00-05:00\",\"2015-03-01 00:00:00-05:00\",\"2015-04-01 00:00:00-04:00\",\"2015-05-01 00:00:00-04:00\",\"2015-06-01 00:00:00-04:00\",\"2015-07-01 00:00:00-04:00\",\"2015-08-01 00:00:00-04:00\",\"2015-09-01 00:00:00-04:00\",\"2015-10-01 00:00:00-04:00\",\"2015-11-01 00:00:00-04:00\",\"2015-12-01 00:00:00-05:00\",\"2016-01-01 00:00:00-05:00\",\"2016-02-01 00:00:00-05:00\",\"2016-03-01 00:00:00-05:00\",\"2016-04-01 00:00:00-04:00\",\"2016-05-01 00:00:00-04:00\",\"2016-06-01 00:00:00-04:00\",\"2016-07-01 00:00:00-04:00\",\"2016-08-01 00:00:00-04:00\",\"2016-09-01 00:00:00-04:00\",\"2016-10-01 00:00:00-04:00\",\"2016-11-01 00:00:00-04:00\",\"2016-12-01 00:00:00-05:00\",\"2017-01-01 00:00:00-05:00\",\"2017-02-01 00:00:00-05:00\",\"2017-03-01 00:00:00-05:00\",\"2017-04-01 00:00:00-04:00\",\"2017-05-01 00:00:00-04:00\",\"2017-06-01 00:00:00-04:00\",\"2017-07-01 00:00:00-04:00\",\"2017-08-01 00:00:00-04:00\",\"2017-09-01 00:00:00-04:00\",\"2017-10-01 00:00:00-04:00\",\"2017-11-01 00:00:00-04:00\",\"2017-12-01 00:00:00-05:00\",\"2018-01-01 00:00:00-05:00\",\"2018-02-01 00:00:00-05:00\",\"2018-03-01 00:00:00-05:00\",\"2018-04-01 00:00:00-04:00\",\"2018-05-01 00:00:00-04:00\",\"2018-06-01 00:00:00-04:00\",\"2018-07-01 00:00:00-04:00\",\"2018-08-01 00:00:00-04:00\",\"2018-09-01 00:00:00-04:00\",\"2018-10-01 00:00:00-04:00\",\"2018-11-01 00:00:00-04:00\",\"2018-12-01 00:00:00-05:00\",\"2019-01-01 00:00:00-05:00\",\"2019-02-01 00:00:00-05:00\",\"2019-03-01 00:00:00-05:00\",\"2019-04-01 00:00:00-04:00\",\"2019-05-01 00:00:00-04:00\",\"2019-06-01 00:00:00-04:00\",\"2019-07-01 00:00:00-04:00\",\"2019-08-01 00:00:00-04:00\",\"2019-09-01 00:00:00-04:00\",\"2019-10-01 00:00:00-04:00\",\"2019-11-01 00:00:00-04:00\",\"2019-12-01 00:00:00-05:00\",\"2020-01-01 00:00:00-05:00\",\"2020-02-01 00:00:00-05:00\",\"2020-03-01 00:00:00-05:00\",\"2020-04-01 00:00:00-04:00\",\"2020-05-01 00:00:00-04:00\",\"2020-06-01 00:00:00-04:00\",\"2020-07-01 00:00:00-04:00\",\"2020-08-01 00:00:00-04:00\",\"2020-09-01 00:00:00-04:00\",\"2020-10-01 00:00:00-04:00\",\"2020-11-01 00:00:00-04:00\",\"2020-12-01 00:00:00-05:00\",\"2021-01-01 00:00:00-05:00\",\"2021-02-01 00:00:00-05:00\",\"2021-03-01 00:00:00-05:00\",\"2021-04-01 00:00:00-04:00\",\"2021-05-01 00:00:00-04:00\",\"2021-06-01 00:00:00-04:00\",\"2021-07-01 00:00:00-04:00\",\"2021-08-01 00:00:00-04:00\",\"2021-09-01 00:00:00-04:00\",\"2021-10-01 00:00:00-04:00\",\"2021-11-01 00:00:00-04:00\",\"2021-12-01 00:00:00-05:00\",\"2022-01-01 00:00:00-05:00\",\"2022-02-01 00:00:00-05:00\",\"2022-03-01 00:00:00-05:00\",\"2022-04-01 00:00:00-04:00\",\"2022-05-01 00:00:00-04:00\",\"2022-06-01 00:00:00-04:00\",\"2022-07-01 00:00:00-04:00\",\"2022-08-01 00:00:00-04:00\",\"2022-09-01 00:00:00-04:00\",\"2022-10-01 00:00:00-04:00\",\"2022-11-01 00:00:00-04:00\",\"2022-12-01 00:00:00-05:00\",\"2023-01-01 00:00:00-05:00\",\"2023-02-01 00:00:00-05:00\",\"2023-03-01 00:00:00-05:00\",\"2023-04-01 00:00:00-04:00\",\"2023-05-01 00:00:00-04:00\",\"2023-06-01 00:00:00-04:00\",\"2023-07-01 00:00:00-04:00\",\"2023-08-01 00:00:00-04:00\",\"2023-09-01 00:00:00-04:00\",\"2023-10-01 00:00:00-04:00\",\"2023-11-01 00:00:00-04:00\",\"2023-12-01 00:00:00-05:00\",\"2024-01-01 00:00:00-05:00\",\"2024-02-01 00:00:00-05:00\"],\"yaxis\":\"y2\",\"type\":\"candlestick\"}],                        {\"legend\":{\"bgcolor\":\"#F5F6F9\",\"font\":{\"color\":\"#4D5663\"}},\"margin\":{\"b\":30,\"l\":30,\"r\":30,\"t\":30},\"paper_bgcolor\":\"#F5F6F9\",\"plot_bgcolor\":\"#F5F6F9\",\"showlegend\":true,\"template\":{\"data\":{\"barpolar\":[{\"marker\":{\"line\":{\"color\":\"#E5ECF6\",\"width\":0.5},\"pattern\":{\"fillmode\":\"overlay\",\"size\":10,\"solidity\":0.2}},\"type\":\"barpolar\"}],\"bar\":[{\"error_x\":{\"color\":\"#2a3f5f\"},\"error_y\":{\"color\":\"#2a3f5f\"},\"marker\":{\"line\":{\"color\":\"#E5ECF6\",\"width\":0.5},\"pattern\":{\"fillmode\":\"overlay\",\"size\":10,\"solidity\":0.2}},\"type\":\"bar\"}],\"carpet\":[{\"aaxis\":{\"endlinecolor\":\"#2a3f5f\",\"gridcolor\":\"white\",\"linecolor\":\"white\",\"minorgridcolor\":\"white\",\"startlinecolor\":\"#2a3f5f\"},\"baxis\":{\"endlinecolor\":\"#2a3f5f\",\"gridcolor\":\"white\",\"linecolor\":\"white\",\"minorgridcolor\":\"white\",\"startlinecolor\":\"#2a3f5f\"},\"type\":\"carpet\"}],\"choropleth\":[{\"colorbar\":{\"outlinewidth\":0,\"ticks\":\"\"},\"type\":\"choropleth\"}],\"contourcarpet\":[{\"colorbar\":{\"outlinewidth\":0,\"ticks\":\"\"},\"type\":\"contourcarpet\"}],\"contour\":[{\"colorbar\":{\"outlinewidth\":0,\"ticks\":\"\"},\"colorscale\":[[0.0,\"#0d0887\"],[0.1111111111111111,\"#46039f\"],[0.2222222222222222,\"#7201a8\"],[0.3333333333333333,\"#9c179e\"],[0.4444444444444444,\"#bd3786\"],[0.5555555555555556,\"#d8576b\"],[0.6666666666666666,\"#ed7953\"],[0.7777777777777778,\"#fb9f3a\"],[0.8888888888888888,\"#fdca26\"],[1.0,\"#f0f921\"]],\"type\":\"contour\"}],\"heatmapgl\":[{\"colorbar\":{\"outlinewidth\":0,\"ticks\":\"\"},\"colorscale\":[[0.0,\"#0d0887\"],[0.1111111111111111,\"#46039f\"],[0.2222222222222222,\"#7201a8\"],[0.3333333333333333,\"#9c179e\"],[0.4444444444444444,\"#bd3786\"],[0.5555555555555556,\"#d8576b\"],[0.6666666666666666,\"#ed7953\"],[0.7777777777777778,\"#fb9f3a\"],[0.8888888888888888,\"#fdca26\"],[1.0,\"#f0f921\"]],\"type\":\"heatmapgl\"}],\"heatmap\":[{\"colorbar\":{\"outlinewidth\":0,\"ticks\":\"\"},\"colorscale\":[[0.0,\"#0d0887\"],[0.1111111111111111,\"#46039f\"],[0.2222222222222222,\"#7201a8\"],[0.3333333333333333,\"#9c179e\"],[0.4444444444444444,\"#bd3786\"],[0.5555555555555556,\"#d8576b\"],[0.6666666666666666,\"#ed7953\"],[0.7777777777777778,\"#fb9f3a\"],[0.8888888888888888,\"#fdca26\"],[1.0,\"#f0f921\"]],\"type\":\"heatmap\"}],\"histogram2dcontour\":[{\"colorbar\":{\"outlinewidth\":0,\"ticks\":\"\"},\"colorscale\":[[0.0,\"#0d0887\"],[0.1111111111111111,\"#46039f\"],[0.2222222222222222,\"#7201a8\"],[0.3333333333333333,\"#9c179e\"],[0.4444444444444444,\"#bd3786\"],[0.5555555555555556,\"#d8576b\"],[0.6666666666666666,\"#ed7953\"],[0.7777777777777778,\"#fb9f3a\"],[0.8888888888888888,\"#fdca26\"],[1.0,\"#f0f921\"]],\"type\":\"histogram2dcontour\"}],\"histogram2d\":[{\"colorbar\":{\"outlinewidth\":0,\"ticks\":\"\"},\"colorscale\":[[0.0,\"#0d0887\"],[0.1111111111111111,\"#46039f\"],[0.2222222222222222,\"#7201a8\"],[0.3333333333333333,\"#9c179e\"],[0.4444444444444444,\"#bd3786\"],[0.5555555555555556,\"#d8576b\"],[0.6666666666666666,\"#ed7953\"],[0.7777777777777778,\"#fb9f3a\"],[0.8888888888888888,\"#fdca26\"],[1.0,\"#f0f921\"]],\"type\":\"histogram2d\"}],\"histogram\":[{\"marker\":{\"pattern\":{\"fillmode\":\"overlay\",\"size\":10,\"solidity\":0.2}},\"type\":\"histogram\"}],\"mesh3d\":[{\"colorbar\":{\"outlinewidth\":0,\"ticks\":\"\"},\"type\":\"mesh3d\"}],\"parcoords\":[{\"line\":{\"colorbar\":{\"outlinewidth\":0,\"ticks\":\"\"}},\"type\":\"parcoords\"}],\"pie\":[{\"automargin\":true,\"type\":\"pie\"}],\"scatter3d\":[{\"line\":{\"colorbar\":{\"outlinewidth\":0,\"ticks\":\"\"}},\"marker\":{\"colorbar\":{\"outlinewidth\":0,\"ticks\":\"\"}},\"type\":\"scatter3d\"}],\"scattercarpet\":[{\"marker\":{\"colorbar\":{\"outlinewidth\":0,\"ticks\":\"\"}},\"type\":\"scattercarpet\"}],\"scattergeo\":[{\"marker\":{\"colorbar\":{\"outlinewidth\":0,\"ticks\":\"\"}},\"type\":\"scattergeo\"}],\"scattergl\":[{\"marker\":{\"colorbar\":{\"outlinewidth\":0,\"ticks\":\"\"}},\"type\":\"scattergl\"}],\"scattermapbox\":[{\"marker\":{\"colorbar\":{\"outlinewidth\":0,\"ticks\":\"\"}},\"type\":\"scattermapbox\"}],\"scatterpolargl\":[{\"marker\":{\"colorbar\":{\"outlinewidth\":0,\"ticks\":\"\"}},\"type\":\"scatterpolargl\"}],\"scatterpolar\":[{\"marker\":{\"colorbar\":{\"outlinewidth\":0,\"ticks\":\"\"}},\"type\":\"scatterpolar\"}],\"scatter\":[{\"fillpattern\":{\"fillmode\":\"overlay\",\"size\":10,\"solidity\":0.2},\"type\":\"scatter\"}],\"scatterternary\":[{\"marker\":{\"colorbar\":{\"outlinewidth\":0,\"ticks\":\"\"}},\"type\":\"scatterternary\"}],\"surface\":[{\"colorbar\":{\"outlinewidth\":0,\"ticks\":\"\"},\"colorscale\":[[0.0,\"#0d0887\"],[0.1111111111111111,\"#46039f\"],[0.2222222222222222,\"#7201a8\"],[0.3333333333333333,\"#9c179e\"],[0.4444444444444444,\"#bd3786\"],[0.5555555555555556,\"#d8576b\"],[0.6666666666666666,\"#ed7953\"],[0.7777777777777778,\"#fb9f3a\"],[0.8888888888888888,\"#fdca26\"],[1.0,\"#f0f921\"]],\"type\":\"surface\"}],\"table\":[{\"cells\":{\"fill\":{\"color\":\"#EBF0F8\"},\"line\":{\"color\":\"white\"}},\"header\":{\"fill\":{\"color\":\"#C8D4E3\"},\"line\":{\"color\":\"white\"}},\"type\":\"table\"}]},\"layout\":{\"annotationdefaults\":{\"arrowcolor\":\"#2a3f5f\",\"arrowhead\":0,\"arrowwidth\":1},\"autotypenumbers\":\"strict\",\"coloraxis\":{\"colorbar\":{\"outlinewidth\":0,\"ticks\":\"\"}},\"colorscale\":{\"diverging\":[[0,\"#8e0152\"],[0.1,\"#c51b7d\"],[0.2,\"#de77ae\"],[0.3,\"#f1b6da\"],[0.4,\"#fde0ef\"],[0.5,\"#f7f7f7\"],[0.6,\"#e6f5d0\"],[0.7,\"#b8e186\"],[0.8,\"#7fbc41\"],[0.9,\"#4d9221\"],[1,\"#276419\"]],\"sequential\":[[0.0,\"#0d0887\"],[0.1111111111111111,\"#46039f\"],[0.2222222222222222,\"#7201a8\"],[0.3333333333333333,\"#9c179e\"],[0.4444444444444444,\"#bd3786\"],[0.5555555555555556,\"#d8576b\"],[0.6666666666666666,\"#ed7953\"],[0.7777777777777778,\"#fb9f3a\"],[0.8888888888888888,\"#fdca26\"],[1.0,\"#f0f921\"]],\"sequentialminus\":[[0.0,\"#0d0887\"],[0.1111111111111111,\"#46039f\"],[0.2222222222222222,\"#7201a8\"],[0.3333333333333333,\"#9c179e\"],[0.4444444444444444,\"#bd3786\"],[0.5555555555555556,\"#d8576b\"],[0.6666666666666666,\"#ed7953\"],[0.7777777777777778,\"#fb9f3a\"],[0.8888888888888888,\"#fdca26\"],[1.0,\"#f0f921\"]]},\"colorway\":[\"#636efa\",\"#EF553B\",\"#00cc96\",\"#ab63fa\",\"#FFA15A\",\"#19d3f3\",\"#FF6692\",\"#B6E880\",\"#FF97FF\",\"#FECB52\"],\"font\":{\"color\":\"#2a3f5f\"},\"geo\":{\"bgcolor\":\"white\",\"lakecolor\":\"white\",\"landcolor\":\"#E5ECF6\",\"showlakes\":true,\"showland\":true,\"subunitcolor\":\"white\"},\"hoverlabel\":{\"align\":\"left\"},\"hovermode\":\"closest\",\"mapbox\":{\"style\":\"light\"},\"paper_bgcolor\":\"white\",\"plot_bgcolor\":\"#E5ECF6\",\"polar\":{\"angularaxis\":{\"gridcolor\":\"white\",\"linecolor\":\"white\",\"ticks\":\"\"},\"bgcolor\":\"#E5ECF6\",\"radialaxis\":{\"gridcolor\":\"white\",\"linecolor\":\"white\",\"ticks\":\"\"}},\"scene\":{\"xaxis\":{\"backgroundcolor\":\"#E5ECF6\",\"gridcolor\":\"white\",\"gridwidth\":2,\"linecolor\":\"white\",\"showbackground\":true,\"ticks\":\"\",\"zerolinecolor\":\"white\"},\"yaxis\":{\"backgroundcolor\":\"#E5ECF6\",\"gridcolor\":\"white\",\"gridwidth\":2,\"linecolor\":\"white\",\"showbackground\":true,\"ticks\":\"\",\"zerolinecolor\":\"white\"},\"zaxis\":{\"backgroundcolor\":\"#E5ECF6\",\"gridcolor\":\"white\",\"gridwidth\":2,\"linecolor\":\"white\",\"showbackground\":true,\"ticks\":\"\",\"zerolinecolor\":\"white\"}},\"shapedefaults\":{\"line\":{\"color\":\"#2a3f5f\"}},\"ternary\":{\"aaxis\":{\"gridcolor\":\"white\",\"linecolor\":\"white\",\"ticks\":\"\"},\"baxis\":{\"gridcolor\":\"white\",\"linecolor\":\"white\",\"ticks\":\"\"},\"bgcolor\":\"#E5ECF6\",\"caxis\":{\"gridcolor\":\"white\",\"linecolor\":\"white\",\"ticks\":\"\"}},\"title\":{\"x\":0.05},\"xaxis\":{\"automargin\":true,\"gridcolor\":\"white\",\"linecolor\":\"white\",\"ticks\":\"\",\"title\":{\"standoff\":15},\"zerolinecolor\":\"white\",\"zerolinewidth\":2},\"yaxis\":{\"automargin\":true,\"gridcolor\":\"white\",\"linecolor\":\"white\",\"ticks\":\"\",\"title\":{\"standoff\":15},\"zerolinecolor\":\"white\",\"zerolinewidth\":2}}},\"title\":{\"font\":{\"color\":\"#4D5663\"},\"text\":\"China Main Increasements\"},\"xaxis\":{\"anchor\":\"y2\",\"gridcolor\":\"#E1E5ED\",\"rangeselector\":{\"bgcolor\":\"rgba(150, 200, 250, 1)\",\"buttons\":[{\"count\":1,\"label\":\"1m\",\"step\":\"month\",\"stepmode\":\"backward\"},{\"count\":1,\"label\":\"1y\",\"step\":\"year\",\"stepmode\":\"backward\"}],\"font\":{\"size\":13},\"visible\":false,\"x\":0,\"y\":0.9},\"rangeslider\":{\"visible\":false},\"showgrid\":true,\"tickfont\":{\"color\":\"#4D5663\"},\"title\":{\"font\":{\"color\":\"#4D5663\"},\"text\":\"\"},\"zerolinecolor\":\"#E1E5ED\"},\"yaxis\":{\"gridcolor\":\"#E1E5ED\",\"showgrid\":true,\"showticklabels\":false,\"tickfont\":{\"color\":\"#4D5663\"},\"title\":{\"font\":{\"color\":\"#4D5663\"},\"text\":\"\"},\"zerolinecolor\":\"#E1E5ED\"},\"yaxis2\":{\"domain\":[0.0,0.9],\"gridcolor\":\"#E1E5ED\",\"showgrid\":true,\"tickfont\":{\"color\":\"#4D5663\"},\"title\":{\"font\":{\"color\":\"#4D5663\"},\"text\":\"\"},\"zerolinecolor\":\"#E1E5ED\"}},                        {\"showLink\": true, \"linkText\": \"Export to plot.ly\", \"plotlyServerURL\": \"https://plot.ly\", \"responsive\": true}                    ).then(function(){\n",
       "                            \n",
       "var gd = document.getElementById('fd4d37b1-8335-4005-a8e7-fd73c3a564d7');\n",
       "var x = new MutationObserver(function (mutations, observer) {{\n",
       "        var display = window.getComputedStyle(gd).display;\n",
       "        if (!display || display === 'none') {{\n",
       "            console.log([gd, 'removed!']);\n",
       "            Plotly.purge(gd);\n",
       "            observer.disconnect();\n",
       "        }}\n",
       "}});\n",
       "\n",
       "// Listen for the removal of the full notebook cells\n",
       "var notebookContainer = gd.closest('#notebook-container');\n",
       "if (notebookContainer) {{\n",
       "    x.observe(notebookContainer, {childList: true});\n",
       "}}\n",
       "\n",
       "// Listen for the clearing of the current output cell\n",
       "var outputEl = gd.closest('.output');\n",
       "if (outputEl) {{\n",
       "    x.observe(outputEl, {childList: true});\n",
       "}}\n",
       "\n",
       "                        })                };                });            </script>        </div>"
      ]
     },
     "metadata": {},
     "output_type": "display_data"
    }
   ],
   "source": [
    "cf.set_config_file(offline=True, world_readable=True)\n",
    "qf = cf.QuantFig(indexation, title=\"China Main Increasements\", legend=\"right\", name=\"QF\")\n",
    "#qf.add_volume()\n",
    "# qf.add_trendline('2014-09-01','2024-01-01',on='close',textangle=0)\n",
    "qf.iplot(up_color='green',down_color='red')"
   ]
  },
  {
   "cell_type": "code",
   "execution_count": 13,
   "id": "ff5fc55c",
   "metadata": {},
   "outputs": [
    {
     "name": "stdout",
     "output_type": "stream",
     "text": [
      "date\n",
      "2015-09-01 00:00:00-04:00    0.079903\n",
      "2015-10-01 00:00:00-04:00    0.116332\n",
      "2015-11-01 00:00:00-04:00    0.113288\n",
      "2015-12-01 00:00:00-05:00    0.111651\n",
      "2016-01-01 00:00:00-05:00    0.120954\n",
      "                               ...   \n",
      "2023-10-01 00:00:00-04:00    0.166107\n",
      "2023-11-01 00:00:00-04:00    0.122088\n",
      "2023-12-01 00:00:00-05:00    0.123056\n",
      "2024-01-01 00:00:00-05:00    0.115901\n",
      "2024-02-01 00:00:00-05:00    0.105065\n",
      "Name: close, Length: 102, dtype: float64\n"
     ]
    }
   ],
   "source": [
    "close = indexation[CLOSE]\n",
    "# 计算月收益率\n",
    "returns = close.pct_change().dropna()\n",
    "# 计算滚动的12月历史波动性（标准差）\n",
    "volatility = returns.rolling(window=12).std()\n",
    "# 查看有效月份的年化波动性\n",
    "volatility.dropna(inplace=True)\n",
    "print(volatility)"
   ]
  },
  {
   "cell_type": "code",
   "execution_count": 14,
   "id": "711bc33c-8b7e-458b-a50e-b2a232453d4c",
   "metadata": {},
   "outputs": [
    {
     "name": "stdout",
     "output_type": "stream",
     "text": [
      "date\n",
      "2014-10-01 00:00:00-04:00     9.632\n",
      "2014-11-01 00:00:00-04:00    14.860\n",
      "2014-12-01 00:00:00-05:00    -9.386\n",
      "2015-01-01 00:00:00-05:00   -11.138\n",
      "2015-02-01 00:00:00-05:00    -2.972\n",
      "                              ...  \n",
      "2023-10-01 00:00:00-04:00    -5.260\n",
      "2023-11-01 00:00:00-04:00    52.170\n",
      "2023-12-01 00:00:00-05:00   -17.100\n",
      "2024-01-01 00:00:00-05:00   -46.100\n",
      "2024-02-01 00:00:00-05:00    -1.740\n",
      "Name: close, Length: 113, dtype: float64\n"
     ]
    }
   ],
   "source": [
    "# 计算每月的绝对价格变动\n",
    "absolute_price_change = close.diff()\n",
    "absolute_price_change.dropna(inplace=True)\n",
    "print(absolute_price_change)"
   ]
  },
  {
   "cell_type": "code",
   "execution_count": 15,
   "id": "828513dd-5f4a-4c39-b1d0-dc49a430b79c",
   "metadata": {},
   "outputs": [
    {
     "name": "stdout",
     "output_type": "stream",
     "text": [
      "                           market_volume  volatility  price_change\n",
      "date                                                              \n",
      "2015-09-01 00:00:00-04:00      792055437    0.079903        -5.182\n",
      "2015-10-01 00:00:00-04:00      744189221    0.116332        31.302\n",
      "2015-11-01 00:00:00-04:00      886489387    0.113288         7.736\n",
      "2015-12-01 00:00:00-05:00      589575942    0.111651         1.691\n",
      "2016-01-01 00:00:00-05:00      712294371    0.120954       -25.495\n",
      "...                                  ...         ...           ...\n",
      "2023-10-01 00:00:00-04:00     1784067732    0.166107        -5.260\n",
      "2023-11-01 00:00:00-04:00     2078303678    0.122088        52.170\n",
      "2023-12-01 00:00:00-05:00     2835371119    0.123056       -17.100\n",
      "2024-01-01 00:00:00-05:00     2890076288    0.115901       -46.100\n",
      "2024-02-01 00:00:00-05:00      231815612    0.105065        -1.740\n",
      "\n",
      "[102 rows x 3 columns]\n"
     ]
    }
   ],
   "source": [
    "volume = indexation['volume']\n",
    "# 市场数据组合\n",
    "market_data = pd.concat([volume, volatility, absolute_price_change], axis = 1, ignore_index=False)\n",
    "market_data.columns = ['market_volume', 'volatility', 'price_change']\n",
    "market_data.dropna(how='any', inplace=True)\n",
    "print(market_data)"
   ]
  },
  {
   "cell_type": "code",
   "execution_count": 16,
   "id": "102f3116-eb7c-4923-a95d-2ed3e052eb20",
   "metadata": {},
   "outputs": [],
   "source": [
    "def calculate_fear_greed_index(data):\n",
    "    # 标准化数据\n",
    "    normalized_volatility = (data['volatility'] - data['volatility'].min()) / (data['volatility'].max() - data['volatility'].min())\n",
    "    normalized_volume = (data['market_volume'] - data['market_volume'].min()) / (data['market_volume'].max() - data['market_volume'].min())\n",
    "    normalized_price_change = (data['price_change'] - data['price_change'].min()) / (data['price_change'].max() - data['price_change'].min())\n",
    "    # 定义恐慌和贪婪的权重\n",
    "    volatility_weight = 0.4\n",
    "    volume_weight = 0.3\n",
    "    price_change_weight = 0.3\n",
    "    # 计算指数\n",
    "    data['fear_greed_index'] = (normalized_volatility * volatility_weight + \n",
    "                                 normalized_volume * volume_weight + \n",
    "                                 normalized_price_change * price_change_weight) * 100\n",
    "    return data"
   ]
  },
  {
   "cell_type": "code",
   "execution_count": 17,
   "id": "945432be-2918-4e35-a48f-e2b68a48b1d0",
   "metadata": {},
   "outputs": [
    {
     "name": "stdout",
     "output_type": "stream",
     "text": [
      "date\n",
      "2015-09-01 00:00:00-04:00    25.796836\n",
      "2015-10-01 00:00:00-04:00    40.709855\n",
      "2015-11-01 00:00:00-04:00    36.958748\n",
      "2015-12-01 00:00:00-05:00    34.574403\n",
      "2016-01-01 00:00:00-05:00    33.528578\n",
      "                               ...    \n",
      "2023-10-01 00:00:00-04:00    52.407099\n",
      "2023-11-01 00:00:00-04:00    50.075208\n",
      "2023-12-01 00:00:00-05:00    42.915539\n",
      "2024-01-01 00:00:00-05:00    36.956327\n",
      "2024-02-01 00:00:00-05:00    31.029897\n",
      "Freq: MS, Name: fear_greed_index, Length: 102, dtype: float64\n"
     ]
    }
   ],
   "source": [
    "# 计算恐慌贪婪指数\n",
    "fear_greed_index_data = calculate_fear_greed_index(market_data)\n",
    "print(fear_greed_index_data['fear_greed_index'])"
   ]
  },
  {
   "cell_type": "code",
   "execution_count": 26,
   "id": "9e698d7d-da29-4a00-87d7-04bb17143865",
   "metadata": {},
   "outputs": [
    {
     "data": {
      "application/vnd.plotly.v1+json": {
       "config": {
        "linkText": "Export to plot.ly",
        "plotlyServerURL": "https://plot.ly",
        "showLink": true
       },
       "data": [
        {
         "line": {
          "color": "rgba(255, 153, 51, 1.0)",
          "dash": "solid",
          "shape": "linear",
          "width": 1.3
         },
         "mode": "lines",
         "name": "fear_greed_index",
         "text": "",
         "type": "scatter",
         "x": [
          "2015-09-01 00:00:00-04:00",
          "2015-10-01 00:00:00-04:00",
          "2015-11-01 00:00:00-04:00",
          "2015-12-01 00:00:00-05:00",
          "2016-01-01 00:00:00-05:00",
          "2016-02-01 00:00:00-05:00",
          "2016-03-01 00:00:00-05:00",
          "2016-04-01 00:00:00-04:00",
          "2016-05-01 00:00:00-04:00",
          "2016-06-01 00:00:00-04:00",
          "2016-07-01 00:00:00-04:00",
          "2016-08-01 00:00:00-04:00",
          "2016-09-01 00:00:00-04:00",
          "2016-10-01 00:00:00-04:00",
          "2016-11-01 00:00:00-04:00",
          "2016-12-01 00:00:00-05:00",
          "2017-01-01 00:00:00-05:00",
          "2017-02-01 00:00:00-05:00",
          "2017-03-01 00:00:00-05:00",
          "2017-04-01 00:00:00-04:00",
          "2017-05-01 00:00:00-04:00",
          "2017-06-01 00:00:00-04:00",
          "2017-07-01 00:00:00-04:00",
          "2017-08-01 00:00:00-04:00",
          "2017-09-01 00:00:00-04:00",
          "2017-10-01 00:00:00-04:00",
          "2017-11-01 00:00:00-04:00",
          "2017-12-01 00:00:00-05:00",
          "2018-01-01 00:00:00-05:00",
          "2018-02-01 00:00:00-05:00",
          "2018-03-01 00:00:00-05:00",
          "2018-04-01 00:00:00-04:00",
          "2018-05-01 00:00:00-04:00",
          "2018-06-01 00:00:00-04:00",
          "2018-07-01 00:00:00-04:00",
          "2018-08-01 00:00:00-04:00",
          "2018-09-01 00:00:00-04:00",
          "2018-10-01 00:00:00-04:00",
          "2018-11-01 00:00:00-04:00",
          "2018-12-01 00:00:00-05:00",
          "2019-01-01 00:00:00-05:00",
          "2019-02-01 00:00:00-05:00",
          "2019-03-01 00:00:00-05:00",
          "2019-04-01 00:00:00-04:00",
          "2019-05-01 00:00:00-04:00",
          "2019-06-01 00:00:00-04:00",
          "2019-07-01 00:00:00-04:00",
          "2019-08-01 00:00:00-04:00",
          "2019-09-01 00:00:00-04:00",
          "2019-10-01 00:00:00-04:00",
          "2019-11-01 00:00:00-04:00",
          "2019-12-01 00:00:00-05:00",
          "2020-01-01 00:00:00-05:00",
          "2020-02-01 00:00:00-05:00",
          "2020-03-01 00:00:00-05:00",
          "2020-04-01 00:00:00-04:00",
          "2020-05-01 00:00:00-04:00",
          "2020-06-01 00:00:00-04:00",
          "2020-07-01 00:00:00-04:00",
          "2020-08-01 00:00:00-04:00",
          "2020-09-01 00:00:00-04:00",
          "2020-10-01 00:00:00-04:00",
          "2020-11-01 00:00:00-04:00",
          "2020-12-01 00:00:00-05:00",
          "2021-01-01 00:00:00-05:00",
          "2021-02-01 00:00:00-05:00",
          "2021-03-01 00:00:00-05:00",
          "2021-04-01 00:00:00-04:00",
          "2021-05-01 00:00:00-04:00",
          "2021-06-01 00:00:00-04:00",
          "2021-07-01 00:00:00-04:00",
          "2021-08-01 00:00:00-04:00",
          "2021-09-01 00:00:00-04:00",
          "2021-10-01 00:00:00-04:00",
          "2021-11-01 00:00:00-04:00",
          "2021-12-01 00:00:00-05:00",
          "2022-01-01 00:00:00-05:00",
          "2022-02-01 00:00:00-05:00",
          "2022-03-01 00:00:00-05:00",
          "2022-04-01 00:00:00-04:00",
          "2022-05-01 00:00:00-04:00",
          "2022-06-01 00:00:00-04:00",
          "2022-07-01 00:00:00-04:00",
          "2022-08-01 00:00:00-04:00",
          "2022-09-01 00:00:00-04:00",
          "2022-10-01 00:00:00-04:00",
          "2022-11-01 00:00:00-04:00",
          "2022-12-01 00:00:00-05:00",
          "2023-01-01 00:00:00-05:00",
          "2023-02-01 00:00:00-05:00",
          "2023-03-01 00:00:00-05:00",
          "2023-04-01 00:00:00-04:00",
          "2023-05-01 00:00:00-04:00",
          "2023-06-01 00:00:00-04:00",
          "2023-07-01 00:00:00-04:00",
          "2023-08-01 00:00:00-04:00",
          "2023-09-01 00:00:00-04:00",
          "2023-10-01 00:00:00-04:00",
          "2023-11-01 00:00:00-04:00",
          "2023-12-01 00:00:00-05:00",
          "2024-01-01 00:00:00-05:00",
          "2024-02-01 00:00:00-05:00"
         ],
         "y": [
          25.79683637536808,
          40.709854651354284,
          36.95874799044868,
          34.574403181779104,
          33.528578407549354,
          36.8831860986085,
          39.76329557636351,
          37.13191223082685,
          40.99158862962627,
          38.427169905578076,
          38.21354206622425,
          38.68881767939677,
          37.2390758958365,
          26.245206331737798,
          26.11627415103056,
          26.364887872677684,
          28.677307175899465,
          26.545673460762774,
          24.408606851838638,
          24.413894140643468,
          26.47647755926673,
          28.055938401352005,
          26.893796142038536,
          24.83575279574342,
          22.508318435407617,
          25.369169850033163,
          21.588300867677628,
          19.040386214362076,
          22.452139377081835,
          16.758403881428652,
          19.82635939220564,
          20.01199579730114,
          24.002511106675918,
          20.888112109037703,
          23.74506003334082,
          20.28674621651179,
          27.628571761886985,
          22.88729003806949,
          34.786214542499806,
          26.74266270205734,
          40.519724871687224,
          35.91255324036647,
          35.2153753943955,
          34.70902585921631,
          31.14860236148786,
          42.674975973852945,
          38.12481294536279,
          39.51802738882909,
          35.038046722650776,
          38.285895863185274,
          39.47582884441497,
          36.26685918139575,
          32.398843415258476,
          31.007286864059402,
          29.384057323162878,
          33.19869883730615,
          30.073192002159253,
          34.993091999843166,
          48.30824847932095,
          46.0790333292929,
          28.862239003396063,
          38.332262471802316,
          65.0660381897549,
          39.90375113913526,
          43.54927317580889,
          26.378786875739486,
          32.326344216375176,
          35.34281154625592,
          33.10911061930939,
          43.66946843028752,
          23.043767897193803,
          30.04551885655552,
          23.922246176593294,
          42.021066825752996,
          26.92015997907964,
          27.14601416409743,
          30.090303652044998,
          25.241014961155315,
          36.094718707770255,
          31.565642983033204,
          36.22650137757352,
          46.597168783556874,
          25.17217034767213,
          37.83832175213182,
          27.033672535804765,
          30.658256840183295,
          77.82932608743937,
          57.74783855006604,
          68.91937891602637,
          50.04986319067969,
          64.16280256838535,
          53.829767320636066,
          59.711414251760566,
          66.6519151760535,
          76.29739845717795,
          61.25214612130936,
          56.190750010138224,
          52.4070990513121,
          50.07520759281145,
          42.915539156111,
          36.95632735707834,
          31.02989656774457
         ]
        }
       ],
       "layout": {
        "autosize": true,
        "shapes": [
         {
          "line": {
           "color": "green",
           "dash": "dot",
           "width": 1
          },
          "type": "line",
          "x0": "2015-09-01T00:00:00-04:00",
          "x1": "2024-02-01T00:00:00-05:00",
          "y0": 75,
          "y1": 75
         },
         {
          "line": {
           "color": "gray",
           "dash": "dot",
           "width": 2
          },
          "type": "line",
          "x0": "2015-09-01T00:00:00-04:00",
          "x1": "2024-02-01T00:00:00-05:00",
          "y0": 50,
          "y1": 50
         },
         {
          "line": {
           "color": "red",
           "dash": "dot",
           "width": 1
          },
          "type": "line",
          "x0": "2015-09-01T00:00:00-04:00",
          "x1": "2024-02-01T00:00:00-05:00",
          "y0": 25,
          "y1": 25
         }
        ],
        "title": {
         "text": "Fear and Greed Index"
        },
        "xaxis": {
         "autorange": true,
         "range": [
          "2015-08-28 18:48:12.0502",
          "2024-02-04 05:11:47.9498"
         ],
         "type": "date"
        },
        "y0": 50,
        "yaxis": {
         "range": [
          0,
          100
         ],
         "type": "linear"
        }
       }
      },
      "image/png": "[encoded data removed]",
      "text/html": [
       "<div>                            <div id=\"76dfff91-bd1a-426d-b592-c4d702e7f2e8\" class=\"plotly-graph-div\" style=\"height:525px; width:100%;\"></div>            <script type=\"text/javascript\">                require([\"plotly\"], function(Plotly) {                    window.PLOTLYENV=window.PLOTLYENV || {};\n",
       "                    window.PLOTLYENV.BASE_URL='https://plot.ly';                                    if (document.getElementById(\"76dfff91-bd1a-426d-b592-c4d702e7f2e8\")) {                    Plotly.newPlot(                        \"76dfff91-bd1a-426d-b592-c4d702e7f2e8\",                        [{\"line\":{\"color\":\"rgba(255, 153, 51, 1.0)\",\"dash\":\"solid\",\"shape\":\"linear\",\"width\":1.3},\"mode\":\"lines\",\"name\":\"fear_greed_index\",\"text\":\"\",\"x\":[\"2015-09-01 00:00:00-04:00\",\"2015-10-01 00:00:00-04:00\",\"2015-11-01 00:00:00-04:00\",\"2015-12-01 00:00:00-05:00\",\"2016-01-01 00:00:00-05:00\",\"2016-02-01 00:00:00-05:00\",\"2016-03-01 00:00:00-05:00\",\"2016-04-01 00:00:00-04:00\",\"2016-05-01 00:00:00-04:00\",\"2016-06-01 00:00:00-04:00\",\"2016-07-01 00:00:00-04:00\",\"2016-08-01 00:00:00-04:00\",\"2016-09-01 00:00:00-04:00\",\"2016-10-01 00:00:00-04:00\",\"2016-11-01 00:00:00-04:00\",\"2016-12-01 00:00:00-05:00\",\"2017-01-01 00:00:00-05:00\",\"2017-02-01 00:00:00-05:00\",\"2017-03-01 00:00:00-05:00\",\"2017-04-01 00:00:00-04:00\",\"2017-05-01 00:00:00-04:00\",\"2017-06-01 00:00:00-04:00\",\"2017-07-01 00:00:00-04:00\",\"2017-08-01 00:00:00-04:00\",\"2017-09-01 00:00:00-04:00\",\"2017-10-01 00:00:00-04:00\",\"2017-11-01 00:00:00-04:00\",\"2017-12-01 00:00:00-05:00\",\"2018-01-01 00:00:00-05:00\",\"2018-02-01 00:00:00-05:00\",\"2018-03-01 00:00:00-05:00\",\"2018-04-01 00:00:00-04:00\",\"2018-05-01 00:00:00-04:00\",\"2018-06-01 00:00:00-04:00\",\"2018-07-01 00:00:00-04:00\",\"2018-08-01 00:00:00-04:00\",\"2018-09-01 00:00:00-04:00\",\"2018-10-01 00:00:00-04:00\",\"2018-11-01 00:00:00-04:00\",\"2018-12-01 00:00:00-05:00\",\"2019-01-01 00:00:00-05:00\",\"2019-02-01 00:00:00-05:00\",\"2019-03-01 00:00:00-05:00\",\"2019-04-01 00:00:00-04:00\",\"2019-05-01 00:00:00-04:00\",\"2019-06-01 00:00:00-04:00\",\"2019-07-01 00:00:00-04:00\",\"2019-08-01 00:00:00-04:00\",\"2019-09-01 00:00:00-04:00\",\"2019-10-01 00:00:00-04:00\",\"2019-11-01 00:00:00-04:00\",\"2019-12-01 00:00:00-05:00\",\"2020-01-01 00:00:00-05:00\",\"2020-02-01 00:00:00-05:00\",\"2020-03-01 00:00:00-05:00\",\"2020-04-01 00:00:00-04:00\",\"2020-05-01 00:00:00-04:00\",\"2020-06-01 00:00:00-04:00\",\"2020-07-01 00:00:00-04:00\",\"2020-08-01 00:00:00-04:00\",\"2020-09-01 00:00:00-04:00\",\"2020-10-01 00:00:00-04:00\",\"2020-11-01 00:00:00-04:00\",\"2020-12-01 00:00:00-05:00\",\"2021-01-01 00:00:00-05:00\",\"2021-02-01 00:00:00-05:00\",\"2021-03-01 00:00:00-05:00\",\"2021-04-01 00:00:00-04:00\",\"2021-05-01 00:00:00-04:00\",\"2021-06-01 00:00:00-04:00\",\"2021-07-01 00:00:00-04:00\",\"2021-08-01 00:00:00-04:00\",\"2021-09-01 00:00:00-04:00\",\"2021-10-01 00:00:00-04:00\",\"2021-11-01 00:00:00-04:00\",\"2021-12-01 00:00:00-05:00\",\"2022-01-01 00:00:00-05:00\",\"2022-02-01 00:00:00-05:00\",\"2022-03-01 00:00:00-05:00\",\"2022-04-01 00:00:00-04:00\",\"2022-05-01 00:00:00-04:00\",\"2022-06-01 00:00:00-04:00\",\"2022-07-01 00:00:00-04:00\",\"2022-08-01 00:00:00-04:00\",\"2022-09-01 00:00:00-04:00\",\"2022-10-01 00:00:00-04:00\",\"2022-11-01 00:00:00-04:00\",\"2022-12-01 00:00:00-05:00\",\"2023-01-01 00:00:00-05:00\",\"2023-02-01 00:00:00-05:00\",\"2023-03-01 00:00:00-05:00\",\"2023-04-01 00:00:00-04:00\",\"2023-05-01 00:00:00-04:00\",\"2023-06-01 00:00:00-04:00\",\"2023-07-01 00:00:00-04:00\",\"2023-08-01 00:00:00-04:00\",\"2023-09-01 00:00:00-04:00\",\"2023-10-01 00:00:00-04:00\",\"2023-11-01 00:00:00-04:00\",\"2023-12-01 00:00:00-05:00\",\"2024-01-01 00:00:00-05:00\",\"2024-02-01 00:00:00-05:00\"],\"y\":[25.79683637536808,40.709854651354284,36.95874799044868,34.574403181779104,33.528578407549354,36.8831860986085,39.76329557636351,37.13191223082685,40.99158862962627,38.427169905578076,38.21354206622425,38.68881767939677,37.2390758958365,26.245206331737798,26.11627415103056,26.364887872677684,28.677307175899465,26.545673460762774,24.408606851838638,24.413894140643468,26.47647755926673,28.055938401352005,26.893796142038536,24.83575279574342,22.508318435407617,25.369169850033163,21.588300867677628,19.040386214362076,22.452139377081835,16.758403881428652,19.82635939220564,20.01199579730114,24.002511106675918,20.888112109037703,23.74506003334082,20.28674621651179,27.628571761886985,22.88729003806949,34.786214542499806,26.74266270205734,40.519724871687224,35.91255324036647,35.2153753943955,34.70902585921631,31.14860236148786,42.674975973852945,38.12481294536279,39.51802738882909,35.038046722650776,38.285895863185274,39.47582884441497,36.26685918139575,32.398843415258476,31.007286864059402,29.384057323162878,33.19869883730615,30.073192002159253,34.993091999843166,48.30824847932095,46.0790333292929,28.862239003396063,38.332262471802316,65.0660381897549,39.90375113913526,43.54927317580889,26.378786875739486,32.326344216375176,35.34281154625592,33.10911061930939,43.66946843028752,23.043767897193803,30.04551885655552,23.922246176593294,42.021066825752996,26.92015997907964,27.14601416409743,30.090303652044998,25.241014961155315,36.094718707770255,31.565642983033204,36.22650137757352,46.597168783556874,25.17217034767213,37.83832175213182,27.033672535804765,30.658256840183295,77.82932608743937,57.74783855006604,68.91937891602637,50.04986319067969,64.16280256838535,53.829767320636066,59.711414251760566,66.6519151760535,76.29739845717795,61.25214612130936,56.190750010138224,52.4070990513121,50.07520759281145,42.915539156111,36.95632735707834,31.02989656774457],\"type\":\"scatter\"}],                        {\"shapes\":[{\"type\":\"line\",\"x0\":\"2015-09-01T00:00:00-04:00\",\"y0\":75,\"x1\":\"2024-02-01T00:00:00-05:00\",\"y1\":75,\"line\":{\"color\":\"green\",\"width\":1,\"dash\":\"dot\"}},{\"type\":\"line\",\"x0\":\"2015-09-01T00:00:00-04:00\",\"y0\":50,\"x1\":\"2024-02-01T00:00:00-05:00\",\"y1\":50,\"line\":{\"color\":\"gray\",\"width\":2,\"dash\":\"dot\"}},{\"type\":\"line\",\"x0\":\"2015-09-01T00:00:00-04:00\",\"y0\":25,\"x1\":\"2024-02-01T00:00:00-05:00\",\"y1\":25,\"line\":{\"color\":\"red\",\"width\":1,\"dash\":\"dot\"}}],\"yaxis\":{\"range\":[0,100]},\"y0\":50,\"title\":\"Fear and Greed Index\"},                        {\"showLink\": true, \"linkText\": \"Export to plot.ly\", \"plotlyServerURL\": \"https://plot.ly\", \"responsive\": true}                    ).then(function(){\n",
       "                            \n",
       "var gd = document.getElementById('76dfff91-bd1a-426d-b592-c4d702e7f2e8');\n",
       "var x = new MutationObserver(function (mutations, observer) {{\n",
       "        var display = window.getComputedStyle(gd).display;\n",
       "        if (!display || display === 'none') {{\n",
       "            console.log([gd, 'removed!']);\n",
       "            Plotly.purge(gd);\n",
       "            observer.disconnect();\n",
       "        }}\n",
       "}});\n",
       "\n",
       "// Listen for the removal of the full notebook cells\n",
       "var notebookContainer = gd.closest('#notebook-container');\n",
       "if (notebookContainer) {{\n",
       "    x.observe(notebookContainer, {childList: true});\n",
       "}}\n",
       "\n",
       "// Listen for the clearing of the current output cell\n",
       "var outputEl = gd.closest('.output');\n",
       "if (outputEl) {{\n",
       "    x.observe(outputEl, {childList: true});\n",
       "}}\n",
       "\n",
       "                        })                };                });            </script>        </div>"
      ]
     },
     "metadata": {},
     "output_type": "display_data"
    }
   ],
   "source": [
    "layout = {\n",
    "    'shapes': [\n",
    "        {\n",
    "            'type': 'line',\n",
    "            'x0': fear_greed_index_data.index.min(),\n",
    "            'y0': 75,  # 指定线的y值\n",
    "            'x1': fear_greed_index_data.index.max(),\n",
    "            'y1': 75,  # 线的y值保持不变，因为这是一条水平线\n",
    "            'line': {\n",
    "                'color': 'green',\n",
    "                'width': 1,\n",
    "                'dash': 'dot',  # 线的样式（实线、虚线等）\n",
    "            },\n",
    "        },\n",
    "        {\n",
    "            'type': 'line',\n",
    "            'x0': fear_greed_index_data.index.min(),\n",
    "            'y0': 50,  # 指定线的y值\n",
    "            'x1': fear_greed_index_data.index.max(),\n",
    "            'y1': 50,  # 线的y值保持不变，因为这是一条水平线\n",
    "            'line': {\n",
    "                'color': 'gray',\n",
    "                'width': 2,\n",
    "                'dash': 'dot',  # 线的样式（实线、虚线等）\n",
    "            },\n",
    "        },\n",
    "        {\n",
    "            'type': 'line',\n",
    "            'x0': fear_greed_index_data.index.min(),\n",
    "            'y0': 25,  # 指定线的y值\n",
    "            'x1': fear_greed_index_data.index.max(),\n",
    "            'y1': 25,  # 线的y值保持不变，因为这是一条水平线\n",
    "            'line': {\n",
    "                'color': 'red',\n",
    "                'width': 1,\n",
    "                'dash': 'dot',  # 线的样式（实线、虚线等）\n",
    "            },\n",
    "        }\n",
    "    ],\n",
    "    'yaxis': {\n",
    "        'range': [0, 100]  # 设置y轴的最小值和最大值\n",
    "    },\n",
    "    'y0': 50,  # 指定线的y值\n",
    "    'title': 'Fear and Greed Index'\n",
    "}\n",
    "\n",
    "fear_greed_index_data['fear_greed_index'].iplot(kind='line', layout=layout)"
   ]
  },
  {
   "cell_type": "code",
   "execution_count": null,
   "id": "6071e0dc-3023-4651-ada0-d75e45980dcb",
   "metadata": {},
   "outputs": [],
   "source": []
  }
 ],
 "metadata": {
  "kernelspec": {
   "display_name": "Python 3 (ipykernel)",
   "language": "python",
   "name": "python3"
  },
  "language_info": {
   "codemirror_mode": {
    "name": "ipython",
    "version": 3
   },
   "file_extension": ".py",
   "mimetype": "text/x-python",
   "name": "python",
   "nbconvert_exporter": "python",
   "pygments_lexer": "ipython3",
   "version": "3.11.6"
  }
 },
 "nbformat": 4,
 "nbformat_minor": 5
}
