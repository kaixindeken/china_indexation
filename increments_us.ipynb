{
 "cells": [
  {
   "cell_type": "code",
   "execution_count": 1,
   "id": "1d769bc0-3d24-445f-a79c-e260521a24ab",
   "metadata": {},
   "outputs": [
    {
     "name": "stderr",
     "output_type": "stream",
     "text": [
      "/tmp/ipykernel_6184/2295897713.py:4: DeprecationWarning: \n",
      "Pyarrow will become a required dependency of pandas in the next major release of pandas (pandas 3.0),\n",
      "(to allow more performant data types, such as the Arrow string type, and better interoperability with other libraries)\n",
      "but was not found to be installed on your system.\n",
      "If this would cause problems for you,\n",
      "please provide us feedback at https://github.com/pandas-dev/pandas/issues/54466\n",
      "        \n",
      "  import pandas as pd\n"
     ]
    }
   ],
   "source": [
    "import datetime\n",
    "import time\n",
    "import unittest\n",
    "import pandas as pd\n",
    "import pytz\n",
    "import matplotlib.pyplot as plt"
   ]
  },
  {
   "cell_type": "code",
   "execution_count": 2,
   "id": "ea8dba54-0744-4b38-a179-41ee4f8f4aec",
   "metadata": {},
   "outputs": [],
   "source": [
    "from tigeropen.common.consts import BarPeriod\n",
    "from tigeropen.quote.quote_client import QuoteClient\n",
    "from tigeropen.tiger_open_config import TigerOpenClientConfig"
   ]
  },
  {
   "cell_type": "code",
   "execution_count": 3,
   "id": "93ee5a63-56a2-4e23-8583-d98c84ec4625",
   "metadata": {},
   "outputs": [],
   "source": [
    "pd.set_option('display.max_columns', 500)\n",
    "pd.set_option('display.max_rows', 100)\n",
    "pd.set_option('display.width', 1000)"
   ]
  },
  {
   "cell_type": "code",
   "execution_count": 4,
   "id": "4accacdf-8f87-4897-afa8-abc04a242995",
   "metadata": {},
   "outputs": [],
   "source": [
    "def get_client_config():\n",
    "    \"\"\"\n",
    "    https://quant.itigerup.com/#developer 开发者信息获取\n",
    "    \"\"\"\n",
    "    # 港股牌照需用 props_path 参数指定token路径，如 '/Users/xxx/xxx/', 如不指定则取当前路径\n",
    "    client_config = TigerOpenClientConfig(props_path='tiger_openapi_config.properties')\n",
    "    return client_config"
   ]
  },
  {
   "cell_type": "code",
   "execution_count": 5,
   "id": "4070fd22-c70a-4767-824f-cdec2527357d",
   "metadata": {},
   "outputs": [],
   "source": [
    "# 调用上方定义的函数生成用户配置ClientConfig对象\n",
    "client_config = get_client_config()\n",
    "\n",
    "# 随后传入配置参数对象来初始化QuoteClient\n",
    "quote_client = QuoteClient(client_config)\n",
    "\n",
    "SYMBOL = \"symbol\"\n",
    "TIME = \"time\"\n",
    "CLOSE = \"close\"\n",
    "DATE = \"date\"\n",
    "\n",
    "# 需要请求的k线bar的总个数.  total number of requested bars.\n",
    "BARS_TOTAL_NUMBER = 2000\n",
    "\n",
    "# 每次请求bar的个数，系统限制每个symbol每次最多请求1200个bar.\n",
    "# number of bars per request, the system limits each symbol to a maximum of 1200 bars per request.\n",
    "BARS_BATCH_SIZE = 300\n",
    "\n",
    "# 每次请求symbol的个数，系统限制每次最多请求50个symbol\n",
    "# number of symbols per request, the system limits each request to a maximum of 50 symbols.\n",
    "SYMBOLS_BATCH_SIZE = 50\n",
    "\n",
    "# 每次请求的间隔时间，防止过快的请求频率触发系统限流. 单位：秒\n",
    "# The interval between each request, to prevent requests too fast to trigger the system rate limit. Time unit: second\n",
    "REQUEST_INTERVAL = 0.5"
   ]
  },
  {
   "cell_type": "code",
   "execution_count": 6,
   "id": "b4c44c46-7a00-4639-a323-c9d92a5d399b",
   "metadata": {},
   "outputs": [],
   "source": [
    "def request_bars(symbols, period, end_time, bars_batch_size):\n",
    "        \"\"\"\n",
    "        请求k线. Request history bars.\n",
    "        :param symbols: like ['AAPL', 'TSLA']\n",
    "        :param period: k线周期. tigeropen.common.consts.BarPeriod. like BarPeriod.DAY\n",
    "        :param end_time: end time in timestamp format. like 1645499400000\n",
    "        :param bars_batch_size: 每个symbol限制请求的bar数量. bars limit size of each symbol\n",
    "        :return:\n",
    "        \"\"\"\n",
    "        symbols = list(symbols)\n",
    "        result = pd.DataFrame()\n",
    "        for i in range(0, len(symbols), SYMBOLS_BATCH_SIZE):\n",
    "            part = symbols[i:i + SYMBOLS_BATCH_SIZE]\n",
    "            quote = quote_client.get_bars(part, period=period, end_time=end_time, limit=bars_batch_size)\n",
    "            #result = result.append(quote)\n",
    "            result = pd.concat([result, quote])\n",
    "            # to avoid rate limit\n",
    "            time.sleep(REQUEST_INTERVAL)\n",
    "        return result"
   ]
  },
  {
   "cell_type": "code",
   "execution_count": 7,
   "id": "b693eed1-98c2-4125-a34c-728274ddfbd1",
   "metadata": {},
   "outputs": [
    {
     "name": "stdout",
     "output_type": "stream",
     "text": [
      "query 7 symobls history, end_time:1707033363676 -- 2024-02-04 02:56:03.676000-05:00, limit:300\n",
      "query 7 symobls history, end_time:959832000000 -- 2000-06-01 00:00:00-04:00, limit:300\n",
      "                          symbol     open     high      low    close     volume\n",
      "date                                                                           \n",
      "2014-09-01 00:00:00-04:00   NTES   17.544   18.140   16.774   17.132   24260500\n",
      "2014-09-01 00:00:00-04:00     JD   32.000   32.350   25.300   25.820  108197700\n",
      "2014-09-01 00:00:00-04:00   BABA   92.700   99.700   86.620   88.850  454681100\n",
      "2014-10-01 00:00:00-04:00   NTES   17.212   19.158   16.284   18.944   51385500\n",
      "2014-10-01 00:00:00-04:00   BABA   88.700  100.670   82.810   98.600  399677000\n",
      "...                          ...      ...      ...      ...      ...        ...\n",
      "2024-02-01 00:00:00-05:00    NIO    5.730    5.915    5.430    5.540  108346952\n",
      "2024-02-01 00:00:00-05:00   NTES  100.290  101.760   98.185   98.830    2459591\n",
      "2024-02-01 00:00:00-05:00   XPEV    8.500    8.730    8.020    8.190   24764168\n",
      "2024-02-01 00:00:00-05:00    PDD  127.220  129.155  122.250  124.590   13205523\n",
      "2024-02-01 00:00:00-05:00     LI   28.480   29.630   28.265   28.340   18324387\n",
      "\n",
      "[563 rows x 6 columns]\n"
     ]
    }
   ],
   "source": [
    "# US market\n",
    "symbols = ['BABA', 'PDD', 'JD', 'NTES', 'NIO', 'XPEV', 'LI']\n",
    "timezone = 'US/Eastern'\n",
    "\n",
    "end = int(datetime.datetime.today().timestamp() * 1000)\n",
    "history = pd.DataFrame()\n",
    "for i in range(0, BARS_TOTAL_NUMBER, BARS_BATCH_SIZE):\n",
    "    if i + BARS_BATCH_SIZE <= BARS_TOTAL_NUMBER:\n",
    "        limit = BARS_BATCH_SIZE\n",
    "    else:\n",
    "        limit = i + BARS_BATCH_SIZE - BARS_TOTAL_NUMBER\n",
    "    end_time = datetime.datetime.fromtimestamp(end/1000, pytz.timezone(timezone))\n",
    "    print(f'query {len(symbols)} symobls history, end_time:{end} -- {end_time}, limit:{limit}')\n",
    "    # 其他周期可修改period参数. \n",
    "    part = request_bars(symbols=symbols, period=BarPeriod.MONTH, end_time=end, bars_batch_size=BARS_BATCH_SIZE)\n",
    "    part[DATE] = pd.to_datetime(part[TIME], unit='ms').dt.tz_localize('UTC').dt.tz_convert(timezone)\n",
    "    if (len(part[TIME]) == 0): \n",
    "        break\n",
    "    end = min(part[TIME])\n",
    "    history = pd.concat([history, part])\n",
    "history.set_index([DATE], inplace=True)\n",
    "history.sort_index(inplace=True)\n",
    "\n",
    "# 2014年9月1日\n",
    "history.drop(history[history[TIME] < 1409500800000].index, inplace=True)\n",
    "\n",
    "history.drop('time', axis=1, inplace=True)\n",
    "history.drop('amount', axis=1, inplace=True)\n",
    "history.drop('next_page_token', axis=1, inplace=True)\n",
    "\n",
    "print(history)"
   ]
  },
  {
   "cell_type": "code",
   "execution_count": 8,
   "id": "89264bf6-d670-4a27-92af-e90637101ad5",
   "metadata": {},
   "outputs": [
    {
     "name": "stdout",
     "output_type": "stream",
     "text": [
      "                              open      high      low    close      volume\n",
      "date                                                                      \n",
      "2014-09-01 00:00:00-04:00  142.244  150.1900  128.694  131.802   587139300\n",
      "2014-10-01 00:00:00-04:00  131.432  146.6180  121.694  141.434   546810500\n",
      "2014-11-01 00:00:00-04:00  142.368  169.8940  140.676  156.294   803599100\n",
      "2014-12-01 00:00:00-05:00  154.490  158.8200  142.026  146.908   512507200\n",
      "2015-01-01 00:00:00-05:00  147.574  154.5880  129.690  135.770   502175600\n",
      "...                            ...       ...      ...      ...         ...\n",
      "2023-10-01 00:00:00-04:00  377.268  406.2363  348.760  371.890  1784067732\n",
      "2023-11-01 00:00:00-04:00  372.155  453.2400  359.580  424.060  2078303678\n",
      "2023-12-01 00:00:00-05:00  416.430  435.3050  365.560  406.960  2835371119\n",
      "2024-01-01 00:00:00-05:00  398.980  420.9700  336.870  360.860  2890076288\n",
      "2024-02-01 00:00:00-05:00  365.955  371.3373  354.725  359.120   231815612\n",
      "\n",
      "[114 rows x 5 columns]\n"
     ]
    }
   ],
   "source": [
    "ind = history.groupby('date').agg({'open':'sum', 'high':'sum', 'low':'sum', 'close':'sum', 'volume':'sum'}).reset_index()\n",
    "indexation = pd.DataFrame(ind)\n",
    "indexation.set_index([DATE], inplace=True)\n",
    "indexation.sort_index(inplace=True)\n",
    "\n",
    "print(indexation)"
   ]
  },
  {
   "cell_type": "code",
   "execution_count": 9,
   "id": "aad3964f",
   "metadata": {},
   "outputs": [
    {
     "data": {
      "text/html": [
       "        <script type=\"text/javascript\">\n",
       "        window.PlotlyConfig = {MathJaxConfig: 'local'};\n",
       "        if (window.MathJax && window.MathJax.Hub && window.MathJax.Hub.Config) {window.MathJax.Hub.Config({SVG: {font: \"STIX-Web\"}});}\n",
       "        if (typeof require !== 'undefined') {\n",
       "        require.undef(\"plotly\");\n",
       "        requirejs.config({\n",
       "            paths: {\n",
       "                'plotly': ['https://cdn.plot.ly/plotly-2.27.0.min']\n",
       "            }\n",
       "        });\n",
       "        require(['plotly'], function(Plotly) {\n",
       "            window._Plotly = Plotly;\n",
       "        });\n",
       "        }\n",
       "        </script>\n",
       "        "
      ]
     },
     "metadata": {},
     "output_type": "display_data"
    }
   ],
   "source": [
    "import cufflinks as cf"
   ]
  },
  {
   "cell_type": "code",
   "execution_count": 10,
   "id": "3889192e",
   "metadata": {},
   "outputs": [
    {
     "data": {
      "text/html": [
       "        <script type=\"text/javascript\">\n",
       "        window.PlotlyConfig = {MathJaxConfig: 'local'};\n",
       "        if (window.MathJax && window.MathJax.Hub && window.MathJax.Hub.Config) {window.MathJax.Hub.Config({SVG: {font: \"STIX-Web\"}});}\n",
       "        if (typeof require !== 'undefined') {\n",
       "        require.undef(\"plotly\");\n",
       "        requirejs.config({\n",
       "            paths: {\n",
       "                'plotly': ['https://cdn.plot.ly/plotly-2.27.0.min']\n",
       "            }\n",
       "        });\n",
       "        require(['plotly'], function(Plotly) {\n",
       "            window._Plotly = Plotly;\n",
       "        });\n",
       "        }\n",
       "        </script>\n",
       "        "
      ]
     },
     "metadata": {},
     "output_type": "display_data"
    },
    {
     "data": {
      "application/vnd.plotly.v1+json": {
       "config": {
        "linkText": "Export to plot.ly",
        "plotlyServerURL": "https://plot.ly",
        "showLink": true
       },
       "data": [
        {
         "close": [
          131.802,
          141.434,
          156.29399999999998,
          146.908,
          135.76999999999998,
          132.798,
          133.67999999999998,
          140.488,
          151.28199999999998,
          145.344,
          139.096,
          114.236,
          109.054,
          140.356,
          148.092,
          149.783,
          124.28800000000001,
          121.44200000000001,
          134.246,
          130.64,
          142.178,
          139.404,
          144.984,
          164.994,
          180.036,
          179.038,
          165.71,
          156.31799999999998,
          180.49,
          194.482,
          195.74,
          203.648,
          219.446,
          240.246,
          262.376,
          268.818,
          263.672,
          278.794,
          280.27200000000005,
          282.86400000000003,
          317.552,
          291.96,
          280.108,
          266.464,
          278.854,
          275.014,
          297.28,
          265.202,
          269.77,
          230.92000000000002,
          258.17400000000004,
          233.88400000000001,
          280.81600000000003,
          294.894,
          290.78999999999996,
          299.826,
          247.212,
          274.07399999999996,
          274.92400000000004,
          292.15999999999997,
          282.45599999999996,
          307.322,
          333.93399999999997,
          350.498,
          347.432,
          350.162,
          337.98199999999997,
          365.61199999999997,
          409.15,
          455.316,
          526.234,
          607.882,
          595.354,
          633.11,
          723.1700000000001,
          714.47,
          760.65,
          717.9,
          648.6899999999999,
          643.79,
          624.76,
          681.42,
          578.49,
          555.6600000000001,
          493.82000000000005,
          548.4,
          515.44,
          463.05,
          449.56,
          413.68,
          370.92,
          360.90999999999997,
          372.21,
          424.83,
          367.86,
          385.91,
          319.2,
          241.23,
          343.49,
          338.49,
          403.93,
          339.52,
          356.98,
          318.56,
          307.01,
          341.52,
          421.05,
          398.27000000000004,
          377.15,
          371.89,
          424.06,
          406.96,
          360.86,
          359.12
         ],
         "decreasing": {
          "line": {
           "color": "#db4052"
          }
         },
         "high": [
          150.19,
          146.618,
          169.894,
          158.82,
          154.588,
          144.064,
          139.108,
          150.088,
          160.49,
          160.576,
          151.846,
          145.974,
          121.134,
          143.234,
          151.674,
          156.58999999999997,
          144.4832,
          129.558,
          139.18,
          145.21,
          143.5,
          143.16400000000002,
          149.9538,
          168.914,
          188.056,
          192.751,
          183.778,
          167.195,
          185.016,
          198.06,
          204.652,
          208.86599999999999,
          228.734,
          259.98,
          271.424,
          289.269,
          285.91,
          282.764,
          309.53999999999996,
          299.688,
          327.964,
          313.92,
          314.95,
          282.818,
          295.404,
          309.79999999999995,
          320.058,
          301.2099,
          294.2435,
          276.236,
          267.82,
          276.71000000000004,
          285.214,
          306.77,
          310.42400000000004,
          310.149,
          313.807,
          281.656,
          292.48,
          301.41700000000003,
          312.79519999999997,
          315.24,
          348.15999999999997,
          364.4,
          391.04,
          384.9,
          373.172,
          395.234,
          431.9604,
          480.204,
          570.7339999999999,
          646.34,
          644.6220000000001,
          672.324,
          837.61,
          795.38,
          858.85,
          878.7515000000001,
          758.865,
          710.03,
          672.6199,
          708.7399,
          693.89,
          618.5335,
          587.58,
          609.1424999999999,
          614.285,
          535.8999,
          518.545,
          480.095,
          445.5112,
          420.52000000000004,
          397.2649,
          468.4189,
          458.515,
          424.9799,
          390.19,
          345.26370000000003,
          354.92,
          375.9944,
          440.5,
          424.505,
          390.4699,
          365.015,
          343.48,
          377.85490000000004,
          427.1625,
          438.3836,
          417.32,
          406.2363,
          453.24,
          435.305,
          420.96999999999997,
          371.3373
         ],
         "increasing": {
          "line": {
           "color": "#008000"
          }
         },
         "low": [
          128.69400000000002,
          121.69399999999999,
          140.676,
          142.026,
          129.69,
          127.99799999999999,
          125.914,
          130.38600000000002,
          134.272,
          140.59199999999998,
          127.556,
          100.11,
          101.12,
          106.50200000000001,
          130.3308,
          141.2742,
          120.41,
          107.305,
          121.59,
          126.374,
          123.43,
          125.01,
          134.287,
          143.21,
          163.9348,
          173.042,
          154.533,
          153.482,
          156.791,
          177.9282,
          188.04199999999997,
          189.118,
          200.322,
          215.788,
          236.025,
          238.71800000000002,
          255.25,
          256.67,
          265.148,
          262.46,
          280.94,
          266.578,
          268.68609999999995,
          250.7,
          254.9943,
          263.2,
          285.064,
          250.886,
          238.1,
          211.865,
          222.0464,
          218.79200000000003,
          221.27800000000002,
          263.172,
          268.313,
          279.505,
          244.75,
          243.721,
          261.237,
          243.41199999999998,
          272.245,
          271.63800000000003,
          295.692,
          317.002,
          335.848,
          333.913,
          288.131,
          322.41700000000003,
          342.879,
          400.366,
          457.272,
          525.836,
          545.0351,
          570.12,
          575.6410000000001,
          606.74,
          677.64,
          695.115,
          594.02,
          599.63,
          554.14,
          597.2755999999999,
          500.2201,
          465.605,
          476.437,
          463.6017,
          477.4101,
          408.58,
          383.48,
          375.64,
          254.55,
          308.15,
          288.895,
          346.65000000000003,
          351.77,
          332.72499999999997,
          308.01,
          210.214,
          239.97,
          320.725,
          345.3951,
          330.09999999999997,
          304.992,
          300.777,
          286.90000000000003,
          303.045,
          336.595,
          353.275,
          356.105,
          348.76,
          359.58,
          365.56,
          336.87,
          354.725
         ],
         "name": "QF",
         "open": [
          142.244,
          131.43200000000002,
          142.368,
          154.49,
          147.574,
          138.028,
          133.08,
          133.76600000000002,
          140.58,
          152.708,
          145.36599999999999,
          138.55,
          111.02199999999999,
          110.412,
          139.97,
          147.04999999999998,
          143.27,
          123.29,
          124.128,
          132.964,
          130.288,
          138.702,
          139,
          145.33,
          165.09,
          180.228,
          178.13,
          165.812,
          158.826,
          181.938,
          196.014,
          196.94799999999998,
          203.84199999999998,
          220.058,
          242.096,
          264.87,
          269.19,
          265.998,
          282.696,
          277.216,
          288.139,
          303.254,
          292.08000000000004,
          279.298,
          265.40200000000004,
          280.93,
          296.056,
          292.256,
          267.468,
          271.346,
          234.95999999999998,
          270.258,
          228.732,
          279.382,
          298.21,
          295.81600000000003,
          301.386,
          247.68599999999998,
          283.947,
          276.59799999999996,
          289.37600000000003,
          283.298,
          311.24,
          332.668,
          357.916,
          350.001,
          354.986,
          330.124,
          355.317,
          407.98199999999997,
          469.8675,
          555.666,
          613.64,
          600.29,
          649.13,
          735.245,
          714.01,
          781.71,
          740.25,
          671.94,
          643.8624,
          648.175,
          686.99,
          583.8535,
          556.235,
          494.9588,
          551.4401,
          528.7950000000001,
          465.71000000000004,
          449.278,
          413.75,
          399.46,
          357.46000000000004,
          372.33,
          425.64,
          363.455,
          377.35,
          317.714,
          259.73,
          331.44,
          353.4,
          415.2,
          358.805,
          353.53,
          317.16,
          304.31,
          352.38,
          414.995,
          404.49,
          377.26800000000003,
          372.155,
          416.43,
          398.97999999999996,
          365.955
         ],
         "showlegend": true,
         "type": "candlestick",
         "x": [
          "2014-09-01 00:00:00-04:00",
          "2014-10-01 00:00:00-04:00",
          "2014-11-01 00:00:00-04:00",
          "2014-12-01 00:00:00-05:00",
          "2015-01-01 00:00:00-05:00",
          "2015-02-01 00:00:00-05:00",
          "2015-03-01 00:00:00-05:00",
          "2015-04-01 00:00:00-04:00",
          "2015-05-01 00:00:00-04:00",
          "2015-06-01 00:00:00-04:00",
          "2015-07-01 00:00:00-04:00",
          "2015-08-01 00:00:00-04:00",
          "2015-09-01 00:00:00-04:00",
          "2015-10-01 00:00:00-04:00",
          "2015-11-01 00:00:00-04:00",
          "2015-12-01 00:00:00-05:00",
          "2016-01-01 00:00:00-05:00",
          "2016-02-01 00:00:00-05:00",
          "2016-03-01 00:00:00-05:00",
          "2016-04-01 00:00:00-04:00",
          "2016-05-01 00:00:00-04:00",
          "2016-06-01 00:00:00-04:00",
          "2016-07-01 00:00:00-04:00",
          "2016-08-01 00:00:00-04:00",
          "2016-09-01 00:00:00-04:00",
          "2016-10-01 00:00:00-04:00",
          "2016-11-01 00:00:00-04:00",
          "2016-12-01 00:00:00-05:00",
          "2017-01-01 00:00:00-05:00",
          "2017-02-01 00:00:00-05:00",
          "2017-03-01 00:00:00-05:00",
          "2017-04-01 00:00:00-04:00",
          "2017-05-01 00:00:00-04:00",
          "2017-06-01 00:00:00-04:00",
          "2017-07-01 00:00:00-04:00",
          "2017-08-01 00:00:00-04:00",
          "2017-09-01 00:00:00-04:00",
          "2017-10-01 00:00:00-04:00",
          "2017-11-01 00:00:00-04:00",
          "2017-12-01 00:00:00-05:00",
          "2018-01-01 00:00:00-05:00",
          "2018-02-01 00:00:00-05:00",
          "2018-03-01 00:00:00-05:00",
          "2018-04-01 00:00:00-04:00",
          "2018-05-01 00:00:00-04:00",
          "2018-06-01 00:00:00-04:00",
          "2018-07-01 00:00:00-04:00",
          "2018-08-01 00:00:00-04:00",
          "2018-09-01 00:00:00-04:00",
          "2018-10-01 00:00:00-04:00",
          "2018-11-01 00:00:00-04:00",
          "2018-12-01 00:00:00-05:00",
          "2019-01-01 00:00:00-05:00",
          "2019-02-01 00:00:00-05:00",
          "2019-03-01 00:00:00-05:00",
          "2019-04-01 00:00:00-04:00",
          "2019-05-01 00:00:00-04:00",
          "2019-06-01 00:00:00-04:00",
          "2019-07-01 00:00:00-04:00",
          "2019-08-01 00:00:00-04:00",
          "2019-09-01 00:00:00-04:00",
          "2019-10-01 00:00:00-04:00",
          "2019-11-01 00:00:00-04:00",
          "2019-12-01 00:00:00-05:00",
          "2020-01-01 00:00:00-05:00",
          "2020-02-01 00:00:00-05:00",
          "2020-03-01 00:00:00-05:00",
          "2020-04-01 00:00:00-04:00",
          "2020-05-01 00:00:00-04:00",
          "2020-06-01 00:00:00-04:00",
          "2020-07-01 00:00:00-04:00",
          "2020-08-01 00:00:00-04:00",
          "2020-09-01 00:00:00-04:00",
          "2020-10-01 00:00:00-04:00",
          "2020-11-01 00:00:00-04:00",
          "2020-12-01 00:00:00-05:00",
          "2021-01-01 00:00:00-05:00",
          "2021-02-01 00:00:00-05:00",
          "2021-03-01 00:00:00-05:00",
          "2021-04-01 00:00:00-04:00",
          "2021-05-01 00:00:00-04:00",
          "2021-06-01 00:00:00-04:00",
          "2021-07-01 00:00:00-04:00",
          "2021-08-01 00:00:00-04:00",
          "2021-09-01 00:00:00-04:00",
          "2021-10-01 00:00:00-04:00",
          "2021-11-01 00:00:00-04:00",
          "2021-12-01 00:00:00-05:00",
          "2022-01-01 00:00:00-05:00",
          "2022-02-01 00:00:00-05:00",
          "2022-03-01 00:00:00-05:00",
          "2022-04-01 00:00:00-04:00",
          "2022-05-01 00:00:00-04:00",
          "2022-06-01 00:00:00-04:00",
          "2022-07-01 00:00:00-04:00",
          "2022-08-01 00:00:00-04:00",
          "2022-09-01 00:00:00-04:00",
          "2022-10-01 00:00:00-04:00",
          "2022-11-01 00:00:00-04:00",
          "2022-12-01 00:00:00-05:00",
          "2023-01-01 00:00:00-05:00",
          "2023-02-01 00:00:00-05:00",
          "2023-03-01 00:00:00-05:00",
          "2023-04-01 00:00:00-04:00",
          "2023-05-01 00:00:00-04:00",
          "2023-06-01 00:00:00-04:00",
          "2023-07-01 00:00:00-04:00",
          "2023-08-01 00:00:00-04:00",
          "2023-09-01 00:00:00-04:00",
          "2023-10-01 00:00:00-04:00",
          "2023-11-01 00:00:00-04:00",
          "2023-12-01 00:00:00-05:00",
          "2024-01-01 00:00:00-05:00",
          "2024-02-01 00:00:00-05:00"
         ],
         "yaxis": "y2"
        }
       ],
       "layout": {
        "autosize": true,
        "legend": {
         "bgcolor": "#F5F6F9",
         "font": {
          "color": "#4D5663"
         }
        },
        "margin": {
         "b": 30,
         "l": 30,
         "r": 30,
         "t": 30
        },
        "paper_bgcolor": "#F5F6F9",
        "plot_bgcolor": "#F5F6F9",
        "showlegend": true,
        "template": {
         "data": {
          "bar": [
           {
            "error_x": {
             "color": "#2a3f5f"
            },
            "error_y": {
             "color": "#2a3f5f"
            },
            "marker": {
             "line": {
              "color": "#E5ECF6",
              "width": 0.5
             },
             "pattern": {
              "fillmode": "overlay",
              "size": 10,
              "solidity": 0.2
             }
            },
            "type": "bar"
           }
          ],
          "barpolar": [
           {
            "marker": {
             "line": {
              "color": "#E5ECF6",
              "width": 0.5
             },
             "pattern": {
              "fillmode": "overlay",
              "size": 10,
              "solidity": 0.2
             }
            },
            "type": "barpolar"
           }
          ],
          "carpet": [
           {
            "aaxis": {
             "endlinecolor": "#2a3f5f",
             "gridcolor": "white",
             "linecolor": "white",
             "minorgridcolor": "white",
             "startlinecolor": "#2a3f5f"
            },
            "baxis": {
             "endlinecolor": "#2a3f5f",
             "gridcolor": "white",
             "linecolor": "white",
             "minorgridcolor": "white",
             "startlinecolor": "#2a3f5f"
            },
            "type": "carpet"
           }
          ],
          "choropleth": [
           {
            "colorbar": {
             "outlinewidth": 0,
             "ticks": ""
            },
            "type": "choropleth"
           }
          ],
          "contour": [
           {
            "colorbar": {
             "outlinewidth": 0,
             "ticks": ""
            },
            "colorscale": [
             [
              0,
              "#0d0887"
             ],
             [
              0.1111111111111111,
              "#46039f"
             ],
             [
              0.2222222222222222,
              "#7201a8"
             ],
             [
              0.3333333333333333,
              "#9c179e"
             ],
             [
              0.4444444444444444,
              "#bd3786"
             ],
             [
              0.5555555555555556,
              "#d8576b"
             ],
             [
              0.6666666666666666,
              "#ed7953"
             ],
             [
              0.7777777777777778,
              "#fb9f3a"
             ],
             [
              0.8888888888888888,
              "#fdca26"
             ],
             [
              1,
              "#f0f921"
             ]
            ],
            "type": "contour"
           }
          ],
          "contourcarpet": [
           {
            "colorbar": {
             "outlinewidth": 0,
             "ticks": ""
            },
            "type": "contourcarpet"
           }
          ],
          "heatmap": [
           {
            "colorbar": {
             "outlinewidth": 0,
             "ticks": ""
            },
            "colorscale": [
             [
              0,
              "#0d0887"
             ],
             [
              0.1111111111111111,
              "#46039f"
             ],
             [
              0.2222222222222222,
              "#7201a8"
             ],
             [
              0.3333333333333333,
              "#9c179e"
             ],
             [
              0.4444444444444444,
              "#bd3786"
             ],
             [
              0.5555555555555556,
              "#d8576b"
             ],
             [
              0.6666666666666666,
              "#ed7953"
             ],
             [
              0.7777777777777778,
              "#fb9f3a"
             ],
             [
              0.8888888888888888,
              "#fdca26"
             ],
             [
              1,
              "#f0f921"
             ]
            ],
            "type": "heatmap"
           }
          ],
          "heatmapgl": [
           {
            "colorbar": {
             "outlinewidth": 0,
             "ticks": ""
            },
            "colorscale": [
             [
              0,
              "#0d0887"
             ],
             [
              0.1111111111111111,
              "#46039f"
             ],
             [
              0.2222222222222222,
              "#7201a8"
             ],
             [
              0.3333333333333333,
              "#9c179e"
             ],
             [
              0.4444444444444444,
              "#bd3786"
             ],
             [
              0.5555555555555556,
              "#d8576b"
             ],
             [
              0.6666666666666666,
              "#ed7953"
             ],
             [
              0.7777777777777778,
              "#fb9f3a"
             ],
             [
              0.8888888888888888,
              "#fdca26"
             ],
             [
              1,
              "#f0f921"
             ]
            ],
            "type": "heatmapgl"
           }
          ],
          "histogram": [
           {
            "marker": {
             "pattern": {
              "fillmode": "overlay",
              "size": 10,
              "solidity": 0.2
             }
            },
            "type": "histogram"
           }
          ],
          "histogram2d": [
           {
            "colorbar": {
             "outlinewidth": 0,
             "ticks": ""
            },
            "colorscale": [
             [
              0,
              "#0d0887"
             ],
             [
              0.1111111111111111,
              "#46039f"
             ],
             [
              0.2222222222222222,
              "#7201a8"
             ],
             [
              0.3333333333333333,
              "#9c179e"
             ],
             [
              0.4444444444444444,
              "#bd3786"
             ],
             [
              0.5555555555555556,
              "#d8576b"
             ],
             [
              0.6666666666666666,
              "#ed7953"
             ],
             [
              0.7777777777777778,
              "#fb9f3a"
             ],
             [
              0.8888888888888888,
              "#fdca26"
             ],
             [
              1,
              "#f0f921"
             ]
            ],
            "type": "histogram2d"
           }
          ],
          "histogram2dcontour": [
           {
            "colorbar": {
             "outlinewidth": 0,
             "ticks": ""
            },
            "colorscale": [
             [
              0,
              "#0d0887"
             ],
             [
              0.1111111111111111,
              "#46039f"
             ],
             [
              0.2222222222222222,
              "#7201a8"
             ],
             [
              0.3333333333333333,
              "#9c179e"
             ],
             [
              0.4444444444444444,
              "#bd3786"
             ],
             [
              0.5555555555555556,
              "#d8576b"
             ],
             [
              0.6666666666666666,
              "#ed7953"
             ],
             [
              0.7777777777777778,
              "#fb9f3a"
             ],
             [
              0.8888888888888888,
              "#fdca26"
             ],
             [
              1,
              "#f0f921"
             ]
            ],
            "type": "histogram2dcontour"
           }
          ],
          "mesh3d": [
           {
            "colorbar": {
             "outlinewidth": 0,
             "ticks": ""
            },
            "type": "mesh3d"
           }
          ],
          "parcoords": [
           {
            "line": {
             "colorbar": {
              "outlinewidth": 0,
              "ticks": ""
             }
            },
            "type": "parcoords"
           }
          ],
          "pie": [
           {
            "automargin": true,
            "type": "pie"
           }
          ],
          "scatter": [
           {
            "fillpattern": {
             "fillmode": "overlay",
             "size": 10,
             "solidity": 0.2
            },
            "type": "scatter"
           }
          ],
          "scatter3d": [
           {
            "line": {
             "colorbar": {
              "outlinewidth": 0,
              "ticks": ""
             }
            },
            "marker": {
             "colorbar": {
              "outlinewidth": 0,
              "ticks": ""
             }
            },
            "type": "scatter3d"
           }
          ],
          "scattercarpet": [
           {
            "marker": {
             "colorbar": {
              "outlinewidth": 0,
              "ticks": ""
             }
            },
            "type": "scattercarpet"
           }
          ],
          "scattergeo": [
           {
            "marker": {
             "colorbar": {
              "outlinewidth": 0,
              "ticks": ""
             }
            },
            "type": "scattergeo"
           }
          ],
          "scattergl": [
           {
            "marker": {
             "colorbar": {
              "outlinewidth": 0,
              "ticks": ""
             }
            },
            "type": "scattergl"
           }
          ],
          "scattermapbox": [
           {
            "marker": {
             "colorbar": {
              "outlinewidth": 0,
              "ticks": ""
             }
            },
            "type": "scattermapbox"
           }
          ],
          "scatterpolar": [
           {
            "marker": {
             "colorbar": {
              "outlinewidth": 0,
              "ticks": ""
             }
            },
            "type": "scatterpolar"
           }
          ],
          "scatterpolargl": [
           {
            "marker": {
             "colorbar": {
              "outlinewidth": 0,
              "ticks": ""
             }
            },
            "type": "scatterpolargl"
           }
          ],
          "scatterternary": [
           {
            "marker": {
             "colorbar": {
              "outlinewidth": 0,
              "ticks": ""
             }
            },
            "type": "scatterternary"
           }
          ],
          "surface": [
           {
            "colorbar": {
             "outlinewidth": 0,
             "ticks": ""
            },
            "colorscale": [
             [
              0,
              "#0d0887"
             ],
             [
              0.1111111111111111,
              "#46039f"
             ],
             [
              0.2222222222222222,
              "#7201a8"
             ],
             [
              0.3333333333333333,
              "#9c179e"
             ],
             [
              0.4444444444444444,
              "#bd3786"
             ],
             [
              0.5555555555555556,
              "#d8576b"
             ],
             [
              0.6666666666666666,
              "#ed7953"
             ],
             [
              0.7777777777777778,
              "#fb9f3a"
             ],
             [
              0.8888888888888888,
              "#fdca26"
             ],
             [
              1,
              "#f0f921"
             ]
            ],
            "type": "surface"
           }
          ],
          "table": [
           {
            "cells": {
             "fill": {
              "color": "#EBF0F8"
             },
             "line": {
              "color": "white"
             }
            },
            "header": {
             "fill": {
              "color": "#C8D4E3"
             },
             "line": {
              "color": "white"
             }
            },
            "type": "table"
           }
          ]
         },
         "layout": {
          "annotationdefaults": {
           "arrowcolor": "#2a3f5f",
           "arrowhead": 0,
           "arrowwidth": 1
          },
          "autotypenumbers": "strict",
          "coloraxis": {
           "colorbar": {
            "outlinewidth": 0,
            "ticks": ""
           }
          },
          "colorscale": {
           "diverging": [
            [
             0,
             "#8e0152"
            ],
            [
             0.1,
             "#c51b7d"
            ],
            [
             0.2,
             "#de77ae"
            ],
            [
             0.3,
             "#f1b6da"
            ],
            [
             0.4,
             "#fde0ef"
            ],
            [
             0.5,
             "#f7f7f7"
            ],
            [
             0.6,
             "#e6f5d0"
            ],
            [
             0.7,
             "#b8e186"
            ],
            [
             0.8,
             "#7fbc41"
            ],
            [
             0.9,
             "#4d9221"
            ],
            [
             1,
             "#276419"
            ]
           ],
           "sequential": [
            [
             0,
             "#0d0887"
            ],
            [
             0.1111111111111111,
             "#46039f"
            ],
            [
             0.2222222222222222,
             "#7201a8"
            ],
            [
             0.3333333333333333,
             "#9c179e"
            ],
            [
             0.4444444444444444,
             "#bd3786"
            ],
            [
             0.5555555555555556,
             "#d8576b"
            ],
            [
             0.6666666666666666,
             "#ed7953"
            ],
            [
             0.7777777777777778,
             "#fb9f3a"
            ],
            [
             0.8888888888888888,
             "#fdca26"
            ],
            [
             1,
             "#f0f921"
            ]
           ],
           "sequentialminus": [
            [
             0,
             "#0d0887"
            ],
            [
             0.1111111111111111,
             "#46039f"
            ],
            [
             0.2222222222222222,
             "#7201a8"
            ],
            [
             0.3333333333333333,
             "#9c179e"
            ],
            [
             0.4444444444444444,
             "#bd3786"
            ],
            [
             0.5555555555555556,
             "#d8576b"
            ],
            [
             0.6666666666666666,
             "#ed7953"
            ],
            [
             0.7777777777777778,
             "#fb9f3a"
            ],
            [
             0.8888888888888888,
             "#fdca26"
            ],
            [
             1,
             "#f0f921"
            ]
           ]
          },
          "colorway": [
           "#636efa",
           "#EF553B",
           "#00cc96",
           "#ab63fa",
           "#FFA15A",
           "#19d3f3",
           "#FF6692",
           "#B6E880",
           "#FF97FF",
           "#FECB52"
          ],
          "font": {
           "color": "#2a3f5f"
          },
          "geo": {
           "bgcolor": "white",
           "lakecolor": "white",
           "landcolor": "#E5ECF6",
           "showlakes": true,
           "showland": true,
           "subunitcolor": "white"
          },
          "hoverlabel": {
           "align": "left"
          },
          "hovermode": "closest",
          "mapbox": {
           "style": "light"
          },
          "paper_bgcolor": "white",
          "plot_bgcolor": "#E5ECF6",
          "polar": {
           "angularaxis": {
            "gridcolor": "white",
            "linecolor": "white",
            "ticks": ""
           },
           "bgcolor": "#E5ECF6",
           "radialaxis": {
            "gridcolor": "white",
            "linecolor": "white",
            "ticks": ""
           }
          },
          "scene": {
           "xaxis": {
            "backgroundcolor": "#E5ECF6",
            "gridcolor": "white",
            "gridwidth": 2,
            "linecolor": "white",
            "showbackground": true,
            "ticks": "",
            "zerolinecolor": "white"
           },
           "yaxis": {
            "backgroundcolor": "#E5ECF6",
            "gridcolor": "white",
            "gridwidth": 2,
            "linecolor": "white",
            "showbackground": true,
            "ticks": "",
            "zerolinecolor": "white"
           },
           "zaxis": {
            "backgroundcolor": "#E5ECF6",
            "gridcolor": "white",
            "gridwidth": 2,
            "linecolor": "white",
            "showbackground": true,
            "ticks": "",
            "zerolinecolor": "white"
           }
          },
          "shapedefaults": {
           "line": {
            "color": "#2a3f5f"
           }
          },
          "ternary": {
           "aaxis": {
            "gridcolor": "white",
            "linecolor": "white",
            "ticks": ""
           },
           "baxis": {
            "gridcolor": "white",
            "linecolor": "white",
            "ticks": ""
           },
           "bgcolor": "#E5ECF6",
           "caxis": {
            "gridcolor": "white",
            "linecolor": "white",
            "ticks": ""
           }
          },
          "title": {
           "x": 0.05
          },
          "xaxis": {
           "automargin": true,
           "gridcolor": "white",
           "linecolor": "white",
           "ticks": "",
           "title": {
            "standoff": 15
           },
           "zerolinecolor": "white",
           "zerolinewidth": 2
          },
          "yaxis": {
           "automargin": true,
           "gridcolor": "white",
           "linecolor": "white",
           "ticks": "",
           "title": {
            "standoff": 15
           },
           "zerolinecolor": "white",
           "zerolinewidth": 2
          }
         }
        },
        "title": {
         "font": {
          "color": "#4D5663"
         },
         "text": "China Main Increasements Index"
        },
        "xaxis": {
         "anchor": "y2",
         "autorange": true,
         "gridcolor": "#E1E5ED",
         "range": [
          "2014-08-18",
          "2024-02-15"
         ],
         "rangeselector": {
          "bgcolor": "rgba(150, 200, 250, 1)",
          "buttons": [
           {
            "count": 1,
            "label": "1m",
            "step": "month",
            "stepmode": "backward"
           },
           {
            "count": 1,
            "label": "1y",
            "step": "year",
            "stepmode": "backward"
           }
          ],
          "font": {
           "size": 13
          },
          "visible": false,
          "x": 0,
          "y": 0.9
         },
         "rangeslider": {
          "visible": false,
          "yaxis2": {}
         },
         "showgrid": true,
         "tickfont": {
          "color": "#4D5663"
         },
         "title": {
          "font": {
           "color": "#4D5663"
          },
          "text": ""
         },
         "type": "date",
         "zerolinecolor": "#E1E5ED"
        },
        "yaxis": {
         "gridcolor": "#E1E5ED",
         "showgrid": true,
         "showticklabels": false,
         "tickfont": {
          "color": "#4D5663"
         },
         "title": {
          "font": {
           "color": "#4D5663"
          },
          "text": ""
         },
         "zerolinecolor": "#E1E5ED"
        },
        "yaxis2": {
         "autorange": true,
         "domain": [
          0,
          0.9
         ],
         "gridcolor": "#E1E5ED",
         "range": [
          56.85213888888888,
          922.0093611111112
         ],
         "showgrid": true,
         "tickfont": {
          "color": "#4D5663"
         },
         "title": {
          "font": {
           "color": "#4D5663"
          },
          "text": ""
         },
         "zerolinecolor": "#E1E5ED"
        }
       }
      },
      "image/png": "[encoded data removed]",
      "text/html": [
       "<div>                            <div id=\"e64e3c04-146a-4424-9f79-e5a40bf8dcde\" class=\"plotly-graph-div\" style=\"height:525px; width:100%;\"></div>            <script type=\"text/javascript\">                require([\"plotly\"], function(Plotly) {                    window.PLOTLYENV=window.PLOTLYENV || {};\n",
       "                    window.PLOTLYENV.BASE_URL='https://plot.ly';                                    if (document.getElementById(\"e64e3c04-146a-4424-9f79-e5a40bf8dcde\")) {                    Plotly.newPlot(                        \"e64e3c04-146a-4424-9f79-e5a40bf8dcde\",                        [{\"close\":[131.802,141.434,156.29399999999998,146.908,135.76999999999998,132.798,133.67999999999998,140.488,151.28199999999998,145.344,139.096,114.236,109.054,140.356,148.092,149.783,124.28800000000001,121.44200000000001,134.246,130.64,142.178,139.404,144.984,164.994,180.036,179.038,165.71,156.31799999999998,180.49,194.482,195.74,203.648,219.446,240.246,262.376,268.818,263.672,278.794,280.27200000000005,282.86400000000003,317.552,291.96,280.108,266.464,278.854,275.014,297.28,265.202,269.77,230.92000000000002,258.17400000000004,233.88400000000001,280.81600000000003,294.894,290.78999999999996,299.826,247.212,274.07399999999996,274.92400000000004,292.15999999999997,282.45599999999996,307.322,333.93399999999997,350.498,347.432,350.162,337.98199999999997,365.61199999999997,409.15,455.316,526.234,607.882,595.354,633.11,723.1700000000001,714.47,760.65,717.9,648.6899999999999,643.79,624.76,681.42,578.49,555.6600000000001,493.82000000000005,548.4,515.44,463.05,449.56,413.68,370.92,360.90999999999997,372.21,424.83,367.86,385.91,319.2,241.23,343.49,338.49,403.93,339.52,356.98,318.56,307.01,341.52,421.05,398.27000000000004,377.15,371.89,424.06,406.96,360.86,359.12],\"decreasing\":{\"line\":{\"color\":\"#db4052\"}},\"high\":[150.19,146.618,169.894,158.82,154.588,144.064,139.108,150.088,160.49,160.576,151.846,145.974,121.134,143.234,151.674,156.58999999999997,144.4832,129.558,139.18,145.21,143.5,143.16400000000002,149.9538,168.914,188.056,192.751,183.778,167.195,185.016,198.06,204.652,208.86599999999999,228.734,259.98,271.424,289.269,285.91,282.764,309.53999999999996,299.688,327.964,313.92,314.95,282.818,295.404,309.79999999999995,320.058,301.2099,294.2435,276.236,267.82,276.71000000000004,285.214,306.77,310.42400000000004,310.149,313.807,281.656,292.48,301.41700000000003,312.79519999999997,315.24,348.15999999999997,364.4,391.04,384.9,373.172,395.234,431.9604,480.204,570.7339999999999,646.34,644.6220000000001,672.324,837.61,795.38,858.85,878.7515000000001,758.865,710.03,672.6199,708.7399,693.89,618.5335,587.58,609.1424999999999,614.285,535.8999,518.545,480.095,445.5112,420.52000000000004,397.2649,468.4189,458.515,424.9799,390.19,345.26370000000003,354.92,375.9944,440.5,424.505,390.4699,365.015,343.48,377.85490000000004,427.1625,438.3836,417.32,406.2363,453.24,435.305,420.96999999999997,371.3373],\"increasing\":{\"line\":{\"color\":\"#008000\"}},\"low\":[128.69400000000002,121.69399999999999,140.676,142.026,129.69,127.99799999999999,125.914,130.38600000000002,134.272,140.59199999999998,127.556,100.11,101.12,106.50200000000001,130.3308,141.2742,120.41,107.305,121.59,126.374,123.43,125.01,134.287,143.21,163.9348,173.042,154.533,153.482,156.791,177.9282,188.04199999999997,189.118,200.322,215.788,236.025,238.71800000000002,255.25,256.67,265.148,262.46,280.94,266.578,268.68609999999995,250.7,254.9943,263.2,285.064,250.886,238.1,211.865,222.0464,218.79200000000003,221.27800000000002,263.172,268.313,279.505,244.75,243.721,261.237,243.41199999999998,272.245,271.63800000000003,295.692,317.002,335.848,333.913,288.131,322.41700000000003,342.879,400.366,457.272,525.836,545.0351,570.12,575.6410000000001,606.74,677.64,695.115,594.02,599.63,554.14,597.2755999999999,500.2201,465.605,476.437,463.6017,477.4101,408.58,383.48,375.64,254.55,308.15,288.895,346.65000000000003,351.77,332.72499999999997,308.01,210.214,239.97,320.725,345.3951,330.09999999999997,304.992,300.777,286.90000000000003,303.045,336.595,353.275,356.105,348.76,359.58,365.56,336.87,354.725],\"name\":\"QF\",\"open\":[142.244,131.43200000000002,142.368,154.49,147.574,138.028,133.08,133.76600000000002,140.58,152.708,145.36599999999999,138.55,111.02199999999999,110.412,139.97,147.04999999999998,143.27,123.29,124.128,132.964,130.288,138.702,139.0,145.33,165.09,180.228,178.13,165.812,158.826,181.938,196.014,196.94799999999998,203.84199999999998,220.058,242.096,264.87,269.19,265.998,282.696,277.216,288.139,303.254,292.08000000000004,279.298,265.40200000000004,280.93,296.056,292.256,267.468,271.346,234.95999999999998,270.258,228.732,279.382,298.21,295.81600000000003,301.386,247.68599999999998,283.947,276.59799999999996,289.37600000000003,283.298,311.24,332.668,357.916,350.001,354.986,330.124,355.317,407.98199999999997,469.8675,555.666,613.64,600.29,649.13,735.245,714.01,781.71,740.25,671.94,643.8624,648.175,686.99,583.8535,556.235,494.9588,551.4401,528.7950000000001,465.71000000000004,449.278,413.75,399.46,357.46000000000004,372.33,425.64,363.455,377.35,317.714,259.73,331.44,353.4,415.2,358.805,353.53,317.16,304.31,352.38,414.995,404.49,377.26800000000003,372.155,416.43,398.97999999999996,365.955],\"showlegend\":true,\"x\":[\"2014-09-01 00:00:00-04:00\",\"2014-10-01 00:00:00-04:00\",\"2014-11-01 00:00:00-04:00\",\"2014-12-01 00:00:00-05:00\",\"2015-01-01 00:00:00-05:00\",\"2015-02-01 00:00:00-05:00\",\"2015-03-01 00:00:00-05:00\",\"2015-04-01 00:00:00-04:00\",\"2015-05-01 00:00:00-04:00\",\"2015-06-01 00:00:00-04:00\",\"2015-07-01 00:00:00-04:00\",\"2015-08-01 00:00:00-04:00\",\"2015-09-01 00:00:00-04:00\",\"2015-10-01 00:00:00-04:00\",\"2015-11-01 00:00:00-04:00\",\"2015-12-01 00:00:00-05:00\",\"2016-01-01 00:00:00-05:00\",\"2016-02-01 00:00:00-05:00\",\"2016-03-01 00:00:00-05:00\",\"2016-04-01 00:00:00-04:00\",\"2016-05-01 00:00:00-04:00\",\"2016-06-01 00:00:00-04:00\",\"2016-07-01 00:00:00-04:00\",\"2016-08-01 00:00:00-04:00\",\"2016-09-01 00:00:00-04:00\",\"2016-10-01 00:00:00-04:00\",\"2016-11-01 00:00:00-04:00\",\"2016-12-01 00:00:00-05:00\",\"2017-01-01 00:00:00-05:00\",\"2017-02-01 00:00:00-05:00\",\"2017-03-01 00:00:00-05:00\",\"2017-04-01 00:00:00-04:00\",\"2017-05-01 00:00:00-04:00\",\"2017-06-01 00:00:00-04:00\",\"2017-07-01 00:00:00-04:00\",\"2017-08-01 00:00:00-04:00\",\"2017-09-01 00:00:00-04:00\",\"2017-10-01 00:00:00-04:00\",\"2017-11-01 00:00:00-04:00\",\"2017-12-01 00:00:00-05:00\",\"2018-01-01 00:00:00-05:00\",\"2018-02-01 00:00:00-05:00\",\"2018-03-01 00:00:00-05:00\",\"2018-04-01 00:00:00-04:00\",\"2018-05-01 00:00:00-04:00\",\"2018-06-01 00:00:00-04:00\",\"2018-07-01 00:00:00-04:00\",\"2018-08-01 00:00:00-04:00\",\"2018-09-01 00:00:00-04:00\",\"2018-10-01 00:00:00-04:00\",\"2018-11-01 00:00:00-04:00\",\"2018-12-01 00:00:00-05:00\",\"2019-01-01 00:00:00-05:00\",\"2019-02-01 00:00:00-05:00\",\"2019-03-01 00:00:00-05:00\",\"2019-04-01 00:00:00-04:00\",\"2019-05-01 00:00:00-04:00\",\"2019-06-01 00:00:00-04:00\",\"2019-07-01 00:00:00-04:00\",\"2019-08-01 00:00:00-04:00\",\"2019-09-01 00:00:00-04:00\",\"2019-10-01 00:00:00-04:00\",\"2019-11-01 00:00:00-04:00\",\"2019-12-01 00:00:00-05:00\",\"2020-01-01 00:00:00-05:00\",\"2020-02-01 00:00:00-05:00\",\"2020-03-01 00:00:00-05:00\",\"2020-04-01 00:00:00-04:00\",\"2020-05-01 00:00:00-04:00\",\"2020-06-01 00:00:00-04:00\",\"2020-07-01 00:00:00-04:00\",\"2020-08-01 00:00:00-04:00\",\"2020-09-01 00:00:00-04:00\",\"2020-10-01 00:00:00-04:00\",\"2020-11-01 00:00:00-04:00\",\"2020-12-01 00:00:00-05:00\",\"2021-01-01 00:00:00-05:00\",\"2021-02-01 00:00:00-05:00\",\"2021-03-01 00:00:00-05:00\",\"2021-04-01 00:00:00-04:00\",\"2021-05-01 00:00:00-04:00\",\"2021-06-01 00:00:00-04:00\",\"2021-07-01 00:00:00-04:00\",\"2021-08-01 00:00:00-04:00\",\"2021-09-01 00:00:00-04:00\",\"2021-10-01 00:00:00-04:00\",\"2021-11-01 00:00:00-04:00\",\"2021-12-01 00:00:00-05:00\",\"2022-01-01 00:00:00-05:00\",\"2022-02-01 00:00:00-05:00\",\"2022-03-01 00:00:00-05:00\",\"2022-04-01 00:00:00-04:00\",\"2022-05-01 00:00:00-04:00\",\"2022-06-01 00:00:00-04:00\",\"2022-07-01 00:00:00-04:00\",\"2022-08-01 00:00:00-04:00\",\"2022-09-01 00:00:00-04:00\",\"2022-10-01 00:00:00-04:00\",\"2022-11-01 00:00:00-04:00\",\"2022-12-01 00:00:00-05:00\",\"2023-01-01 00:00:00-05:00\",\"2023-02-01 00:00:00-05:00\",\"2023-03-01 00:00:00-05:00\",\"2023-04-01 00:00:00-04:00\",\"2023-05-01 00:00:00-04:00\",\"2023-06-01 00:00:00-04:00\",\"2023-07-01 00:00:00-04:00\",\"2023-08-01 00:00:00-04:00\",\"2023-09-01 00:00:00-04:00\",\"2023-10-01 00:00:00-04:00\",\"2023-11-01 00:00:00-04:00\",\"2023-12-01 00:00:00-05:00\",\"2024-01-01 00:00:00-05:00\",\"2024-02-01 00:00:00-05:00\"],\"yaxis\":\"y2\",\"type\":\"candlestick\"}],                        {\"legend\":{\"bgcolor\":\"#F5F6F9\",\"font\":{\"color\":\"#4D5663\"}},\"margin\":{\"b\":30,\"l\":30,\"r\":30,\"t\":30},\"paper_bgcolor\":\"#F5F6F9\",\"plot_bgcolor\":\"#F5F6F9\",\"showlegend\":true,\"template\":{\"data\":{\"barpolar\":[{\"marker\":{\"line\":{\"color\":\"#E5ECF6\",\"width\":0.5},\"pattern\":{\"fillmode\":\"overlay\",\"size\":10,\"solidity\":0.2}},\"type\":\"barpolar\"}],\"bar\":[{\"error_x\":{\"color\":\"#2a3f5f\"},\"error_y\":{\"color\":\"#2a3f5f\"},\"marker\":{\"line\":{\"color\":\"#E5ECF6\",\"width\":0.5},\"pattern\":{\"fillmode\":\"overlay\",\"size\":10,\"solidity\":0.2}},\"type\":\"bar\"}],\"carpet\":[{\"aaxis\":{\"endlinecolor\":\"#2a3f5f\",\"gridcolor\":\"white\",\"linecolor\":\"white\",\"minorgridcolor\":\"white\",\"startlinecolor\":\"#2a3f5f\"},\"baxis\":{\"endlinecolor\":\"#2a3f5f\",\"gridcolor\":\"white\",\"linecolor\":\"white\",\"minorgridcolor\":\"white\",\"startlinecolor\":\"#2a3f5f\"},\"type\":\"carpet\"}],\"choropleth\":[{\"colorbar\":{\"outlinewidth\":0,\"ticks\":\"\"},\"type\":\"choropleth\"}],\"contourcarpet\":[{\"colorbar\":{\"outlinewidth\":0,\"ticks\":\"\"},\"type\":\"contourcarpet\"}],\"contour\":[{\"colorbar\":{\"outlinewidth\":0,\"ticks\":\"\"},\"colorscale\":[[0.0,\"#0d0887\"],[0.1111111111111111,\"#46039f\"],[0.2222222222222222,\"#7201a8\"],[0.3333333333333333,\"#9c179e\"],[0.4444444444444444,\"#bd3786\"],[0.5555555555555556,\"#d8576b\"],[0.6666666666666666,\"#ed7953\"],[0.7777777777777778,\"#fb9f3a\"],[0.8888888888888888,\"#fdca26\"],[1.0,\"#f0f921\"]],\"type\":\"contour\"}],\"heatmapgl\":[{\"colorbar\":{\"outlinewidth\":0,\"ticks\":\"\"},\"colorscale\":[[0.0,\"#0d0887\"],[0.1111111111111111,\"#46039f\"],[0.2222222222222222,\"#7201a8\"],[0.3333333333333333,\"#9c179e\"],[0.4444444444444444,\"#bd3786\"],[0.5555555555555556,\"#d8576b\"],[0.6666666666666666,\"#ed7953\"],[0.7777777777777778,\"#fb9f3a\"],[0.8888888888888888,\"#fdca26\"],[1.0,\"#f0f921\"]],\"type\":\"heatmapgl\"}],\"heatmap\":[{\"colorbar\":{\"outlinewidth\":0,\"ticks\":\"\"},\"colorscale\":[[0.0,\"#0d0887\"],[0.1111111111111111,\"#46039f\"],[0.2222222222222222,\"#7201a8\"],[0.3333333333333333,\"#9c179e\"],[0.4444444444444444,\"#bd3786\"],[0.5555555555555556,\"#d8576b\"],[0.6666666666666666,\"#ed7953\"],[0.7777777777777778,\"#fb9f3a\"],[0.8888888888888888,\"#fdca26\"],[1.0,\"#f0f921\"]],\"type\":\"heatmap\"}],\"histogram2dcontour\":[{\"colorbar\":{\"outlinewidth\":0,\"ticks\":\"\"},\"colorscale\":[[0.0,\"#0d0887\"],[0.1111111111111111,\"#46039f\"],[0.2222222222222222,\"#7201a8\"],[0.3333333333333333,\"#9c179e\"],[0.4444444444444444,\"#bd3786\"],[0.5555555555555556,\"#d8576b\"],[0.6666666666666666,\"#ed7953\"],[0.7777777777777778,\"#fb9f3a\"],[0.8888888888888888,\"#fdca26\"],[1.0,\"#f0f921\"]],\"type\":\"histogram2dcontour\"}],\"histogram2d\":[{\"colorbar\":{\"outlinewidth\":0,\"ticks\":\"\"},\"colorscale\":[[0.0,\"#0d0887\"],[0.1111111111111111,\"#46039f\"],[0.2222222222222222,\"#7201a8\"],[0.3333333333333333,\"#9c179e\"],[0.4444444444444444,\"#bd3786\"],[0.5555555555555556,\"#d8576b\"],[0.6666666666666666,\"#ed7953\"],[0.7777777777777778,\"#fb9f3a\"],[0.8888888888888888,\"#fdca26\"],[1.0,\"#f0f921\"]],\"type\":\"histogram2d\"}],\"histogram\":[{\"marker\":{\"pattern\":{\"fillmode\":\"overlay\",\"size\":10,\"solidity\":0.2}},\"type\":\"histogram\"}],\"mesh3d\":[{\"colorbar\":{\"outlinewidth\":0,\"ticks\":\"\"},\"type\":\"mesh3d\"}],\"parcoords\":[{\"line\":{\"colorbar\":{\"outlinewidth\":0,\"ticks\":\"\"}},\"type\":\"parcoords\"}],\"pie\":[{\"automargin\":true,\"type\":\"pie\"}],\"scatter3d\":[{\"line\":{\"colorbar\":{\"outlinewidth\":0,\"ticks\":\"\"}},\"marker\":{\"colorbar\":{\"outlinewidth\":0,\"ticks\":\"\"}},\"type\":\"scatter3d\"}],\"scattercarpet\":[{\"marker\":{\"colorbar\":{\"outlinewidth\":0,\"ticks\":\"\"}},\"type\":\"scattercarpet\"}],\"scattergeo\":[{\"marker\":{\"colorbar\":{\"outlinewidth\":0,\"ticks\":\"\"}},\"type\":\"scattergeo\"}],\"scattergl\":[{\"marker\":{\"colorbar\":{\"outlinewidth\":0,\"ticks\":\"\"}},\"type\":\"scattergl\"}],\"scattermapbox\":[{\"marker\":{\"colorbar\":{\"outlinewidth\":0,\"ticks\":\"\"}},\"type\":\"scattermapbox\"}],\"scatterpolargl\":[{\"marker\":{\"colorbar\":{\"outlinewidth\":0,\"ticks\":\"\"}},\"type\":\"scatterpolargl\"}],\"scatterpolar\":[{\"marker\":{\"colorbar\":{\"outlinewidth\":0,\"ticks\":\"\"}},\"type\":\"scatterpolar\"}],\"scatter\":[{\"fillpattern\":{\"fillmode\":\"overlay\",\"size\":10,\"solidity\":0.2},\"type\":\"scatter\"}],\"scatterternary\":[{\"marker\":{\"colorbar\":{\"outlinewidth\":0,\"ticks\":\"\"}},\"type\":\"scatterternary\"}],\"surface\":[{\"colorbar\":{\"outlinewidth\":0,\"ticks\":\"\"},\"colorscale\":[[0.0,\"#0d0887\"],[0.1111111111111111,\"#46039f\"],[0.2222222222222222,\"#7201a8\"],[0.3333333333333333,\"#9c179e\"],[0.4444444444444444,\"#bd3786\"],[0.5555555555555556,\"#d8576b\"],[0.6666666666666666,\"#ed7953\"],[0.7777777777777778,\"#fb9f3a\"],[0.8888888888888888,\"#fdca26\"],[1.0,\"#f0f921\"]],\"type\":\"surface\"}],\"table\":[{\"cells\":{\"fill\":{\"color\":\"#EBF0F8\"},\"line\":{\"color\":\"white\"}},\"header\":{\"fill\":{\"color\":\"#C8D4E3\"},\"line\":{\"color\":\"white\"}},\"type\":\"table\"}]},\"layout\":{\"annotationdefaults\":{\"arrowcolor\":\"#2a3f5f\",\"arrowhead\":0,\"arrowwidth\":1},\"autotypenumbers\":\"strict\",\"coloraxis\":{\"colorbar\":{\"outlinewidth\":0,\"ticks\":\"\"}},\"colorscale\":{\"diverging\":[[0,\"#8e0152\"],[0.1,\"#c51b7d\"],[0.2,\"#de77ae\"],[0.3,\"#f1b6da\"],[0.4,\"#fde0ef\"],[0.5,\"#f7f7f7\"],[0.6,\"#e6f5d0\"],[0.7,\"#b8e186\"],[0.8,\"#7fbc41\"],[0.9,\"#4d9221\"],[1,\"#276419\"]],\"sequential\":[[0.0,\"#0d0887\"],[0.1111111111111111,\"#46039f\"],[0.2222222222222222,\"#7201a8\"],[0.3333333333333333,\"#9c179e\"],[0.4444444444444444,\"#bd3786\"],[0.5555555555555556,\"#d8576b\"],[0.6666666666666666,\"#ed7953\"],[0.7777777777777778,\"#fb9f3a\"],[0.8888888888888888,\"#fdca26\"],[1.0,\"#f0f921\"]],\"sequentialminus\":[[0.0,\"#0d0887\"],[0.1111111111111111,\"#46039f\"],[0.2222222222222222,\"#7201a8\"],[0.3333333333333333,\"#9c179e\"],[0.4444444444444444,\"#bd3786\"],[0.5555555555555556,\"#d8576b\"],[0.6666666666666666,\"#ed7953\"],[0.7777777777777778,\"#fb9f3a\"],[0.8888888888888888,\"#fdca26\"],[1.0,\"#f0f921\"]]},\"colorway\":[\"#636efa\",\"#EF553B\",\"#00cc96\",\"#ab63fa\",\"#FFA15A\",\"#19d3f3\",\"#FF6692\",\"#B6E880\",\"#FF97FF\",\"#FECB52\"],\"font\":{\"color\":\"#2a3f5f\"},\"geo\":{\"bgcolor\":\"white\",\"lakecolor\":\"white\",\"landcolor\":\"#E5ECF6\",\"showlakes\":true,\"showland\":true,\"subunitcolor\":\"white\"},\"hoverlabel\":{\"align\":\"left\"},\"hovermode\":\"closest\",\"mapbox\":{\"style\":\"light\"},\"paper_bgcolor\":\"white\",\"plot_bgcolor\":\"#E5ECF6\",\"polar\":{\"angularaxis\":{\"gridcolor\":\"white\",\"linecolor\":\"white\",\"ticks\":\"\"},\"bgcolor\":\"#E5ECF6\",\"radialaxis\":{\"gridcolor\":\"white\",\"linecolor\":\"white\",\"ticks\":\"\"}},\"scene\":{\"xaxis\":{\"backgroundcolor\":\"#E5ECF6\",\"gridcolor\":\"white\",\"gridwidth\":2,\"linecolor\":\"white\",\"showbackground\":true,\"ticks\":\"\",\"zerolinecolor\":\"white\"},\"yaxis\":{\"backgroundcolor\":\"#E5ECF6\",\"gridcolor\":\"white\",\"gridwidth\":2,\"linecolor\":\"white\",\"showbackground\":true,\"ticks\":\"\",\"zerolinecolor\":\"white\"},\"zaxis\":{\"backgroundcolor\":\"#E5ECF6\",\"gridcolor\":\"white\",\"gridwidth\":2,\"linecolor\":\"white\",\"showbackground\":true,\"ticks\":\"\",\"zerolinecolor\":\"white\"}},\"shapedefaults\":{\"line\":{\"color\":\"#2a3f5f\"}},\"ternary\":{\"aaxis\":{\"gridcolor\":\"white\",\"linecolor\":\"white\",\"ticks\":\"\"},\"baxis\":{\"gridcolor\":\"white\",\"linecolor\":\"white\",\"ticks\":\"\"},\"bgcolor\":\"#E5ECF6\",\"caxis\":{\"gridcolor\":\"white\",\"linecolor\":\"white\",\"ticks\":\"\"}},\"title\":{\"x\":0.05},\"xaxis\":{\"automargin\":true,\"gridcolor\":\"white\",\"linecolor\":\"white\",\"ticks\":\"\",\"title\":{\"standoff\":15},\"zerolinecolor\":\"white\",\"zerolinewidth\":2},\"yaxis\":{\"automargin\":true,\"gridcolor\":\"white\",\"linecolor\":\"white\",\"ticks\":\"\",\"title\":{\"standoff\":15},\"zerolinecolor\":\"white\",\"zerolinewidth\":2}}},\"title\":{\"font\":{\"color\":\"#4D5663\"},\"text\":\"China Main Increasements Index\"},\"xaxis\":{\"anchor\":\"y2\",\"gridcolor\":\"#E1E5ED\",\"rangeselector\":{\"bgcolor\":\"rgba(150, 200, 250, 1)\",\"buttons\":[{\"count\":1,\"label\":\"1m\",\"step\":\"month\",\"stepmode\":\"backward\"},{\"count\":1,\"label\":\"1y\",\"step\":\"year\",\"stepmode\":\"backward\"}],\"font\":{\"size\":13},\"visible\":false,\"x\":0,\"y\":0.9},\"rangeslider\":{\"visible\":false},\"showgrid\":true,\"tickfont\":{\"color\":\"#4D5663\"},\"title\":{\"font\":{\"color\":\"#4D5663\"},\"text\":\"\"},\"zerolinecolor\":\"#E1E5ED\"},\"yaxis\":{\"gridcolor\":\"#E1E5ED\",\"showgrid\":true,\"showticklabels\":false,\"tickfont\":{\"color\":\"#4D5663\"},\"title\":{\"font\":{\"color\":\"#4D5663\"},\"text\":\"\"},\"zerolinecolor\":\"#E1E5ED\"},\"yaxis2\":{\"domain\":[0.0,0.9],\"gridcolor\":\"#E1E5ED\",\"showgrid\":true,\"tickfont\":{\"color\":\"#4D5663\"},\"title\":{\"font\":{\"color\":\"#4D5663\"},\"text\":\"\"},\"zerolinecolor\":\"#E1E5ED\"}},                        {\"showLink\": true, \"linkText\": \"Export to plot.ly\", \"plotlyServerURL\": \"https://plot.ly\", \"responsive\": true}                    ).then(function(){\n",
       "                            \n",
       "var gd = document.getElementById('e64e3c04-146a-4424-9f79-e5a40bf8dcde');\n",
       "var x = new MutationObserver(function (mutations, observer) {{\n",
       "        var display = window.getComputedStyle(gd).display;\n",
       "        if (!display || display === 'none') {{\n",
       "            console.log([gd, 'removed!']);\n",
       "            Plotly.purge(gd);\n",
       "            observer.disconnect();\n",
       "        }}\n",
       "}});\n",
       "\n",
       "// Listen for the removal of the full notebook cells\n",
       "var notebookContainer = gd.closest('#notebook-container');\n",
       "if (notebookContainer) {{\n",
       "    x.observe(notebookContainer, {childList: true});\n",
       "}}\n",
       "\n",
       "// Listen for the clearing of the current output cell\n",
       "var outputEl = gd.closest('.output');\n",
       "if (outputEl) {{\n",
       "    x.observe(outputEl, {childList: true});\n",
       "}}\n",
       "\n",
       "                        })                };                });            </script>        </div>"
      ]
     },
     "metadata": {},
     "output_type": "display_data"
    }
   ],
   "source": [
    "cf.set_config_file(offline=True, world_readable=True)\n",
    "qf = cf.QuantFig(indexation, title=\"China Main Increasements Index\", legend=\"right\", name=\"QF\")\n",
    "#qf.add_volume()\n",
    "# qf.add_trendline('2014-09-01','2024-01-01',on='close',textangle=0)\n",
    "qf.iplot(up_color='green',down_color='red')"
   ]
  },
  {
   "cell_type": "code",
   "execution_count": 11,
   "id": "6071e0dc-3023-4651-ada0-d75e45980dcb",
   "metadata": {},
   "outputs": [
    {
     "name": "stdout",
     "output_type": "stream",
     "text": [
      "                              open      high      low    close      volume       6m_MA  Momentum\n",
      "date                                                                                            \n",
      "2015-02-01 00:00:00-05:00  138.028  144.0640  127.998  132.798   372558500  140.834333  0.942938\n",
      "2015-03-01 00:00:00-05:00  133.080  139.1080  125.914  133.680   588310200  141.147333  0.947095\n",
      "2015-04-01 00:00:00-04:00  133.766  150.0880  130.386  140.488   517827500  140.989667  0.996442\n",
      "2015-05-01 00:00:00-04:00  140.580  160.4900  134.272  151.282   615739500  140.154333  1.079396\n",
      "2015-06-01 00:00:00-04:00  152.708  160.5760  140.592  145.344   481247700  139.893667  1.038961\n",
      "...                            ...       ...      ...      ...         ...         ...       ...\n",
      "2023-10-01 00:00:00-04:00  377.268  406.2363  348.760  371.890  1784067732  369.481667  1.006518\n",
      "2023-11-01 00:00:00-04:00  372.155  453.2400  359.580  424.060  2078303678  388.990000  1.090157\n",
      "2023-12-01 00:00:00-05:00  416.430  435.3050  365.560  406.960  2835371119  399.896667  1.017663\n",
      "2024-01-01 00:00:00-05:00  398.980  420.9700  336.870  360.860  2890076288  389.865000  0.925602\n",
      "2024-02-01 00:00:00-05:00  365.955  371.3373  354.725  359.120   231815612  383.340000  0.936818\n",
      "\n",
      "[109 rows x 7 columns]\n"
     ]
    }
   ],
   "source": [
    "cnn = indexation\n",
    "# 价格动量\n",
    "cnn['6m_MA'] = cnn[CLOSE].rolling(window=6).mean()\n",
    "cnn.dropna(how='any', inplace=True)\n",
    "cnn['Momentum'] = cnn[CLOSE] / cnn['6m_MA']\n",
    "print(cnn)"
   ]
  },
  {
   "cell_type": "code",
   "execution_count": 12,
   "id": "d3a892ce-2872-4f3a-85b5-1c5a15bcbbd6",
   "metadata": {},
   "outputs": [
    {
     "name": "stdout",
     "output_type": "stream",
     "text": [
      "                               open      high       low    close      volume       6m_MA  Momentum  12m_High  12m_Low  Strength\n",
      "date                                                                                                                           \n",
      "2016-01-01 00:00:00-05:00  143.2700  144.4832  120.4100  124.288   712294371  130.968167  0.948994   151.282  109.054  0.717949\n",
      "2016-02-01 00:00:00-05:00  123.2900  129.5580  107.3050  121.442   723146559  132.169167  0.918838   151.282  109.054  0.717949\n",
      "2016-03-01 00:00:00-05:00  124.1280  139.1800  121.5900  134.246   599570853  136.367833  0.984440   151.282  109.054  0.717949\n",
      "2016-04-01 00:00:00-04:00  132.9640  145.2100  126.3740  130.640   568643333  134.748500  0.969510   151.282  109.054  0.717949\n",
      "2016-05-01 00:00:00-04:00  130.2880  143.5000  123.4300  142.178   977599422  133.762833  1.062911   149.783  109.054  0.717949\n",
      "2016-06-01 00:00:00-04:00  138.7020  143.1640  125.0100  139.404   880074920  132.033000  1.055827   149.783  109.054  0.717949\n",
      "2016-07-01 00:00:00-04:00  139.0000  149.9538  134.2870  144.984   516870701  135.482333  1.070132   149.783  109.054  0.717949\n",
      "2016-08-01 00:00:00-04:00  145.3300  168.9140  143.2100  164.994   855524902  142.741000  1.155898   164.994  109.054  0.717949\n",
      "2016-09-01 00:00:00-04:00  165.0900  188.0560  163.9348  180.036   814412168  150.372667  1.197265   180.036  121.442  0.717949\n",
      "2016-10-01 00:00:00-04:00  180.2280  192.7510  173.0420  179.038   549535747  158.439000  1.130012   180.036  121.442  0.717949\n",
      "2016-11-01 00:00:00-04:00  178.1300  183.7780  154.5330  165.710   725639971  162.361000  1.020627   180.036  121.442  0.717949\n",
      "2016-12-01 00:00:00-05:00  165.8120  167.1950  153.4820  156.318   461421068  165.180000  0.946349   180.036  121.442  0.717949\n",
      "2017-01-01 00:00:00-05:00  158.8260  185.0160  156.7910  180.490   489884828  171.097667  1.054895   180.490  121.442  0.717949\n",
      "2017-02-01 00:00:00-05:00  181.9380  198.0600  177.9282  194.482   407946912  176.012333  1.104934   194.482  130.640  0.717949\n",
      "2017-03-01 00:00:00-05:00  196.0140  204.6520  188.0420  195.740   484410167  178.629667  1.095787   195.740  130.640  0.717949\n",
      "2017-04-01 00:00:00-04:00  196.9480  208.8660  189.1180  203.648   402291859  182.731333  1.114467   203.648  139.404  0.717949\n",
      "2017-05-01 00:00:00-04:00  203.8420  228.7340  200.3220  219.446   700027082  191.687333  1.144812   219.446  139.404  0.717949\n",
      "2017-06-01 00:00:00-04:00  220.0580  259.9800  215.7880  240.246  1004874330  205.675333  1.168084   240.246  144.984  0.717949\n",
      "2017-07-01 00:00:00-04:00  242.0960  271.4240  236.0250  262.376   550583292  219.323000  1.196300   262.376  156.318  0.717949\n",
      "2017-08-01 00:00:00-04:00  264.8700  289.2690  238.7180  268.818   980923638  231.712333  1.160137   268.818  156.318  0.717949\n",
      "2017-09-01 00:00:00-04:00  269.1900  285.9100  255.2500  263.672   771391212  243.034333  1.084917   268.818  156.318  0.717949\n",
      "2017-10-01 00:00:00-04:00  265.9980  282.7640  256.6700  278.794   813000070  255.558667  1.090920   278.794  156.318  0.717949\n",
      "2017-11-01 00:00:00-04:00  282.6960  309.5400  265.1480  280.272   986837397  265.696333  1.054858   280.272  156.318  0.717949\n",
      "2017-12-01 00:00:00-05:00  277.2160  299.6880  262.4600  282.864   833979177  272.799333  1.036894   282.864  180.490  0.717949\n",
      "2018-01-01 00:00:00-05:00  288.1390  327.9640  280.9400  317.552   883413553  281.995333  1.126090   317.552  194.482  0.717949\n",
      "2018-02-01 00:00:00-05:00  303.2540  313.9200  266.5780  291.960   820960339  285.852333  1.021367   317.552  195.740  0.717949\n",
      "2018-03-01 00:00:00-05:00  292.0800  314.9500  268.6861  280.108   839184353  288.591667  0.970603   317.552  203.648  0.717949\n",
      "2018-04-01 00:00:00-04:00  279.2980  282.8180  250.7000  266.464   651079623  286.536667  0.929947   317.552  219.446  0.717949\n",
      "2018-05-01 00:00:00-04:00  265.4020  295.4040  254.9943  278.854   830748680  286.300333  0.973991   317.552  240.246  0.717949\n",
      "2018-06-01 00:00:00-04:00  280.9300  309.8000  263.2000  275.014   901758200  284.992000  0.964988   317.552  262.376  0.717949\n",
      "2018-07-01 00:00:00-04:00  296.0560  320.0580  285.0640  297.280   729167989  281.613333  1.055632   317.552  263.672  0.717949\n",
      "2018-08-01 00:00:00-04:00  292.2560  301.2099  250.8860  265.202  1291765954  277.153667  0.956877   317.552  263.672  0.717949\n",
      "2018-09-01 00:00:00-04:00  267.4680  294.2435  238.1000  269.770  1858776180  275.430667  0.979448   317.552  265.202  0.717949\n",
      "2018-10-01 00:00:00-04:00  271.3460  276.2360  211.8650  230.920  1568846205  269.506667  0.856825   317.552  230.920  0.717949\n",
      "2018-11-01 00:00:00-04:00  234.9600  267.8200  222.0464  258.174  1536417562  266.060000  0.970360   317.552  230.920  0.717949\n",
      "2018-12-01 00:00:00-05:00  270.2580  276.7100  218.7920  233.884  1116535130  259.205000  0.902313   317.552  230.920  0.717949\n",
      "2019-01-01 00:00:00-05:00  228.7320  285.2140  221.2780  280.816  1113170799  256.461000  1.094966   297.280  230.920  0.717949\n",
      "2019-02-01 00:00:00-05:00  279.3820  306.7700  263.1720  294.894  1301031133  261.409667  1.128091   297.280  230.920  0.717949\n",
      "2019-03-01 00:00:00-05:00  298.2100  310.4240  268.3130  290.790  1910327796  264.913000  1.097681   297.280  230.920  0.717949\n",
      "2019-04-01 00:00:00-04:00  295.8160  310.1490  279.5050  299.826  1340251668  276.397333  1.084764   299.826  230.920  0.717949\n",
      "2019-05-01 00:00:00-04:00  301.3860  313.8070  244.7500  247.212  1863430088  274.570333  0.900359   299.826  230.920  0.717949\n",
      "2019-06-01 00:00:00-04:00  247.6860  281.6560  243.7210  274.074  1496290759  281.268667  0.974421   299.826  230.920  0.717949\n",
      "2019-07-01 00:00:00-04:00  283.9470  292.4800  261.2370  274.924  1468854071  280.286667  0.980867   299.826  230.920  0.717949\n",
      "2019-08-01 00:00:00-04:00  276.5980  301.4170  243.4120  292.160  1491918953  279.831000  1.044059   299.826  230.920  0.717949\n",
      "2019-09-01 00:00:00-04:00  289.3760  312.7952  272.2450  282.456  1279650492  278.442000  1.014416   299.826  230.920  0.717949\n",
      "2019-10-01 00:00:00-04:00  283.2980  315.2400  271.6380  307.322  1478440905  279.691333  1.098790   307.322  233.884  0.717949\n",
      "2019-11-01 00:00:00-04:00  311.2400  348.1600  295.6920  333.934  1899685397  294.145000  1.135270   333.934  233.884  0.717949\n",
      "2019-12-01 00:00:00-05:00  332.6680  364.4000  317.0020  350.498  1972508841  306.882333  1.142125   350.498  247.212  0.717949\n",
      "2020-01-01 00:00:00-05:00  357.9160  391.0400  335.8480  347.432  2823886157  318.967000  1.089241   350.498  247.212  0.717949\n",
      "2020-02-01 00:00:00-05:00  350.0010  384.9000  333.9130  350.162  2236165746  328.634000  1.065508   350.498  247.212  0.717949\n",
      "2020-03-01 00:00:00-05:00  354.9860  373.1720  288.1310  337.982  2316063565  337.888333  1.000277   350.498  247.212  0.717949\n",
      "2020-04-01 00:00:00-04:00  330.1240  395.2340  322.4170  365.612  1583650697  347.603333  1.051808   365.612  247.212  0.717949\n",
      "2020-05-01 00:00:00-04:00  355.3170  431.9604  342.8790  409.150  1857191536  360.139333  1.136088   409.150  274.074  0.717949\n",
      "2020-06-01 00:00:00-04:00  407.9820  480.2040  400.3660  455.316  3090679732  377.609000  1.205787   455.316  274.924  0.717949\n",
      "2020-07-01 00:00:00-04:00  469.8675  570.7340  457.2720  526.234  5297702069  407.409333  1.291659   526.234  282.456  0.717949\n",
      "2020-08-01 00:00:00-04:00  555.6660  646.3400  525.8360  607.882  3776070276  450.362667  1.349761   607.882  282.456  0.717949\n",
      "2020-09-01 00:00:00-04:00  613.6400  644.6220  545.0351  595.354  2929794943  493.258000  1.206983   607.882  307.322  0.717949\n",
      "2020-10-01 00:00:00-04:00  600.2900  672.3240  570.1200  633.110  3548674879  537.841000  1.177132   633.110  333.934  0.717949\n",
      "2020-11-01 00:00:00-04:00  649.1300  837.6100  575.6410  723.170  8615845827  590.177667  1.225343   723.170  337.982  0.717949\n",
      "2020-12-01 00:00:00-05:00  735.2450  795.3800  606.7400  714.470  5343327449  633.370000  1.128045   723.170  337.982  0.717949\n",
      "2021-01-01 00:00:00-05:00  714.0100  858.8500  677.6400  760.650  4387710832  672.439333  1.131180   760.650  337.982  0.717949\n",
      "2021-02-01 00:00:00-05:00  781.7100  878.7515  695.1150  717.900  2684287313  690.775667  1.039266   760.650  337.982  0.717949\n",
      "2021-03-01 00:00:00-05:00  740.2500  758.8650  594.0200  648.690  4774444909  699.665000  0.927144   760.650  365.612  0.717949\n",
      "2021-04-01 00:00:00-04:00  671.9400  710.0300  599.6300  643.790  2861741230  701.445000  0.917805   760.650  409.150  0.717949\n",
      "2021-05-01 00:00:00-04:00  643.8624  672.6199  554.1400  624.760  2806335543  685.043333  0.912001   760.650  455.316  0.717949\n",
      "2021-06-01 00:00:00-04:00  648.1750  708.7399  597.2756  681.420  2774459929  679.535000  1.002774   760.650  526.234  0.717949\n",
      "2021-07-01 00:00:00-04:00  686.9900  693.8900  500.2201  578.490  3012714630  649.175000  0.891116   760.650  578.490  0.717949\n",
      "2021-08-01 00:00:00-04:00  583.8535  618.5335  465.6050  555.660  2510660950  622.135000  0.893150   760.650  555.660  0.717949\n",
      "2021-09-01 00:00:00-04:00  556.2350  587.5800  476.4370  493.820  1974870578  596.323333  0.828108   760.650  493.820  0.717949\n",
      "2021-10-01 00:00:00-04:00  494.9588  609.1425  463.6017  548.400  1932423852  580.425000  0.944825   760.650  493.820  0.717949\n",
      "2021-11-01 00:00:00-04:00  551.4401  614.2850  477.4101  515.440  2202877954  562.205000  0.916819   760.650  493.820  0.717949\n",
      "2021-12-01 00:00:00-05:00  528.7950  535.8999  408.5800  463.050  2849261196  525.810000  0.880641   760.650  463.050  0.717949\n",
      "2022-01-01 00:00:00-05:00  465.7100  518.5450  383.4800  449.560  2510611639  504.321667  0.891415   717.900  449.560  0.717949\n",
      "2022-02-01 00:00:00-05:00  449.2780  480.0950  375.6400  413.680  2014742439  480.658333  0.860653   681.420  413.680  0.717949\n",
      "2022-03-01 00:00:00-05:00  413.7500  445.5112  254.5500  370.920  5294431738  460.175000  0.806041   681.420  370.920  0.717949\n",
      "2022-04-01 00:00:00-04:00  399.4600  420.5200  308.1500  360.910  2734667721  428.926667  0.841426   681.420  360.910  0.717949\n",
      "2022-05-01 00:00:00-04:00  357.4600  397.2649  288.8950  372.210  2944980401  405.055000  0.918912   681.420  360.910  0.717949\n",
      "2022-06-01 00:00:00-04:00  372.3300  468.4189  346.6500  424.830  3535767871  398.685000  1.065578   578.490  360.910  0.717949\n",
      "2022-07-01 00:00:00-04:00  425.6400  458.5150  351.7700  367.860  2167206020  385.068333  0.955311   555.660  360.910  0.717949\n",
      "2022-08-01 00:00:00-04:00  363.4550  424.9799  332.7250  385.910  2407278893  380.440000  1.014378   548.400  360.910  0.717949\n",
      "2022-09-01 00:00:00-04:00  377.3500  390.1900  308.0100  319.200  2346123651  371.820000  0.858480   548.400  319.200  0.717949\n",
      "2022-10-01 00:00:00-04:00  317.7140  345.2637  210.2140  241.230  3321332638  351.873333  0.685559   515.440  241.230  0.717949\n",
      "2022-11-01 00:00:00-04:00  259.7300  354.9200  239.9700  343.490  3876469177  347.086667  0.989638   463.050  241.230  0.717949\n",
      "2022-12-01 00:00:00-05:00  331.4400  375.9944  320.7250  338.490  2787580967  332.696667  1.017413   449.560  241.230  0.717949\n",
      "2023-01-01 00:00:00-05:00  353.4000  440.5000  345.3951  403.930  2297241641  338.708333  1.192560   424.830  241.230  0.717949\n",
      "2023-02-01 00:00:00-05:00  415.2000  424.5050  330.1000  339.520  1973005386  330.976667  1.025812   424.830  241.230  0.717949\n",
      "2023-03-01 00:00:00-05:00  358.8050  390.4699  304.9920  356.980  2747629031  337.273333  1.058429   424.830  241.230  0.717949\n",
      "2023-04-01 00:00:00-04:00  353.5300  365.0150  300.7770  318.560  1920933406  350.161667  0.909751   424.830  241.230  0.717949\n",
      "2023-05-01 00:00:00-04:00  317.1600  343.4800  286.9000  307.010  2455863185  344.081667  0.892259   424.830  241.230  0.717949\n",
      "2023-06-01 00:00:00-04:00  304.3100  377.8549  303.0450  341.520  2649341888  344.586667  0.991100   403.930  241.230  0.717949\n",
      "2023-07-01 00:00:00-04:00  352.3800  427.1625  336.5950  421.050  3013240455  347.440000  1.211864   421.050  241.230  0.717949\n",
      "2023-08-01 00:00:00-04:00  414.9950  438.3836  353.2750  398.270  2896187415  357.231667  1.114879   421.050  241.230  0.717949\n",
      "2023-09-01 00:00:00-04:00  404.4900  417.3200  356.1050  377.150  2000214219  360.593333  1.045915   421.050  241.230  0.717949\n",
      "2023-10-01 00:00:00-04:00  377.2680  406.2363  348.7600  371.890  1784067732  369.481667  1.006518   421.050  307.010  0.717949\n",
      "2023-11-01 00:00:00-04:00  372.1550  453.2400  359.5800  424.060  2078303678  388.990000  1.090157   424.060  307.010  0.717949\n",
      "2023-12-01 00:00:00-05:00  416.4300  435.3050  365.5600  406.960  2835371119  399.896667  1.017663   424.060  307.010  0.717949\n",
      "2024-01-01 00:00:00-05:00  398.9800  420.9700  336.8700  360.860  2890076288  389.865000  0.925602   424.060  307.010  0.717949\n",
      "2024-02-01 00:00:00-05:00  365.9550  371.3373  354.7250  359.120   231815612  383.340000  0.936818   424.060  307.010  0.717949\n"
     ]
    }
   ],
   "source": [
    "# 价格强度\n",
    "cnn['12m_High'] = cnn[CLOSE].rolling(window=12).max()\n",
    "cnn['12m_Low'] = cnn[CLOSE].rolling(window=12).min()\n",
    "cnn.dropna(how='any', inplace=True)\n",
    "new_highs = (cnn[CLOSE] == cnn['12m_High']).sum()\n",
    "new_lows = (cnn[CLOSE] == cnn['12m_Low']).sum()\n",
    "cnn['Strength'] = new_highs / (new_highs + new_lows)\n",
    "\n",
    "print(cnn)"
   ]
  },
  {
   "cell_type": "code",
   "execution_count": 13,
   "id": "3e8180e7-361c-46ab-a8a5-25b1d1f805a9",
   "metadata": {},
   "outputs": [
    {
     "name": "stdout",
     "output_type": "stream",
     "text": [
      "                               open      high       low    close      volume       6m_MA  Momentum  12m_High  12m_Low  Strength   Breadth  Volatility  Volume_Change\n",
      "date                                                                                                                                                                \n",
      "2017-01-01 00:00:00-05:00  158.8260  185.0160  156.7910  180.490   489884828  171.097667  1.054895   180.490  121.442  0.717949  0.515464    0.078670       0.061687\n",
      "2017-02-01 00:00:00-05:00  181.9380  198.0600  177.9282  194.482   407946912  176.012333  1.104934   194.482  130.640  0.717949  0.515464    0.077362      -0.167260\n",
      "2017-03-01 00:00:00-05:00  196.0140  204.6520  188.0420  195.740   484410167  178.629667  1.095787   195.740  130.640  0.717949  0.515464    0.075311       0.187434\n",
      "2017-04-01 00:00:00-04:00  196.9480  208.8660  189.1180  203.648   402291859  182.731333  1.114467   203.648  139.404  0.717949  0.515464    0.072796      -0.169522\n",
      "2017-05-01 00:00:00-04:00  203.8420  228.7340  200.3220  219.446   700027082  191.687333  1.144812   219.446  139.404  0.717949  0.515464    0.072212       0.740098\n",
      "2017-06-01 00:00:00-04:00  220.0580  259.9800  215.7880  240.246  1004874330  205.675333  1.168084   240.246  144.984  0.717949  0.515464    0.071305       0.435479\n",
      "2017-07-01 00:00:00-04:00  242.0960  271.4240  236.0250  262.376   550583292  219.323000  1.196300   262.376  156.318  0.717949  0.515464    0.072310      -0.452087\n",
      "2017-08-01 00:00:00-04:00  264.8700  289.2690  238.7180  268.818   980923638  231.712333  1.160137   268.818  156.318  0.717949  0.515464    0.067437       0.781608\n",
      "2017-09-01 00:00:00-04:00  269.1900  285.9100  255.2500  263.672   771391212  243.034333  1.084917   268.818  156.318  0.717949  0.515464    0.067873      -0.213607\n",
      "2017-10-01 00:00:00-04:00  265.9980  282.7640  256.6700  278.794   813000070  255.558667  1.090920   278.794  156.318  0.717949  0.515464    0.066934       0.053940\n",
      "2017-11-01 00:00:00-04:00  282.6960  309.5400  265.1480  280.272   986837397  265.696333  1.054858   280.272  156.318  0.717949  0.515464    0.057937       0.213822\n",
      "2017-12-01 00:00:00-05:00  277.2160  299.6880  262.4600  282.864   833979177  272.799333  1.036894   282.864  180.490  0.717949  0.515464    0.049852      -0.154897\n",
      "2018-01-01 00:00:00-05:00  288.1390  327.9640  280.9400  317.552   883413553  281.995333  1.126090   317.552  194.482  0.717949  0.515464    0.044405       0.059275\n",
      "2018-02-01 00:00:00-05:00  303.2540  313.9200  266.5780  291.960   820960339  285.852333  1.021367   317.552  195.740  0.717949  0.515464    0.056896      -0.070695\n",
      "2018-03-01 00:00:00-05:00  292.0800  314.9500  268.6861  280.108   839184353  288.591667  0.970603   317.552  203.648  0.717949  0.515464    0.060609       0.022198\n",
      "2018-04-01 00:00:00-04:00  279.2980  282.8180  250.7000  266.464   651079623  286.536667  0.929947   317.552  219.446  0.717949  0.515464    0.064797      -0.224152\n",
      "2018-05-01 00:00:00-04:00  265.4020  295.4040  254.9943  278.854   830748680  286.300333  0.973991   317.552  240.246  0.717949  0.515464    0.063083       0.275956\n",
      "2018-06-01 00:00:00-04:00  280.9300  309.8000  263.2000  275.014   901758200  284.992000  0.964988   317.552  262.376  0.717949  0.515464    0.059363       0.085477\n",
      "2018-07-01 00:00:00-04:00  296.0560  320.0580  285.0640  297.280   729167989  281.613333  1.055632   317.552  263.672  0.717949  0.515464    0.058084      -0.191393\n",
      "2018-08-01 00:00:00-04:00  292.2560  301.2099  250.8860  265.202  1291765954  277.153667  0.956877   317.552  263.672  0.717949  0.515464    0.067327       0.771562\n",
      "2018-09-01 00:00:00-04:00  267.4680  294.2435  238.1000  269.770  1858776180  275.430667  0.979448   317.552  265.202  0.717949  0.515464    0.067160       0.438942\n",
      "2018-10-01 00:00:00-04:00  271.3460  276.2360  211.8650  230.920  1568846205  269.506667  0.856825   317.552  230.920  0.717949  0.515464    0.077039      -0.155979\n",
      "2018-11-01 00:00:00-04:00  234.9600  267.8200  222.0464  258.174  1536417562  266.060000  0.970360   317.552  230.920  0.717949  0.515464    0.085820      -0.020670\n",
      "2018-12-01 00:00:00-05:00  270.2580  276.7100  218.7920  233.884  1116535130  259.205000  0.902313   317.552  230.920  0.717949  0.515464    0.089537      -0.273287\n",
      "2019-01-01 00:00:00-05:00  228.7320  285.2140  221.2780  280.816  1113170799  256.461000  1.094966   297.280  230.920  0.717949  0.515464    0.102151      -0.003013\n",
      "2019-02-01 00:00:00-05:00  279.3820  306.7700  263.1720  294.894  1301031133  261.409667  1.128091   297.280  230.920  0.717949  0.515464    0.100373       0.168761\n",
      "2019-03-01 00:00:00-05:00  298.2100  310.4240  268.3130  290.790  1910327796  264.913000  1.097681   297.280  230.920  0.717949  0.515464    0.099554       0.468318\n",
      "2019-04-01 00:00:00-04:00  295.8160  310.1490  279.5050  299.826  1340251668  276.397333  1.084764   299.826  230.920  0.717949  0.515464    0.098106      -0.298418\n",
      "2019-05-01 00:00:00-04:00  301.3860  313.8070  244.7500  247.212  1863430088  274.570333  0.900359   299.826  230.920  0.717949  0.515464    0.111486       0.390358\n",
      "2019-06-01 00:00:00-04:00  247.6860  281.6560  243.7210  274.074  1496290759  281.268667  0.974421   299.826  230.920  0.717949  0.515464    0.116045      -0.197023\n",
      "2019-07-01 00:00:00-04:00  283.9470  292.4800  261.2370  274.924  1468854071  280.286667  0.980867   299.826  230.920  0.717949  0.515464    0.113621      -0.018336\n",
      "2019-08-01 00:00:00-04:00  276.5980  301.4170  243.4120  292.160  1491918953  279.831000  1.044059   299.826  230.920  0.717949  0.515464    0.109567       0.015703\n",
      "2019-09-01 00:00:00-04:00  289.3760  312.7952  272.2450  282.456  1279650492  278.442000  1.014416   299.826  230.920  0.717949  0.515464    0.110382      -0.142279\n",
      "2019-10-01 00:00:00-04:00  283.2980  315.2400  271.6380  307.322  1478440905  279.691333  1.098790   307.322  233.884  0.717949  0.515464    0.100975       0.155347\n",
      "2019-11-01 00:00:00-04:00  311.2400  348.1600  295.6920  333.934  1899685397  294.145000  1.135270   333.934  233.884  0.717949  0.515464    0.098836       0.284925\n",
      "2019-12-01 00:00:00-05:00  332.6680  364.4000  317.0020  350.498  1972508841  306.882333  1.142125   350.498  247.212  0.717949  0.515464    0.091361       0.038334\n",
      "2020-01-01 00:00:00-05:00  357.9160  391.0400  335.8480  347.432  2823886157  318.967000  1.089241   350.498  247.212  0.717949  0.515464    0.076250       0.431622\n",
      "2020-02-01 00:00:00-05:00  350.0010  384.9000  333.9130  350.162  2236165746  328.634000  1.065508   350.498  247.212  0.717949  0.515464    0.075742      -0.208125\n",
      "2020-03-01 00:00:00-05:00  354.9860  373.1720  288.1310  337.982  2316063565  337.888333  1.000277   350.498  247.212  0.717949  0.515464    0.076754       0.035730\n",
      "2020-04-01 00:00:00-04:00  330.1240  395.2340  322.4170  365.612  1583650697  347.603333  1.051808   365.612  247.212  0.717949  0.515464    0.079051      -0.316232\n",
      "2020-05-01 00:00:00-04:00  355.3170  431.9604  342.8790  409.150  1857191536  360.139333  1.136088   409.150  274.074  0.717949  0.515464    0.055027       0.172728\n",
      "2020-06-01 00:00:00-04:00  407.9820  480.2040  400.3660  455.316  3090679732  377.609000  1.205787   455.316  274.924  0.717949  0.515464    0.055482       0.664169\n",
      "2020-07-01 00:00:00-04:00  469.8675  570.7340  457.2720  526.234  5297702069  407.409333  1.291659   526.234  282.456  0.717949  0.515464    0.062204       0.714090\n",
      "2020-08-01 00:00:00-04:00  555.6660  646.3400  525.8360  607.882  3776070276  450.362667  1.349761   607.882  282.456  0.717949  0.515464    0.068357      -0.287225\n",
      "2020-09-01 00:00:00-04:00  613.6400  644.6220  545.0351  595.354  2929794943  493.258000  1.206983   607.882  307.322  0.717949  0.515464    0.066789      -0.224115\n",
      "2020-10-01 00:00:00-04:00  600.2900  672.3240  570.1200  633.110  3548674879  537.841000  1.177132   633.110  333.934  0.717949  0.515464    0.066429       0.211237\n",
      "2020-11-01 00:00:00-04:00  649.1300  837.6100  575.6410  723.170  8615845827  590.177667  1.225343   723.170  337.982  0.717949  0.515464    0.069998       1.427905\n",
      "2020-12-01 00:00:00-05:00  735.2450  795.3800  606.7400  714.470  5343327449  633.370000  1.128045   723.170  337.982  0.717949  0.515464    0.073685      -0.379826\n",
      "2021-01-01 00:00:00-05:00  714.0100  858.8500  677.6400  760.650  4387710832  672.439333  1.131180   760.650  337.982  0.717949  0.515464    0.070103      -0.178843\n",
      "2021-02-01 00:00:00-05:00  781.7100  878.7515  695.1150  717.900  2684287313  690.775667  1.039266   760.650  337.982  0.717949  0.515464    0.077302      -0.388226\n",
      "2021-03-01 00:00:00-05:00  740.2500  758.8650  594.0200  648.690  4774444909  699.665000  0.927144   760.650  365.612  0.717949  0.515464    0.086034       0.778664\n",
      "2021-04-01 00:00:00-04:00  671.9400  710.0300  599.6300  643.790  2861741230  701.445000  0.917805   760.650  409.150  0.717949  0.515464    0.087745      -0.400613\n",
      "2021-05-01 00:00:00-04:00  643.8624  672.6199  554.1400  624.760  2806335543  685.043333  0.912001   760.650  455.316  0.717949  0.515464    0.087859      -0.019361\n",
      "2021-06-01 00:00:00-04:00  648.1750  708.7399  597.2756  681.420  2774459929  679.535000  1.002774   760.650  526.234  0.717949  0.515464    0.086395      -0.011358\n",
      "2021-07-01 00:00:00-04:00  686.9900  693.8900  500.2201  578.490  3012714630  649.175000  0.891116   760.650  578.490  0.717949  0.515464    0.093325       0.085874\n",
      "2021-08-01 00:00:00-04:00  583.8535  618.5335  465.6050  555.660  2510660950  622.135000  0.893150   760.650  555.660  0.717949  0.515464    0.082441      -0.166645\n",
      "2021-09-01 00:00:00-04:00  556.2350  587.5800  476.4370  493.820  1974870578  596.323333  0.828108   760.650  493.820  0.717949  0.515464    0.088036      -0.213406\n",
      "2021-10-01 00:00:00-04:00  494.9588  609.1425  463.6017  548.400  1932423852  580.425000  0.944825   760.650  493.820  0.717949  0.515464    0.092630      -0.021493\n",
      "2021-11-01 00:00:00-04:00  551.4401  614.2850  477.4101  515.440  2202877954  562.205000  0.916819   760.650  493.820  0.717949  0.515464    0.080413       0.139956\n",
      "2021-12-01 00:00:00-05:00  528.7950  535.8999  408.5800  463.050  2849261196  525.810000  0.880641   760.650  463.050  0.717949  0.515464    0.083229       0.293427\n",
      "2022-01-01 00:00:00-05:00  465.7100  518.5450  383.4800  449.560  2510611639  504.321667  0.891415   717.900  449.560  0.717949  0.515464    0.077507      -0.118855\n",
      "2022-02-01 00:00:00-05:00  449.2780  480.0950  375.6400  413.680  2014742439  480.658333  0.860653   681.420  413.680  0.717949  0.515464    0.078249      -0.197509\n",
      "2022-03-01 00:00:00-05:00  413.7500  445.5112  254.5500  370.920  5294431738  460.175000  0.806041   681.420  370.920  0.717949  0.515464    0.078713       1.627845\n",
      "2022-04-01 00:00:00-04:00  399.4600  420.5200  308.1500  360.910  2734667721  428.926667  0.841426   681.420  360.910  0.717949  0.515464    0.078123      -0.483482\n",
      "2022-05-01 00:00:00-04:00  357.4600  397.2649  288.8950  372.210  2944980401  405.055000  0.918912   681.420  360.910  0.717949  0.515464    0.081085       0.076906\n",
      "2022-06-01 00:00:00-04:00  372.3300  468.4189  346.6500  424.830  3535767871  398.685000  1.065578   578.490  360.910  0.717949  0.515464    0.089362       0.200608\n",
      "2022-07-01 00:00:00-04:00  425.6400  458.5150  351.7700  367.860  2167206020  385.068333  0.955311   555.660  360.910  0.717949  0.515464    0.087475      -0.387062\n",
      "2022-08-01 00:00:00-04:00  363.4550  424.9799  332.7250  385.910  2407278893  380.440000  1.014378   548.400  360.910  0.717949  0.515464    0.090608       0.110775\n",
      "2022-09-01 00:00:00-04:00  377.3500  390.1900  308.0100  319.200  2346123651  371.820000  0.858480   548.400  319.200  0.717949  0.515464    0.097358      -0.025404\n",
      "2022-10-01 00:00:00-04:00  317.7140  345.2637  210.2140  241.230  3321332638  351.873333  0.685559   515.440  241.230  0.717949  0.515464    0.104014       0.415668\n",
      "2022-11-01 00:00:00-04:00  259.7300  354.9200  239.9700  343.490  3876469177  347.086667  0.989638   463.050  241.230  0.717949  0.515464    0.174383       0.167143\n",
      "2022-12-01 00:00:00-05:00  331.4400  375.9944  320.7250  338.490  2787580967  332.696667  1.017413   449.560  241.230  0.717949  0.515464    0.172503      -0.280897\n",
      "2023-01-01 00:00:00-05:00  353.4000  440.5000  345.3951  403.930  2297241641  338.708333  1.192560   424.830  241.230  0.717949  0.515464    0.182320      -0.175901\n",
      "2023-02-01 00:00:00-05:00  415.2000  424.5050  330.1000  339.520  1973005386  330.976667  1.025812   424.830  241.230  0.717949  0.515464    0.187085      -0.141142\n",
      "2023-03-01 00:00:00-05:00  358.8050  390.4699  304.9920  356.980  2747629031  337.273333  1.058429   424.830  241.230  0.717949  0.515464    0.184736       0.392611\n",
      "2023-04-01 00:00:00-04:00  353.5300  365.0150  300.7770  318.560  1920933406  350.161667  0.909751   424.830  241.230  0.717949  0.515464    0.187707      -0.300876\n",
      "2023-05-01 00:00:00-04:00  317.1600  343.4800  286.9000  307.010  2455863185  344.081667  0.892259   424.830  241.230  0.717949  0.515464    0.187853       0.278474\n",
      "2023-06-01 00:00:00-04:00  304.3100  377.8549  303.0450  341.520  2649341888  344.586667  0.991100   403.930  241.230  0.717949  0.515464    0.186036       0.078782\n",
      "2023-07-01 00:00:00-04:00  352.3800  427.1625  336.5950  421.050  3013240455  347.440000  1.211864   421.050  241.230  0.717949  0.515464    0.192617       0.137354\n",
      "2023-08-01 00:00:00-04:00  414.9950  438.3836  353.2750  398.270  2896187415  357.231667  1.114879   421.050  241.230  0.717949  0.515464    0.193857      -0.038846\n",
      "2023-09-01 00:00:00-04:00  404.4900  417.3200  356.1050  377.150  2000214219  360.593333  1.045915   421.050  241.230  0.717949  0.515464    0.186018      -0.309363\n",
      "2023-10-01 00:00:00-04:00  377.2680  406.2363  348.7600  371.890  1784067732  369.481667  1.006518   421.050  307.010  0.717949  0.515464    0.166107      -0.108062\n",
      "2023-11-01 00:00:00-04:00  372.1550  453.2400  359.5800  424.060  2078303678  388.990000  1.090157   424.060  307.010  0.717949  0.515464    0.122088       0.164924\n",
      "2023-12-01 00:00:00-05:00  416.4300  435.3050  365.5600  406.960  2835371119  399.896667  1.017663   424.060  307.010  0.717949  0.515464    0.123056       0.364272\n",
      "2024-01-01 00:00:00-05:00  398.9800  420.9700  336.8700  360.860  2890076288  389.865000  0.925602   424.060  307.010  0.717949  0.515464    0.115901       0.019294\n",
      "2024-02-01 00:00:00-05:00  365.9550  371.3373  354.7250  359.120   231815612  383.340000  0.936818   424.060  307.010  0.717949  0.515464    0.105065      -0.919789\n"
     ]
    }
   ],
   "source": [
    "# 价格宽度\n",
    "advances = (cnn[CLOSE].diff() > 0).sum()\n",
    "declines = (cnn[CLOSE].diff() < 0).sum()\n",
    "cnn['Breadth'] = advances / (advances + declines)\n",
    "# 市场波动\n",
    "cnn['Volatility'] = cnn[CLOSE].pct_change().rolling(window=12).std()\n",
    "# 市场成交量\n",
    "cnn['Volume_Change'] = cnn['volume'].pct_change()\n",
    "cnn.dropna(how='any', inplace=True)\n",
    "print(cnn)"
   ]
  },
  {
   "cell_type": "code",
   "execution_count": 14,
   "id": "2ef6a064-0745-429a-a141-7ff2429cce78",
   "metadata": {},
   "outputs": [
    {
     "name": "stdout",
     "output_type": "stream",
     "text": [
      "                               open      high       low    close      volume       6m_MA  Momentum  12m_High  12m_Low  Strength   Breadth  Volatility  Volume_Change  Fear_Greed_Index\n",
      "date                                                                                                                                                                                  \n",
      "2017-01-01 00:00:00-05:00  158.8260  185.0160  156.7910  180.490   489884828  171.097667  1.054895   180.490  121.442  0.717949  0.515464    0.078670       0.061687         39.019303\n",
      "2017-02-01 00:00:00-05:00  181.9380  198.0600  177.9282  194.482   407946912  176.012333  1.104934   194.482  130.640  0.717949  0.515464    0.077362      -0.167260         38.243289\n",
      "2017-03-01 00:00:00-05:00  196.0140  204.6520  188.0420  195.740   484410167  178.629667  1.095787   195.740  130.640  0.717949  0.515464    0.075311       0.187434         41.967650\n",
      "2017-04-01 00:00:00-04:00  196.9480  208.8660  189.1180  203.648   402291859  182.731333  1.114467   203.648  139.404  0.717949  0.515464    0.072796      -0.169522         37.673739\n",
      "2017-05-01 00:00:00-04:00  203.8420  228.7340  200.3220  219.446   700027082  191.687333  1.144812   219.446  139.404  0.717949  0.515464    0.072212       0.740098         50.967847\n",
      "2017-06-01 00:00:00-04:00  220.0580  259.9800  215.7880  240.246  1004874330  205.675333  1.168084   240.246  144.984  0.717949  0.515464    0.071305       0.435479         47.947873\n",
      "2017-07-01 00:00:00-04:00  242.0960  271.4240  236.0250  262.376   550583292  219.323000  1.196300   262.376  156.318  0.717949  0.515464    0.072310      -0.452087         37.975085\n",
      "2017-08-01 00:00:00-04:00  264.8700  289.2690  238.7180  268.818   980923638  231.712333  1.160137   268.818  156.318  0.717949  0.515464    0.067437       0.781608         51.215098\n",
      "2017-09-01 00:00:00-04:00  269.1900  285.9100  255.2500  263.672   771391212  243.034333  1.084917   268.818  156.318  0.717949  0.515464    0.067873      -0.213607         34.515836\n",
      "2017-10-01 00:00:00-04:00  265.9980  282.7640  256.6700  278.794   813000070  255.558667  1.090920   278.794  156.318  0.717949  0.515464    0.066934       0.053940         38.108254\n",
      "2017-11-01 00:00:00-04:00  282.6960  309.5400  265.1480  280.272   986837397  265.696333  1.054858   280.272  156.318  0.717949  0.515464    0.057937       0.213822         36.383674\n",
      "2017-12-01 00:00:00-05:00  277.2160  299.6880  262.4600  282.864   833979177  272.799333  1.036894   282.864  180.490  0.717949  0.515464    0.049852      -0.154897         28.854603\n",
      "2018-01-01 00:00:00-05:00  288.1390  327.9640  280.9400  317.552   883413553  281.995333  1.126090   317.552  194.482  0.717949  0.515464    0.044405       0.059275         34.918367\n",
      "2018-02-01 00:00:00-05:00  303.2540  313.9200  266.5780  291.960   820960339  285.852333  1.021367   317.552  195.740  0.717949  0.515464    0.056896      -0.070695         30.748103\n",
      "2018-03-01 00:00:00-05:00  292.0800  314.9500  268.6861  280.108   839184353  288.591667  0.970603   317.552  203.648  0.717949  0.515464    0.060609       0.022198         30.244174\n",
      "2018-04-01 00:00:00-04:00  279.2980  282.8180  250.7000  266.464   651079623  286.536667  0.929947   317.552  219.446  0.717949  0.515464    0.064797      -0.224152         25.914513\n",
      "2018-05-01 00:00:00-04:00  265.4020  295.4040  254.9943  278.854   830748680  286.300333  0.973991   317.552  240.246  0.717949  0.515464    0.063083       0.275956         34.286045\n",
      "2018-06-01 00:00:00-04:00  280.9300  309.8000  263.2000  275.014   901758200  284.992000  0.964988   317.552  262.376  0.717949  0.515464    0.059363       0.085477         30.512368\n",
      "2018-07-01 00:00:00-04:00  296.0560  320.0580  285.0640  297.280   729167989  281.613333  1.055632   317.552  263.672  0.717949  0.515464    0.058084      -0.191393         31.153503\n",
      "2018-08-01 00:00:00-04:00  292.2560  301.2099  250.8860  265.202  1291765954  277.153667  0.956877   317.552  263.672  0.717949  0.515464    0.067327       0.771562         40.858436\n",
      "2018-09-01 00:00:00-04:00  267.4680  294.2435  238.1000  269.770  1858776180  275.430667  0.979448   317.552  265.202  0.717949  0.515464    0.067160       0.438942         37.601717\n",
      "2018-10-01 00:00:00-04:00  271.3460  276.2360  211.8650  230.920  1568846205  269.506667  0.856825   317.552  230.920  0.717949  0.515464    0.077039      -0.155979         25.867281\n",
      "2018-11-01 00:00:00-04:00  234.9600  267.8200  222.0464  258.174  1536417562  266.060000  0.970360   317.552  230.920  0.717949  0.515464    0.085820      -0.020670         35.293961\n",
      "2018-12-01 00:00:00-05:00  270.2580  276.7100  218.7920  233.884  1116535130  259.205000  0.902313   317.552  230.920  0.717949  0.515464    0.089537      -0.273287         29.402838\n",
      "2019-01-01 00:00:00-05:00  228.7320  285.2140  221.2780  280.816  1113170799  256.461000  1.094966   297.280  230.920  0.717949  0.515464    0.102151      -0.003013         45.420844\n",
      "2019-02-01 00:00:00-05:00  279.3820  306.7700  263.1720  294.894  1301031133  261.409667  1.128091   297.280  230.920  0.717949  0.515464    0.100373       0.168761         48.934173\n",
      "2019-03-01 00:00:00-05:00  298.2100  310.4240  268.3130  290.790  1910327796  264.913000  1.097681   297.280  230.920  0.717949  0.515464    0.099554       0.468318         51.144873\n",
      "2019-04-01 00:00:00-04:00  295.8160  310.1490  279.5050  299.826  1340251668  276.397333  1.084764   299.826  230.920  0.717949  0.515464    0.098106      -0.298418         40.141614\n",
      "2019-05-01 00:00:00-04:00  301.3860  313.8070  244.7500  247.212  1863430088  274.570333  0.900359   299.826  230.920  0.717949  0.515464    0.111486       0.390358         42.883388\n",
      "2019-06-01 00:00:00-04:00  247.6860  281.6560  243.7210  274.074  1496290759  281.268667  0.974421   299.826  230.920  0.717949  0.515464    0.116045      -0.197023         39.931717\n",
      "2019-07-01 00:00:00-04:00  283.9470  292.4800  261.2370  274.924  1468854071  280.286667  0.980867   299.826  230.920  0.717949  0.515464    0.113621      -0.018336         42.052453\n",
      "2019-08-01 00:00:00-04:00  276.5980  301.4170  243.4120  292.160  1491918953  279.831000  1.044059   299.826  230.920  0.717949  0.515464    0.109567       0.015703         44.764917\n",
      "2019-09-01 00:00:00-04:00  289.3760  312.7952  272.2450  282.456  1279650492  278.442000  1.014416   299.826  230.920  0.717949  0.515464    0.110382      -0.142279         41.392203\n",
      "2019-10-01 00:00:00-04:00  283.2980  315.2400  271.6380  307.322  1478440905  279.691333  1.098790   307.322  233.884  0.717949  0.515464    0.100975       0.155347         47.422532\n",
      "2019-11-01 00:00:00-04:00  311.2400  348.1600  295.6920  333.934  1899685397  294.145000  1.135270   333.934  233.884  0.717949  0.515464    0.098836       0.284925         50.471493\n",
      "2019-12-01 00:00:00-05:00  332.6680  364.4000  317.0020  350.498  1972508841  306.882333  1.142125   350.498  247.212  0.717949  0.515464    0.091361       0.038334         45.922061\n",
      "2020-01-01 00:00:00-05:00  357.9160  391.0400  335.8480  347.432  2823886157  318.967000  1.089241   350.498  247.212  0.717949  0.515464    0.076250       0.431622         45.043489\n",
      "2020-02-01 00:00:00-05:00  350.0010  384.9000  333.9130  350.162  2236165746  328.634000  1.065508   350.498  247.212  0.717949  0.515464    0.075742      -0.208125         35.368635\n",
      "2020-03-01 00:00:00-05:00  354.9860  373.1720  288.1310  337.982  2316063565  337.888333  1.000277   350.498  247.212  0.717949  0.515464    0.076754       0.035730         35.511290\n",
      "2020-04-01 00:00:00-04:00  330.1240  395.2340  322.4170  365.612  1583650697  347.603333  1.051808   365.612  247.212  0.717949  0.515464    0.079051      -0.316232         34.004756\n",
      "2020-05-01 00:00:00-04:00  355.3170  431.9604  342.8790  409.150  1857191536  360.139333  1.136088   409.150  274.074  0.717949  0.515464    0.055027       0.172728         39.273506\n",
      "2020-06-01 00:00:00-04:00  407.9820  480.2040  400.3660  455.316  3090679732  377.609000  1.205787   455.316  274.924  0.717949  0.515464    0.055482       0.664169         49.303042\n",
      "2020-07-01 00:00:00-04:00  469.8675  570.7340  457.2720  526.234  5297702069  407.409333  1.291659   526.234  282.456  0.717949  0.515464    0.062204       0.714090         55.764948\n",
      "2020-08-01 00:00:00-04:00  555.6660  646.3400  525.8360  607.882  3776070276  450.362667  1.349761   607.882  282.456  0.717949  0.515464    0.068357      -0.287225         46.951880\n",
      "2020-09-01 00:00:00-04:00  613.6400  644.6220  545.0351  595.354  2929794943  493.258000  1.206983   607.882  307.322  0.717949  0.515464    0.066789      -0.224115         40.262598\n",
      "2020-10-01 00:00:00-04:00  600.2900  672.3240  570.1200  633.110  3548674879  537.841000  1.177132   633.110  333.934  0.717949  0.515464    0.066429       0.211237         44.380441\n",
      "2020-11-01 00:00:00-04:00  649.1300  837.6100  575.6410  723.170  8615845827  590.177667  1.225343   723.170  337.982  0.717949  0.515464    0.069998       1.427905         63.514771\n",
      "2020-12-01 00:00:00-05:00  735.2450  795.3800  606.7400  714.470  5343327449  633.370000  1.128045   723.170  337.982  0.717949  0.515464    0.073685      -0.379826         35.801796\n",
      "2021-01-01 00:00:00-05:00  714.0100  858.8500  677.6400  760.650  4387710832  672.439333  1.131180   760.650  337.982  0.717949  0.515464    0.070103      -0.178843         37.789749\n",
      "2021-02-01 00:00:00-05:00  781.7100  878.7515  695.1150  717.900  2684287313  690.775667  1.039266   760.650  337.982  0.717949  0.515464    0.077302      -0.388226         32.043149\n",
      "2021-03-01 00:00:00-05:00  740.2500  758.8650  594.0200  648.690  4774444909  699.665000  0.927144   760.650  365.612  0.717949  0.515464    0.086034       0.778664         43.631415\n",
      "2021-04-01 00:00:00-04:00  671.9400  710.0300  599.6300  643.790  2861741230  701.445000  0.917805   760.650  409.150  0.717949  0.515464    0.087745      -0.400613         28.114788\n",
      "2021-05-01 00:00:00-04:00  643.8624  672.6199  554.1400  624.760  2806335543  685.043333  0.912001   760.650  455.316  0.717949  0.515464    0.087859      -0.019361         32.837159\n",
      "2021-06-01 00:00:00-04:00  648.1750  708.7399  597.2756  681.420  2774459929  679.535000  1.002774   760.650  526.234  0.717949  0.515464    0.086395      -0.011358         37.170774\n",
      "2021-07-01 00:00:00-04:00  686.9900  693.8900  500.2201  578.490  3012714630  649.175000  0.891116   760.650  578.490  0.717949  0.515464    0.093325       0.085874         34.384984\n",
      "2021-08-01 00:00:00-04:00  583.8535  618.5335  465.6050  555.660  2510660950  622.135000  0.893150   760.650  555.660  0.717949  0.515464    0.082441      -0.166645         28.755718\n",
      "2021-09-01 00:00:00-04:00  556.2350  587.5800  476.4370  493.820  1974870578  596.323333  0.828108   760.650  493.820  0.717949  0.515464    0.088036      -0.213406         26.127542\n",
      "2021-10-01 00:00:00-04:00  494.9588  609.1425  463.6017  548.400  1932423852  580.425000  0.944825   760.650  493.820  0.717949  0.515464    0.092630      -0.021493         35.520552\n",
      "2021-11-01 00:00:00-04:00  551.4401  614.2850  477.4101  515.440  2202877954  562.205000  0.916819   760.650  493.820  0.717949  0.515464    0.080413       0.139956         33.502627\n",
      "2021-12-01 00:00:00-05:00  528.7950  535.8999  408.5800  463.050  2849261196  525.810000  0.880641   760.650  463.050  0.717949  0.515464    0.083229       0.293427         34.323173\n",
      "2022-01-01 00:00:00-05:00  465.7100  518.5450  383.4800  449.560  2510611639  504.321667  0.891415   717.900  449.560  0.717949  0.515464    0.077507      -0.118855         28.193427\n",
      "2022-02-01 00:00:00-05:00  449.2780  480.0950  375.6400  413.680  2014742439  480.658333  0.860653   681.420  413.680  0.717949  0.515464    0.078249      -0.197509         25.785990\n",
      "2022-03-01 00:00:00-05:00  413.7500  445.5112  254.5500  370.920  5294431738  460.175000  0.806041   681.420  370.920  0.717949  0.515464    0.078713       1.627845         47.031699\n",
      "2022-04-01 00:00:00-04:00  399.4600  420.5200  308.1500  360.910  2734667721  428.926667  0.841426   681.420  360.910  0.717949  0.515464    0.078123      -0.483482         21.051242\n",
      "2022-05-01 00:00:00-04:00  357.4600  397.2649  288.8950  372.210  2944980401  405.055000  0.918912   681.420  360.910  0.717949  0.515464    0.081085       0.076906         32.932629\n",
      "2022-06-01 00:00:00-04:00  372.3300  468.4189  346.6500  424.830  3535767871  398.685000  1.065578   578.490  360.910  0.717949  0.515464    0.089362       0.200608         43.757877\n",
      "2022-07-01 00:00:00-04:00  425.6400  458.5150  351.7700  367.860  2167206020  385.068333  0.955311   555.660  360.910  0.717949  0.515464    0.087475      -0.387062         30.113915\n",
      "2022-08-01 00:00:00-04:00  363.4550  424.9799  332.7250  385.910  2407278893  380.440000  1.014378   548.400  360.910  0.717949  0.515464    0.090608       0.110775         40.290905\n",
      "2022-09-01 00:00:00-04:00  377.3500  390.1900  308.0100  319.200  2346123651  371.820000  0.858480   548.400  319.200  0.717949  0.515464    0.097358      -0.025404         32.190788\n",
      "2022-10-01 00:00:00-04:00  317.7140  345.2637  210.2140  241.230  3321332638  351.873333  0.685559   515.440  241.230  0.717949  0.515464    0.104014       0.415668         30.768125\n",
      "2022-11-01 00:00:00-04:00  259.7300  354.9200  239.9700  343.490  3876469177  347.086667  0.989638   463.050  241.230  0.717949  0.515464    0.174383       0.167143         58.471716\n",
      "2022-12-01 00:00:00-05:00  331.4400  375.9944  320.7250  338.490  2787580967  332.696667  1.017413   449.560  241.230  0.717949  0.515464    0.172503      -0.280897         53.584204\n",
      "2023-01-01 00:00:00-05:00  353.4000  440.5000  345.3951  403.930  2297241641  338.708333  1.192560   424.830  241.230  0.717949  0.515464    0.182320      -0.175901         65.937253\n",
      "2023-02-01 00:00:00-05:00  415.2000  424.5050  330.1000  339.520  1973005386  330.976667  1.025812   424.830  241.230  0.717949  0.515464    0.187085      -0.141142         59.086672\n",
      "2023-03-01 00:00:00-05:00  358.8050  390.4699  304.9920  356.980  2747629031  337.273333  1.058429   424.830  241.230  0.717949  0.515464    0.184736       0.392611         67.183266\n",
      "2023-04-01 00:00:00-04:00  353.5300  365.0150  300.7770  318.560  1920933406  350.161667  0.909751   424.830  241.230  0.717949  0.515464    0.187707      -0.300876         51.310717\n",
      "2023-05-01 00:00:00-04:00  317.1600  343.4800  286.9000  307.010  2455863185  344.081667  0.892259   424.830  241.230  0.717949  0.515464    0.187853       0.278474         58.045590\n",
      "2023-06-01 00:00:00-04:00  304.3100  377.8549  303.0450  341.520  2649341888  344.586667  0.991100   403.930  241.230  0.717949  0.515464    0.186036       0.078782         59.988179\n",
      "2023-07-01 00:00:00-04:00  352.3800  427.1625  336.5950  421.050  3013240455  347.440000  1.211864   421.050  241.230  0.717949  0.515464    0.192617       0.137354         73.301320\n",
      "2023-08-01 00:00:00-04:00  414.9950  438.3836  353.2750  398.270  2896187415  357.231667  1.114879   421.050  241.230  0.717949  0.515464    0.193857      -0.038846         66.405255\n",
      "2023-09-01 00:00:00-04:00  404.4900  417.3200  356.1050  377.150  2000214219  360.593333  1.045915   421.050  241.230  0.717949  0.515464    0.186018      -0.309363         57.656409\n",
      "2023-10-01 00:00:00-04:00  377.2680  406.2363  348.7600  371.890  1784067732  369.481667  1.006518   421.050  307.010  0.717949  0.515464    0.166107      -0.108062         53.872206\n",
      "2023-11-01 00:00:00-04:00  372.1550  453.2400  359.5800  424.060  2078303678  388.990000  1.090157   424.060  307.010  0.717949  0.515464    0.122088       0.164924         51.823615\n",
      "2023-12-01 00:00:00-05:00  416.4300  435.3050  365.5600  406.960  2835371119  399.896667  1.017663   424.060  307.010  0.717949  0.515464    0.123056       0.364272         51.009631\n",
      "2024-01-01 00:00:00-05:00  398.9800  420.9700  336.8700  360.860  2890076288  389.865000  0.925602   424.060  307.010  0.717949  0.515464    0.115901       0.019294         40.280002\n",
      "2024-02-01 00:00:00-05:00  365.9550  371.3373  354.7250  359.120   231815612  383.340000  0.936818   424.060  307.010  0.717949  0.515464    0.105065      -0.919789         26.139014\n"
     ]
    }
   ],
   "source": [
    "# 标准化指标\n",
    "factors = ['Momentum', 'Strength', 'Breadth', 'Volatility', 'Volume_Change']\n",
    "indexation_normalized = (cnn[factors] - cnn[factors].min()) / (cnn[factors].max() - cnn[factors].min())\n",
    "\n",
    "# 计算恐慌贪婪指数\n",
    "cnn['Fear_Greed_Index'] = indexation_normalized.mean(axis=1) * 100\n",
    "\n",
    "# 查看恐慌贪婪指数\n",
    "cnn.dropna(how='any', inplace=True)\n",
    "print(cnn)"
   ]
  },
  {
   "cell_type": "code",
   "execution_count": 15,
   "id": "1c59a96c-bab5-4ccf-9166-4f616a1a3b25",
   "metadata": {},
   "outputs": [
    {
     "name": "stderr",
     "output_type": "stream",
     "text": [
      "/home/zhangruian/.local/lib/python3.11/site-packages/cufflinks/plotlytools.py:117: FutureWarning:\n",
      "\n",
      "DatetimeIndex.format is deprecated and will be removed in a future version. Convert using index.astype(str) or index.map(formatter) instead.\n",
      "\n"
     ]
    },
    {
     "data": {
      "application/vnd.plotly.v1+json": {
       "config": {
        "linkText": "Export to plot.ly",
        "plotlyServerURL": "https://plot.ly",
        "showLink": true
       },
       "data": [
        {
         "line": {
          "color": "rgba(255, 153, 51, 1.0)",
          "dash": "solid",
          "shape": "linear",
          "width": 1.3
         },
         "mode": "lines",
         "name": "Fear_Greed_Index",
         "text": "",
         "type": "scatter",
         "x": [
          "2017-01-01 00:00:00-05:00",
          "2017-02-01 00:00:00-05:00",
          "2017-03-01 00:00:00-05:00",
          "2017-04-01 00:00:00-04:00",
          "2017-05-01 00:00:00-04:00",
          "2017-06-01 00:00:00-04:00",
          "2017-07-01 00:00:00-04:00",
          "2017-08-01 00:00:00-04:00",
          "2017-09-01 00:00:00-04:00",
          "2017-10-01 00:00:00-04:00",
          "2017-11-01 00:00:00-04:00",
          "2017-12-01 00:00:00-05:00",
          "2018-01-01 00:00:00-05:00",
          "2018-02-01 00:00:00-05:00",
          "2018-03-01 00:00:00-05:00",
          "2018-04-01 00:00:00-04:00",
          "2018-05-01 00:00:00-04:00",
          "2018-06-01 00:00:00-04:00",
          "2018-07-01 00:00:00-04:00",
          "2018-08-01 00:00:00-04:00",
          "2018-09-01 00:00:00-04:00",
          "2018-10-01 00:00:00-04:00",
          "2018-11-01 00:00:00-04:00",
          "2018-12-01 00:00:00-05:00",
          "2019-01-01 00:00:00-05:00",
          "2019-02-01 00:00:00-05:00",
          "2019-03-01 00:00:00-05:00",
          "2019-04-01 00:00:00-04:00",
          "2019-05-01 00:00:00-04:00",
          "2019-06-01 00:00:00-04:00",
          "2019-07-01 00:00:00-04:00",
          "2019-08-01 00:00:00-04:00",
          "2019-09-01 00:00:00-04:00",
          "2019-10-01 00:00:00-04:00",
          "2019-11-01 00:00:00-04:00",
          "2019-12-01 00:00:00-05:00",
          "2020-01-01 00:00:00-05:00",
          "2020-02-01 00:00:00-05:00",
          "2020-03-01 00:00:00-05:00",
          "2020-04-01 00:00:00-04:00",
          "2020-05-01 00:00:00-04:00",
          "2020-06-01 00:00:00-04:00",
          "2020-07-01 00:00:00-04:00",
          "2020-08-01 00:00:00-04:00",
          "2020-09-01 00:00:00-04:00",
          "2020-10-01 00:00:00-04:00",
          "2020-11-01 00:00:00-04:00",
          "2020-12-01 00:00:00-05:00",
          "2021-01-01 00:00:00-05:00",
          "2021-02-01 00:00:00-05:00",
          "2021-03-01 00:00:00-05:00",
          "2021-04-01 00:00:00-04:00",
          "2021-05-01 00:00:00-04:00",
          "2021-06-01 00:00:00-04:00",
          "2021-07-01 00:00:00-04:00",
          "2021-08-01 00:00:00-04:00",
          "2021-09-01 00:00:00-04:00",
          "2021-10-01 00:00:00-04:00",
          "2021-11-01 00:00:00-04:00",
          "2021-12-01 00:00:00-05:00",
          "2022-01-01 00:00:00-05:00",
          "2022-02-01 00:00:00-05:00",
          "2022-03-01 00:00:00-05:00",
          "2022-04-01 00:00:00-04:00",
          "2022-05-01 00:00:00-04:00",
          "2022-06-01 00:00:00-04:00",
          "2022-07-01 00:00:00-04:00",
          "2022-08-01 00:00:00-04:00",
          "2022-09-01 00:00:00-04:00",
          "2022-10-01 00:00:00-04:00",
          "2022-11-01 00:00:00-04:00",
          "2022-12-01 00:00:00-05:00",
          "2023-01-01 00:00:00-05:00",
          "2023-02-01 00:00:00-05:00",
          "2023-03-01 00:00:00-05:00",
          "2023-04-01 00:00:00-04:00",
          "2023-05-01 00:00:00-04:00",
          "2023-06-01 00:00:00-04:00",
          "2023-07-01 00:00:00-04:00",
          "2023-08-01 00:00:00-04:00",
          "2023-09-01 00:00:00-04:00",
          "2023-10-01 00:00:00-04:00",
          "2023-11-01 00:00:00-04:00",
          "2023-12-01 00:00:00-05:00",
          "2024-01-01 00:00:00-05:00",
          "2024-02-01 00:00:00-05:00"
         ],
         "y": [
          39.019303212399656,
          38.24328926758078,
          41.96765025843869,
          37.67373871217732,
          50.96784703958921,
          47.9478725914073,
          37.97508451156909,
          51.215098111929876,
          34.51583583262043,
          38.10825425758155,
          36.383673934215025,
          28.85460287525922,
          34.918366724479895,
          30.748103047064664,
          30.244174226864377,
          25.9145131948006,
          34.28604465449347,
          30.512368305562394,
          31.153502979848536,
          40.858435867267076,
          37.6017165403562,
          25.867281439601996,
          35.29396121690014,
          29.402837966033,
          45.42084387400965,
          48.93417318527704,
          51.14487285459428,
          40.14161402014672,
          42.883388365791646,
          39.93171650226762,
          42.05245315923488,
          44.7649166511986,
          41.39220298567607,
          47.42253194021386,
          50.47149274634427,
          45.92206071282759,
          45.04348887581897,
          35.368635101972714,
          35.51129031498129,
          34.00475644252114,
          39.273505516293824,
          49.30304223702608,
          55.76494762388946,
          46.95188035805175,
          40.26259833152201,
          44.380441094203604,
          63.514771012883884,
          35.80179594154791,
          37.789748512622694,
          32.04314935289126,
          43.63141488277922,
          28.114787505454064,
          32.83715880027682,
          37.1707736293595,
          34.38498439368562,
          28.75571844237637,
          26.12754168290623,
          35.52055192262869,
          33.502627115483214,
          34.32317268960859,
          28.19342700559602,
          25.78599032102756,
          47.03169932356139,
          21.05124176173285,
          32.93262900986812,
          43.75787655411176,
          30.11391455549921,
          40.290905106033996,
          32.190787848912485,
          30.76812462947086,
          58.47171614820555,
          53.584204397667875,
          65.93725283417548,
          59.08667183008668,
          67.18326586041896,
          51.310716526142144,
          58.045590353509944,
          59.98817924570474,
          73.3013199557219,
          66.405254957359,
          57.65640852253032,
          53.87220598420785,
          51.823615136151076,
          51.00963144641791,
          40.28000243711431,
          26.139014407505552
         ]
        }
       ],
       "layout": {
        "autosize": true,
        "shapes": [
         {
          "line": {
           "color": "green",
           "dash": "dot",
           "width": 1
          },
          "type": "line",
          "x0": "2017-01-01T00:00:00-05:00",
          "x1": "2024-02-01T00:00:00-05:00",
          "y0": 75,
          "y1": 75
         },
         {
          "line": {
           "color": "gray",
           "dash": "dot",
           "width": 2
          },
          "type": "line",
          "x0": "2017-01-01T00:00:00-05:00",
          "x1": "2024-02-01T00:00:00-05:00",
          "y0": 50,
          "y1": 50
         },
         {
          "line": {
           "color": "red",
           "dash": "dot",
           "width": 1
          },
          "type": "line",
          "x0": "2017-01-01T00:00:00-05:00",
          "x1": "2024-02-01T00:00:00-05:00",
          "y0": 25,
          "y1": 25
         }
        ],
        "title": {
         "text": "Fear & Greed Index (China Main Increasements)"
        },
        "xaxis": {
         "autorange": true,
         "range": [
          "2016-12-29 07:03:15.8159",
          "2024-02-03 16:56:44.1841"
         ],
         "type": "date"
        },
        "y0": 50,
        "yaxis": {
         "range": [
          0,
          100
         ],
         "type": "linear"
        }
       }
      },
      "image/png": "[encoded data removed]",
      "text/html": [
       "<div>                            <div id=\"3e075b50-2fdd-4662-9269-863cd578117c\" class=\"plotly-graph-div\" style=\"height:525px; width:100%;\"></div>            <script type=\"text/javascript\">                require([\"plotly\"], function(Plotly) {                    window.PLOTLYENV=window.PLOTLYENV || {};\n",
       "                    window.PLOTLYENV.BASE_URL='https://plot.ly';                                    if (document.getElementById(\"3e075b50-2fdd-4662-9269-863cd578117c\")) {                    Plotly.newPlot(                        \"3e075b50-2fdd-4662-9269-863cd578117c\",                        [{\"line\":{\"color\":\"rgba(255, 153, 51, 1.0)\",\"dash\":\"solid\",\"shape\":\"linear\",\"width\":1.3},\"mode\":\"lines\",\"name\":\"Fear_Greed_Index\",\"text\":\"\",\"x\":[\"2017-01-01 00:00:00-05:00\",\"2017-02-01 00:00:00-05:00\",\"2017-03-01 00:00:00-05:00\",\"2017-04-01 00:00:00-04:00\",\"2017-05-01 00:00:00-04:00\",\"2017-06-01 00:00:00-04:00\",\"2017-07-01 00:00:00-04:00\",\"2017-08-01 00:00:00-04:00\",\"2017-09-01 00:00:00-04:00\",\"2017-10-01 00:00:00-04:00\",\"2017-11-01 00:00:00-04:00\",\"2017-12-01 00:00:00-05:00\",\"2018-01-01 00:00:00-05:00\",\"2018-02-01 00:00:00-05:00\",\"2018-03-01 00:00:00-05:00\",\"2018-04-01 00:00:00-04:00\",\"2018-05-01 00:00:00-04:00\",\"2018-06-01 00:00:00-04:00\",\"2018-07-01 00:00:00-04:00\",\"2018-08-01 00:00:00-04:00\",\"2018-09-01 00:00:00-04:00\",\"2018-10-01 00:00:00-04:00\",\"2018-11-01 00:00:00-04:00\",\"2018-12-01 00:00:00-05:00\",\"2019-01-01 00:00:00-05:00\",\"2019-02-01 00:00:00-05:00\",\"2019-03-01 00:00:00-05:00\",\"2019-04-01 00:00:00-04:00\",\"2019-05-01 00:00:00-04:00\",\"2019-06-01 00:00:00-04:00\",\"2019-07-01 00:00:00-04:00\",\"2019-08-01 00:00:00-04:00\",\"2019-09-01 00:00:00-04:00\",\"2019-10-01 00:00:00-04:00\",\"2019-11-01 00:00:00-04:00\",\"2019-12-01 00:00:00-05:00\",\"2020-01-01 00:00:00-05:00\",\"2020-02-01 00:00:00-05:00\",\"2020-03-01 00:00:00-05:00\",\"2020-04-01 00:00:00-04:00\",\"2020-05-01 00:00:00-04:00\",\"2020-06-01 00:00:00-04:00\",\"2020-07-01 00:00:00-04:00\",\"2020-08-01 00:00:00-04:00\",\"2020-09-01 00:00:00-04:00\",\"2020-10-01 00:00:00-04:00\",\"2020-11-01 00:00:00-04:00\",\"2020-12-01 00:00:00-05:00\",\"2021-01-01 00:00:00-05:00\",\"2021-02-01 00:00:00-05:00\",\"2021-03-01 00:00:00-05:00\",\"2021-04-01 00:00:00-04:00\",\"2021-05-01 00:00:00-04:00\",\"2021-06-01 00:00:00-04:00\",\"2021-07-01 00:00:00-04:00\",\"2021-08-01 00:00:00-04:00\",\"2021-09-01 00:00:00-04:00\",\"2021-10-01 00:00:00-04:00\",\"2021-11-01 00:00:00-04:00\",\"2021-12-01 00:00:00-05:00\",\"2022-01-01 00:00:00-05:00\",\"2022-02-01 00:00:00-05:00\",\"2022-03-01 00:00:00-05:00\",\"2022-04-01 00:00:00-04:00\",\"2022-05-01 00:00:00-04:00\",\"2022-06-01 00:00:00-04:00\",\"2022-07-01 00:00:00-04:00\",\"2022-08-01 00:00:00-04:00\",\"2022-09-01 00:00:00-04:00\",\"2022-10-01 00:00:00-04:00\",\"2022-11-01 00:00:00-04:00\",\"2022-12-01 00:00:00-05:00\",\"2023-01-01 00:00:00-05:00\",\"2023-02-01 00:00:00-05:00\",\"2023-03-01 00:00:00-05:00\",\"2023-04-01 00:00:00-04:00\",\"2023-05-01 00:00:00-04:00\",\"2023-06-01 00:00:00-04:00\",\"2023-07-01 00:00:00-04:00\",\"2023-08-01 00:00:00-04:00\",\"2023-09-01 00:00:00-04:00\",\"2023-10-01 00:00:00-04:00\",\"2023-11-01 00:00:00-04:00\",\"2023-12-01 00:00:00-05:00\",\"2024-01-01 00:00:00-05:00\",\"2024-02-01 00:00:00-05:00\"],\"y\":[39.019303212399656,38.24328926758078,41.96765025843869,37.67373871217732,50.96784703958921,47.9478725914073,37.97508451156909,51.215098111929876,34.51583583262043,38.10825425758155,36.383673934215025,28.85460287525922,34.918366724479895,30.748103047064664,30.244174226864377,25.9145131948006,34.28604465449347,30.512368305562394,31.153502979848536,40.858435867267076,37.6017165403562,25.867281439601996,35.29396121690014,29.402837966033,45.42084387400965,48.93417318527704,51.14487285459428,40.14161402014672,42.883388365791646,39.93171650226762,42.05245315923488,44.7649166511986,41.39220298567607,47.42253194021386,50.47149274634427,45.92206071282759,45.04348887581897,35.368635101972714,35.51129031498129,34.00475644252114,39.273505516293824,49.30304223702608,55.76494762388946,46.95188035805175,40.26259833152201,44.380441094203604,63.514771012883884,35.80179594154791,37.789748512622694,32.04314935289126,43.63141488277922,28.114787505454064,32.83715880027682,37.1707736293595,34.38498439368562,28.75571844237637,26.12754168290623,35.52055192262869,33.502627115483214,34.32317268960859,28.19342700559602,25.78599032102756,47.03169932356139,21.05124176173285,32.93262900986812,43.75787655411176,30.11391455549921,40.290905106033996,32.190787848912485,30.76812462947086,58.47171614820555,53.584204397667875,65.93725283417548,59.08667183008668,67.18326586041896,51.310716526142144,58.045590353509944,59.98817924570474,73.3013199557219,66.405254957359,57.65640852253032,53.87220598420785,51.823615136151076,51.00963144641791,40.28000243711431,26.139014407505552],\"type\":\"scatter\"}],                        {\"shapes\":[{\"type\":\"line\",\"x0\":\"2017-01-01T00:00:00-05:00\",\"y0\":75,\"x1\":\"2024-02-01T00:00:00-05:00\",\"y1\":75,\"line\":{\"color\":\"green\",\"width\":1,\"dash\":\"dot\"}},{\"type\":\"line\",\"x0\":\"2017-01-01T00:00:00-05:00\",\"y0\":50,\"x1\":\"2024-02-01T00:00:00-05:00\",\"y1\":50,\"line\":{\"color\":\"gray\",\"width\":2,\"dash\":\"dot\"}},{\"type\":\"line\",\"x0\":\"2017-01-01T00:00:00-05:00\",\"y0\":25,\"x1\":\"2024-02-01T00:00:00-05:00\",\"y1\":25,\"line\":{\"color\":\"red\",\"width\":1,\"dash\":\"dot\"}}],\"yaxis\":{\"range\":[0,100]},\"y0\":50,\"title\":\"Fear & Greed Index (China Main Increasements)\"},                        {\"showLink\": true, \"linkText\": \"Export to plot.ly\", \"plotlyServerURL\": \"https://plot.ly\", \"responsive\": true}                    ).then(function(){\n",
       "                            \n",
       "var gd = document.getElementById('3e075b50-2fdd-4662-9269-863cd578117c');\n",
       "var x = new MutationObserver(function (mutations, observer) {{\n",
       "        var display = window.getComputedStyle(gd).display;\n",
       "        if (!display || display === 'none') {{\n",
       "            console.log([gd, 'removed!']);\n",
       "            Plotly.purge(gd);\n",
       "            observer.disconnect();\n",
       "        }}\n",
       "}});\n",
       "\n",
       "// Listen for the removal of the full notebook cells\n",
       "var notebookContainer = gd.closest('#notebook-container');\n",
       "if (notebookContainer) {{\n",
       "    x.observe(notebookContainer, {childList: true});\n",
       "}}\n",
       "\n",
       "// Listen for the clearing of the current output cell\n",
       "var outputEl = gd.closest('.output');\n",
       "if (outputEl) {{\n",
       "    x.observe(outputEl, {childList: true});\n",
       "}}\n",
       "\n",
       "                        })                };                });            </script>        </div>"
      ]
     },
     "metadata": {},
     "output_type": "display_data"
    }
   ],
   "source": [
    "layout = {\n",
    "    'shapes': [\n",
    "        {\n",
    "            'type': 'line',\n",
    "            'x0': cnn.index.min(),\n",
    "            'y0': 75,  # 指定线的y值\n",
    "            'x1': cnn.index.max(),\n",
    "            'y1': 75,  # 线的y值保持不变，因为这是一条水平线\n",
    "            'line': {\n",
    "                'color': 'green',\n",
    "                'width': 1,\n",
    "                'dash': 'dot',  # 线的样式（实线、虚线等）\n",
    "            },\n",
    "        },\n",
    "        {\n",
    "            'type': 'line',\n",
    "            'x0': cnn.index.min(),\n",
    "            'y0': 50,  # 指定线的y值\n",
    "            'x1': cnn.index.max(),\n",
    "            'y1': 50,  # 线的y值保持不变，因为这是一条水平线\n",
    "            'line': {\n",
    "                'color': 'gray',\n",
    "                'width': 2,\n",
    "                'dash': 'dot',  # 线的样式（实线、虚线等）\n",
    "            },\n",
    "        },\n",
    "        {\n",
    "            'type': 'line',\n",
    "            'x0': cnn.index.min(),\n",
    "            'y0': 25,  # 指定线的y值\n",
    "            'x1': cnn.index.max(),\n",
    "            'y1': 25,  # 线的y值保持不变，因为这是一条水平线\n",
    "            'line': {\n",
    "                'color': 'red',\n",
    "                'width': 1,\n",
    "                'dash': 'dot',  # 线的样式（实线、虚线等）\n",
    "            },\n",
    "        }\n",
    "    ],\n",
    "    'yaxis': {\n",
    "        'range': [0, 100]  # 设置y轴的最小值和最大值\n",
    "    },\n",
    "    'y0': 50,  # 指定线的y值\n",
    "    'title': 'Fear & Greed Index (China Main Increasements)'\n",
    "}\n",
    "\n",
    "cnn['Fear_Greed_Index'].iplot(kind='line', layout=layout)"
   ]
  },
  {
   "cell_type": "code",
   "execution_count": null,
   "id": "faae3289-ed8c-4661-a6cb-0a6b603f7582",
   "metadata": {},
   "outputs": [],
   "source": []
  }
 ],
 "metadata": {
  "kernelspec": {
   "display_name": "Python 3 (ipykernel)",
   "language": "python",
   "name": "python3"
  },
  "language_info": {
   "codemirror_mode": {
    "name": "ipython",
    "version": 3
   },
   "file_extension": ".py",
   "mimetype": "text/x-python",
   "name": "python",
   "nbconvert_exporter": "python",
   "pygments_lexer": "ipython3",
   "version": "3.11.6"
  }
 },
 "nbformat": 4,
 "nbformat_minor": 5
}
